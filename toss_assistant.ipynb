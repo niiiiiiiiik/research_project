{
 "cells": [
  {
   "cell_type": "markdown",
   "id": "288b235a",
   "metadata": {},
   "source": [
    "Data Loading and Preprocessing"
   ]
  },
  {
   "cell_type": "code",
   "execution_count": 1,
   "id": "db2afcf5",
   "metadata": {},
   "outputs": [
    {
     "name": "stderr",
     "output_type": "stream",
     "text": [
      "Processing files: 100%|██████████| 1432/1432 [01:22<00:00, 17.27it/s]\n"
     ]
    }
   ],
   "source": [
    "import os\n",
    "import pandas as pd\n",
    "from tqdm import tqdm\n",
    "from yaml import safe_load\n",
    "import pickle\n",
    "import numpy as np\n",
    "\n",
    "\n",
    "data_dir = '/Users/nikhil/Desktop/Research_project/Research_project/t20s'\n",
    "\n",
    "\n",
    "if not os.path.isdir(data_dir):\n",
    "    print(f\"Directory '{data_dir}' does not exist.\")\n",
    "else:\n",
    "    filenames = [os.path.join(data_dir, file) for file in os.listdir(data_dir) if file.endswith('.yaml')]\n",
    "    dfs = []\n",
    "\n",
    "    for counter, file in tqdm(enumerate(filenames), desc=\"Processing files\", total=len(filenames)):\n",
    "        try:\n",
    "            with open(file, 'r', encoding='utf-8') as f:\n",
    "                df = pd.json_normalize(safe_load(f))\n",
    "                df['match_id'] = counter + 1\n",
    "                dfs.append(df)\n",
    "        except Exception as e:\n",
    "            print(f\"Error processing file '{file}': {e}\")\n",
    "\n",
    "    final_df = pd.concat(dfs, ignore_index=True)\n",
    "    pickle.dump(final_df, open('matches.pkl', 'wb'))\n"
   ]
  },
  {
   "cell_type": "markdown",
   "id": "5bef2f99",
   "metadata": {},
   "source": [
    "Utilizes a progress bar (tqdm) for visual tracking of file processing.\n",
    "Opens each YAML file, reads its content, and normalizes it into a pandas DataFrame. Assigns a unique match_id to each match DataFrame.\n",
    "Concatenates all individual match DataFrames into a single DataFrame, which is then serialized using pickle for future use."
   ]
  },
  {
   "cell_type": "markdown",
   "id": "8d53e1af",
   "metadata": {},
   "source": [
    "Data Extraction"
   ]
  },
  {
   "cell_type": "code",
   "execution_count": 3,
   "id": "11602578",
   "metadata": {},
   "outputs": [],
   "source": [
    "matches = pickle.load(open('matches.pkl', 'rb'))\n",
    "delivery_data = []\n",
    "\n",
    "for index, row in matches.iterrows():\n",
    "    for delivery in row['innings'][0]['1st innings']['deliveries']:\n",
    "        for ball_number, details in delivery.items():\n",
    "            delivery_data.append({\n",
    "                'match_id': row['match_id'],\n",
    "                'batting_team': row['innings'][0]['1st innings']['team'],\n",
    "                'ball': ball_number,\n",
    "                'batsman': details['batsman'],\n",
    "                'bowler': details['bowler'],\n",
    "                'runs': details['runs']['total'],\n",
    "                'player_dismissed': details.get('wicket', {}).get('player_out', '0'),\n",
    "                'city': row['info.city'],\n",
    "                'venue': row['info.venue']\n",
    "            })\n",
    "\n",
    "delivery_df = pd.DataFrame(delivery_data)\n",
    "delivery_df.to_csv('delivery_data.csv', index=False)\n"
   ]
  },
  {
   "cell_type": "markdown",
   "id": "ee992fdc",
   "metadata": {},
   "source": [
    "Data Cleaning and Feature Engineering"
   ]
  },
  {
   "cell_type": "code",
   "execution_count": 4,
   "id": "4a7cc6d4",
   "metadata": {},
   "outputs": [],
   "source": [
    "import pandas as pd\n",
    "import matplotlib.pyplot as plt\n",
    "import seaborn as sns\n",
    "from scipy.stats import chi2_contingency\n",
    "\n",
    "# Load the data\n",
    "delivery_df = pd.read_csv('delivery_data.csv')\n",
    "matches = pd.read_pickle('matches.pkl')\n",
    "\n",
    "# Further process match details\n",
    "matches['Date'] = pd.to_datetime(matches['info.dates'].str[0], errors='coerce')\n",
    "\n",
    "# Merge delivery data with match details\n",
    "combined_df = pd.merge(delivery_df, matches, on='match_id', how='inner')\n",
    "\n",
    "\n"
   ]
  },
  {
   "cell_type": "code",
   "execution_count": 5,
   "id": "c57ce84b",
   "metadata": {},
   "outputs": [],
   "source": [
    "combined_df.drop(columns=[\n",
    "    'meta.data_version',\n",
    "    'meta.created',\n",
    "    'meta.revision',\n",
    "    'info.outcome.bowl_out',\n",
    "    'info.bowl_out',\n",
    "    'info.supersubs.South Africa',\n",
    "    'info.supersubs.New Zealand',\n",
    "    'info.outcome.eliminator',\n",
    "    'info.outcome.result',\n",
    "    'info.outcome.method',\n",
    "    'info.neutral_venue',\n",
    "    'info.match_type_number',\n",
    "    'info.outcome.by.runs',\n",
    "    'info.outcome.by.wickets'\n",
    "],inplace=True)"
   ]
  },
  {
   "cell_type": "code",
   "execution_count": 6,
   "id": "38ce87dc",
   "metadata": {},
   "outputs": [
    {
     "data": {
      "text/html": [
       "<div>\n",
       "<style scoped>\n",
       "    .dataframe tbody tr th:only-of-type {\n",
       "        vertical-align: middle;\n",
       "    }\n",
       "\n",
       "    .dataframe tbody tr th {\n",
       "        vertical-align: top;\n",
       "    }\n",
       "\n",
       "    .dataframe thead th {\n",
       "        text-align: right;\n",
       "    }\n",
       "</style>\n",
       "<table border=\"1\" class=\"dataframe\">\n",
       "  <thead>\n",
       "    <tr style=\"text-align: right;\">\n",
       "      <th></th>\n",
       "      <th>match_id</th>\n",
       "      <th>batting_team</th>\n",
       "      <th>ball</th>\n",
       "      <th>batsman</th>\n",
       "      <th>bowler</th>\n",
       "      <th>runs</th>\n",
       "      <th>player_dismissed</th>\n",
       "      <th>city</th>\n",
       "      <th>venue</th>\n",
       "      <th>innings</th>\n",
       "      <th>...</th>\n",
       "      <th>info.match_type</th>\n",
       "      <th>info.outcome.winner</th>\n",
       "      <th>info.overs</th>\n",
       "      <th>info.player_of_match</th>\n",
       "      <th>info.teams</th>\n",
       "      <th>info.toss.decision</th>\n",
       "      <th>info.toss.winner</th>\n",
       "      <th>info.umpires</th>\n",
       "      <th>info.venue</th>\n",
       "      <th>Date</th>\n",
       "    </tr>\n",
       "  </thead>\n",
       "  <tbody>\n",
       "    <tr>\n",
       "      <th>0</th>\n",
       "      <td>1</td>\n",
       "      <td>West Indies</td>\n",
       "      <td>0.1</td>\n",
       "      <td>HK Matthews</td>\n",
       "      <td>Diana Baig</td>\n",
       "      <td>0</td>\n",
       "      <td>HK Matthews</td>\n",
       "      <td>Canberra</td>\n",
       "      <td>Manuka Oval</td>\n",
       "      <td>[{'1st innings': {'team': 'West Indies', 'deli...</td>\n",
       "      <td>...</td>\n",
       "      <td>T20</td>\n",
       "      <td>Pakistan</td>\n",
       "      <td>20</td>\n",
       "      <td>[Javeria Khan]</td>\n",
       "      <td>[Pakistan, West Indies]</td>\n",
       "      <td>bat</td>\n",
       "      <td>West Indies</td>\n",
       "      <td>[CA Polosak, S George]</td>\n",
       "      <td>Manuka Oval</td>\n",
       "      <td>2020-02-26</td>\n",
       "    </tr>\n",
       "    <tr>\n",
       "      <th>1</th>\n",
       "      <td>1</td>\n",
       "      <td>West Indies</td>\n",
       "      <td>0.2</td>\n",
       "      <td>SR Taylor</td>\n",
       "      <td>Diana Baig</td>\n",
       "      <td>0</td>\n",
       "      <td>0</td>\n",
       "      <td>Canberra</td>\n",
       "      <td>Manuka Oval</td>\n",
       "      <td>[{'1st innings': {'team': 'West Indies', 'deli...</td>\n",
       "      <td>...</td>\n",
       "      <td>T20</td>\n",
       "      <td>Pakistan</td>\n",
       "      <td>20</td>\n",
       "      <td>[Javeria Khan]</td>\n",
       "      <td>[Pakistan, West Indies]</td>\n",
       "      <td>bat</td>\n",
       "      <td>West Indies</td>\n",
       "      <td>[CA Polosak, S George]</td>\n",
       "      <td>Manuka Oval</td>\n",
       "      <td>2020-02-26</td>\n",
       "    </tr>\n",
       "    <tr>\n",
       "      <th>2</th>\n",
       "      <td>1</td>\n",
       "      <td>West Indies</td>\n",
       "      <td>0.3</td>\n",
       "      <td>SR Taylor</td>\n",
       "      <td>Diana Baig</td>\n",
       "      <td>0</td>\n",
       "      <td>0</td>\n",
       "      <td>Canberra</td>\n",
       "      <td>Manuka Oval</td>\n",
       "      <td>[{'1st innings': {'team': 'West Indies', 'deli...</td>\n",
       "      <td>...</td>\n",
       "      <td>T20</td>\n",
       "      <td>Pakistan</td>\n",
       "      <td>20</td>\n",
       "      <td>[Javeria Khan]</td>\n",
       "      <td>[Pakistan, West Indies]</td>\n",
       "      <td>bat</td>\n",
       "      <td>West Indies</td>\n",
       "      <td>[CA Polosak, S George]</td>\n",
       "      <td>Manuka Oval</td>\n",
       "      <td>2020-02-26</td>\n",
       "    </tr>\n",
       "    <tr>\n",
       "      <th>3</th>\n",
       "      <td>1</td>\n",
       "      <td>West Indies</td>\n",
       "      <td>0.4</td>\n",
       "      <td>SR Taylor</td>\n",
       "      <td>Diana Baig</td>\n",
       "      <td>0</td>\n",
       "      <td>0</td>\n",
       "      <td>Canberra</td>\n",
       "      <td>Manuka Oval</td>\n",
       "      <td>[{'1st innings': {'team': 'West Indies', 'deli...</td>\n",
       "      <td>...</td>\n",
       "      <td>T20</td>\n",
       "      <td>Pakistan</td>\n",
       "      <td>20</td>\n",
       "      <td>[Javeria Khan]</td>\n",
       "      <td>[Pakistan, West Indies]</td>\n",
       "      <td>bat</td>\n",
       "      <td>West Indies</td>\n",
       "      <td>[CA Polosak, S George]</td>\n",
       "      <td>Manuka Oval</td>\n",
       "      <td>2020-02-26</td>\n",
       "    </tr>\n",
       "    <tr>\n",
       "      <th>4</th>\n",
       "      <td>1</td>\n",
       "      <td>West Indies</td>\n",
       "      <td>0.5</td>\n",
       "      <td>SR Taylor</td>\n",
       "      <td>Diana Baig</td>\n",
       "      <td>1</td>\n",
       "      <td>0</td>\n",
       "      <td>Canberra</td>\n",
       "      <td>Manuka Oval</td>\n",
       "      <td>[{'1st innings': {'team': 'West Indies', 'deli...</td>\n",
       "      <td>...</td>\n",
       "      <td>T20</td>\n",
       "      <td>Pakistan</td>\n",
       "      <td>20</td>\n",
       "      <td>[Javeria Khan]</td>\n",
       "      <td>[Pakistan, West Indies]</td>\n",
       "      <td>bat</td>\n",
       "      <td>West Indies</td>\n",
       "      <td>[CA Polosak, S George]</td>\n",
       "      <td>Manuka Oval</td>\n",
       "      <td>2020-02-26</td>\n",
       "    </tr>\n",
       "  </tbody>\n",
       "</table>\n",
       "<p>5 rows × 23 columns</p>\n",
       "</div>"
      ],
      "text/plain": [
       "   match_id batting_team  ball      batsman      bowler  runs  \\\n",
       "0         1  West Indies   0.1  HK Matthews  Diana Baig     0   \n",
       "1         1  West Indies   0.2    SR Taylor  Diana Baig     0   \n",
       "2         1  West Indies   0.3    SR Taylor  Diana Baig     0   \n",
       "3         1  West Indies   0.4    SR Taylor  Diana Baig     0   \n",
       "4         1  West Indies   0.5    SR Taylor  Diana Baig     1   \n",
       "\n",
       "  player_dismissed      city        venue  \\\n",
       "0      HK Matthews  Canberra  Manuka Oval   \n",
       "1                0  Canberra  Manuka Oval   \n",
       "2                0  Canberra  Manuka Oval   \n",
       "3                0  Canberra  Manuka Oval   \n",
       "4                0  Canberra  Manuka Oval   \n",
       "\n",
       "                                             innings  ... info.match_type  \\\n",
       "0  [{'1st innings': {'team': 'West Indies', 'deli...  ...             T20   \n",
       "1  [{'1st innings': {'team': 'West Indies', 'deli...  ...             T20   \n",
       "2  [{'1st innings': {'team': 'West Indies', 'deli...  ...             T20   \n",
       "3  [{'1st innings': {'team': 'West Indies', 'deli...  ...             T20   \n",
       "4  [{'1st innings': {'team': 'West Indies', 'deli...  ...             T20   \n",
       "\n",
       "  info.outcome.winner info.overs info.player_of_match  \\\n",
       "0            Pakistan         20       [Javeria Khan]   \n",
       "1            Pakistan         20       [Javeria Khan]   \n",
       "2            Pakistan         20       [Javeria Khan]   \n",
       "3            Pakistan         20       [Javeria Khan]   \n",
       "4            Pakistan         20       [Javeria Khan]   \n",
       "\n",
       "                info.teams  info.toss.decision info.toss.winner  \\\n",
       "0  [Pakistan, West Indies]                 bat      West Indies   \n",
       "1  [Pakistan, West Indies]                 bat      West Indies   \n",
       "2  [Pakistan, West Indies]                 bat      West Indies   \n",
       "3  [Pakistan, West Indies]                 bat      West Indies   \n",
       "4  [Pakistan, West Indies]                 bat      West Indies   \n",
       "\n",
       "             info.umpires   info.venue       Date  \n",
       "0  [CA Polosak, S George]  Manuka Oval 2020-02-26  \n",
       "1  [CA Polosak, S George]  Manuka Oval 2020-02-26  \n",
       "2  [CA Polosak, S George]  Manuka Oval 2020-02-26  \n",
       "3  [CA Polosak, S George]  Manuka Oval 2020-02-26  \n",
       "4  [CA Polosak, S George]  Manuka Oval 2020-02-26  \n",
       "\n",
       "[5 rows x 23 columns]"
      ]
     },
     "execution_count": 6,
     "metadata": {},
     "output_type": "execute_result"
    }
   ],
   "source": [
    "combined_df.head()"
   ]
  },
  {
   "cell_type": "code",
   "execution_count": 7,
   "id": "9799d148",
   "metadata": {},
   "outputs": [],
   "source": [
    "combined_df=combined_df[combined_df['info.gender']=='male']"
   ]
  },
  {
   "cell_type": "code",
   "execution_count": 8,
   "id": "e6dbbb86",
   "metadata": {},
   "outputs": [
    {
     "name": "stderr",
     "output_type": "stream",
     "text": [
      "/var/folders/zk/yt14z40j2lb2lz548fqr3v9m0000gn/T/ipykernel_10069/1927266342.py:1: SettingWithCopyWarning: \n",
      "A value is trying to be set on a copy of a slice from a DataFrame\n",
      "\n",
      "See the caveats in the documentation: https://pandas.pydata.org/pandas-docs/stable/user_guide/indexing.html#returning-a-view-versus-a-copy\n",
      "  combined_df.drop(columns=['info.gender'],inplace=True)\n"
     ]
    }
   ],
   "source": [
    "combined_df.drop(columns=['info.gender'],inplace=True)"
   ]
  },
  {
   "cell_type": "code",
   "execution_count": 9,
   "id": "522f5eb3",
   "metadata": {},
   "outputs": [],
   "source": [
    "combined_df = combined_df[combined_df['info.overs'] == 20]\n",
    "combined_df.drop(columns=['info.overs','info.match_type'],inplace=True)"
   ]
  },
  {
   "cell_type": "code",
   "execution_count": 10,
   "id": "54a39791",
   "metadata": {},
   "outputs": [],
   "source": [
    "def bowl(row):\n",
    "    for team in row['info.teams']:\n",
    "        if team != row['batting_team']:\n",
    "            return team"
   ]
  },
  {
   "cell_type": "code",
   "execution_count": 11,
   "id": "f9d45e60",
   "metadata": {},
   "outputs": [],
   "source": [
    "combined_df['bowling_team'] = combined_df.apply(bowl,axis=1)"
   ]
  },
  {
   "cell_type": "code",
   "execution_count": 12,
   "id": "e8c61e09",
   "metadata": {},
   "outputs": [],
   "source": [
    "teams = [\n",
    "    'Australia',\n",
    "    'India',\n",
    "    'Bangladesh',\n",
    "    'New Zealand',\n",
    "    'South Africa',\n",
    "    'England',\n",
    "    'West Indies',\n",
    "    'Afghanistan',\n",
    "    'Pakistan',\n",
    "    'Sri Lanka'\n",
    "]"
   ]
  },
  {
   "cell_type": "code",
   "execution_count": 13,
   "id": "53e2f274",
   "metadata": {},
   "outputs": [],
   "source": [
    "combined_df = combined_df[combined_df['batting_team'].isin(teams)]\n",
    "combined_df = combined_df[combined_df['bowling_team'].isin(teams)]"
   ]
  },
  {
   "cell_type": "code",
   "execution_count": 14,
   "id": "58e7bff4",
   "metadata": {},
   "outputs": [],
   "source": [
    "\n",
    "columns = ['match_id', 'batting_team', 'ball', 'batsman', 'bowler', 'runs',\n",
    "           'player_dismissed', 'city', 'venue', 'innings', 'info.city',\n",
    "           'info.dates', 'info.outcome.winner', 'info.player_of_match',\n",
    "           'info.toss.decision', 'info.toss.winner', 'info.umpires', 'info.venue',\n",
    "           'Date', 'bowling_team']\n",
    "\n",
    "# Create a dictionary to map old column names to new column names where 'info.' is removed\n",
    "rename_dict = {col: col.replace('info.', '') for col in columns if 'info.' in col}\n",
    "\n",
    "# Renaming the columns in the DataFrame\n",
    "combined_df.rename(columns=rename_dict, inplace=True)"
   ]
  },
  {
   "cell_type": "code",
   "execution_count": 15,
   "id": "73eee731",
   "metadata": {},
   "outputs": [],
   "source": [
    "# Convert the 'Date' column to datetime format without indexing if it's already a string or datetime\n",
    "combined_df['Date'] = pd.to_datetime(combined_df['Date'], errors='coerce')"
   ]
  },
  {
   "cell_type": "code",
   "execution_count": 16,
   "id": "e9589964",
   "metadata": {},
   "outputs": [],
   "source": [
    "\n",
    "if isinstance(combined_df['info.teams'].iloc[0], list):\n",
    "    combined_df[['Team 1', 'Team 2']] = pd.DataFrame(combined_df['info.teams'].tolist(), index=combined_df.index)\n",
    "    combined_df.drop(columns='info.teams', inplace=True)\n",
    "else:\n",
    "    print(\"Teams column is not in expected list format\")"
   ]
  },
  {
   "cell_type": "code",
   "execution_count": 17,
   "id": "1479fc57",
   "metadata": {},
   "outputs": [],
   "source": [
    "rename_columns = {\n",
    "    'toss.winner': 'toss_winner',\n",
    "    'outcome.winner': 'match_winner',\n",
    "    'player_of_match': 'player_of_the_match',  \n",
    "    'toss.decision': 'toss_decision'\n",
    "}\n",
    "\n",
    "\n",
    "combined_df.rename(columns=rename_columns, inplace=True)"
   ]
  },
  {
   "cell_type": "code",
   "execution_count": 18,
   "id": "e81345e0",
   "metadata": {},
   "outputs": [],
   "source": [
    "combined_df.drop(columns='innings', inplace=True)"
   ]
  },
  {
   "cell_type": "code",
   "execution_count": 19,
   "id": "67349016",
   "metadata": {},
   "outputs": [],
   "source": [
    "combined_df.drop(columns='umpires', inplace=True)"
   ]
  },
  {
   "cell_type": "code",
   "execution_count": 20,
   "id": "b1072556",
   "metadata": {},
   "outputs": [],
   "source": [
    "# Reorganizing columns to group related data together\n",
    "organized_columns = [\n",
    "    'match_id',\n",
    "    'Team 1', 'Team 2',  # Grouping team information\n",
    "    'batting_team', 'bowling_team',  # Further grouping team interaction\n",
    "    'ball',   # Game progression details\n",
    "    'batsman', 'bowler', 'runs', 'player_dismissed',  # Delivery-specific details\n",
    "    'city', 'venue', 'Date',  # Location and time of the match\n",
    "    'toss_winner', 'toss_decision',  # Toss details\n",
    "    'match_winner', 'player_of_the_match' # Outcome details\n",
    "\n",
    "]\n",
    "\n",
    "\n",
    "combined_df = combined_df[organized_columns]\n"
   ]
  },
  {
   "cell_type": "code",
   "execution_count": 21,
   "id": "eef6ecd7",
   "metadata": {},
   "outputs": [],
   "source": [
    "# Drop duplicate columns by selecting the first occurrence\n",
    "combined_df = combined_df.loc[:,~combined_df.columns.duplicated()]"
   ]
  },
  {
   "cell_type": "code",
   "execution_count": 22,
   "id": "f2de114b",
   "metadata": {},
   "outputs": [],
   "source": [
    "cities = np.where(combined_df['city'].isnull(),combined_df['venue'].str.split().apply(lambda x:x[0]),combined_df['city'])"
   ]
  },
  {
   "cell_type": "code",
   "execution_count": 23,
   "id": "24177808",
   "metadata": {},
   "outputs": [],
   "source": [
    "combined_df['city'] = cities"
   ]
  },
  {
   "cell_type": "code",
   "execution_count": 24,
   "id": "41432ec8",
   "metadata": {},
   "outputs": [
    {
     "name": "stdout",
     "output_type": "stream",
     "text": [
      "Dropped 2243 rows due to missing match winners.\n"
     ]
    }
   ],
   "source": [
    "# Remove rows where 'match_winner' is missing\n",
    "initial_count = combined_df.shape[0]\n",
    "combined_df.dropna(subset=['match_winner'], inplace=True)\n",
    "final_count = combined_df.shape[0]\n",
    "\n",
    "print(f\"Dropped {initial_count - final_count} rows due to missing match winners.\")\n"
   ]
  },
  {
   "cell_type": "code",
   "execution_count": 25,
   "id": "abbc06f3",
   "metadata": {},
   "outputs": [
    {
     "data": {
      "text/plain": [
       "match_id                 0\n",
       "Team 1                   0\n",
       "Team 2                   0\n",
       "batting_team             0\n",
       "bowling_team             0\n",
       "ball                     0\n",
       "batsman                  0\n",
       "bowler                   0\n",
       "runs                     0\n",
       "player_dismissed         0\n",
       "city                     0\n",
       "venue                    0\n",
       "Date                     0\n",
       "toss_winner              0\n",
       "toss_decision            0\n",
       "match_winner             0\n",
       "player_of_the_match    365\n",
       "dtype: int64"
      ]
     },
     "execution_count": 25,
     "metadata": {},
     "output_type": "execute_result"
    }
   ],
   "source": [
    "combined_df.isnull().sum()"
   ]
  },
  {
   "cell_type": "code",
   "execution_count": 26,
   "id": "b426b9e0",
   "metadata": {},
   "outputs": [],
   "source": [
    "# Filtering the DataFrame to find rows where 'player_of_the_match' is null\n",
    "null_potm_df = combined_df[combined_df['player_of_the_match'].isnull()]\n",
    "\n",
    "# Count the initial number of rows for reference\n",
    "initial_count = combined_df.shape[0]\n",
    "\n",
    "# Drop rows where 'player_of_the_match' is NaN\n",
    "combined_df.dropna(subset=['player_of_the_match'], inplace=True)\n",
    "\n",
    "# Count the final number of rows to calculate how many were dropped\n",
    "final_count = combined_df.shape[0]\n",
    "rows_dropped = initial_count - final_count"
   ]
  },
  {
   "cell_type": "markdown",
   "id": "c7b5630b",
   "metadata": {},
   "source": [
    "Adding more match related features, such as crr, run rate etc."
   ]
  },
  {
   "cell_type": "code",
   "execution_count": 27,
   "id": "5b55a81b",
   "metadata": {},
   "outputs": [
    {
     "name": "stderr",
     "output_type": "stream",
     "text": [
      "/var/folders/zk/yt14z40j2lb2lz548fqr3v9m0000gn/T/ipykernel_10069/3779091949.py:1: FutureWarning: The default value of numeric_only in DataFrameGroupBy.cumsum is deprecated. In a future version, numeric_only will default to False. Either specify numeric_only or select only columns which should be valid for the function.\n",
      "  combined_df['current_score'] = combined_df.groupby('match_id').cumsum()['runs']\n"
     ]
    }
   ],
   "source": [
    "combined_df['current_score'] = combined_df.groupby('match_id').cumsum()['runs']"
   ]
  },
  {
   "cell_type": "code",
   "execution_count": 28,
   "id": "f88d342f",
   "metadata": {},
   "outputs": [],
   "source": [
    "combined_df['over'] = combined_df['ball'].apply(lambda x:str(x).split(\".\")[0])\n",
    "combined_df['ball_no'] = combined_df['ball'].apply(lambda x:str(x).split(\".\")[1])"
   ]
  },
  {
   "cell_type": "code",
   "execution_count": 29,
   "id": "f1d4a6e9",
   "metadata": {},
   "outputs": [],
   "source": [
    "combined_df['balls_bowled'] = (combined_df['over'].astype('int')*6) + combined_df['ball_no'].astype('int')"
   ]
  },
  {
   "cell_type": "code",
   "execution_count": 30,
   "id": "5aca7449",
   "metadata": {},
   "outputs": [],
   "source": [
    "combined_df['balls_left'] = 120 - combined_df['balls_bowled']\n",
    "combined_df['balls_left'] = combined_df['balls_left'].apply(lambda x:0 if x<0 else x)"
   ]
  },
  {
   "cell_type": "code",
   "execution_count": 31,
   "id": "b811f90a",
   "metadata": {},
   "outputs": [
    {
     "name": "stderr",
     "output_type": "stream",
     "text": [
      "/var/folders/zk/yt14z40j2lb2lz548fqr3v9m0000gn/T/ipykernel_10069/380341676.py:3: FutureWarning: The default value of numeric_only in DataFrameGroupBy.cumsum is deprecated. In a future version, numeric_only will default to False. Either specify numeric_only or select only columns which should be valid for the function.\n",
      "  combined_df['player_dismissed'] = combined_df.groupby('match_id').cumsum()['player_dismissed']\n"
     ]
    }
   ],
   "source": [
    "combined_df['player_dismissed'] = combined_df['player_dismissed'].apply(lambda x:0 if x=='0' else 1)\n",
    "combined_df['player_dismissed'] = combined_df['player_dismissed'].astype('int')\n",
    "combined_df['player_dismissed'] = combined_df.groupby('match_id').cumsum()['player_dismissed']\n",
    "combined_df['wickets_left'] = 10 - combined_df['player_dismissed']"
   ]
  },
  {
   "cell_type": "code",
   "execution_count": 32,
   "id": "3d120deb",
   "metadata": {},
   "outputs": [],
   "source": [
    "combined_df['crr'] = (combined_df['current_score']*6)/combined_df['balls_bowled']"
   ]
  },
  {
   "cell_type": "code",
   "execution_count": 33,
   "id": "b40bd82d",
   "metadata": {},
   "outputs": [
    {
     "name": "stderr",
     "output_type": "stream",
     "text": [
      "/var/folders/zk/yt14z40j2lb2lz548fqr3v9m0000gn/T/ipykernel_10069/1897754388.py:6: FutureWarning: Dropping of nuisance columns in rolling operations is deprecated; in a future version this will raise TypeError. Select only valid columns before calling the operation. Dropped columns were Index(['Date', 'Team 1', 'Team 2', 'batsman', 'batting_team', 'bowler',\n",
      "       'bowling_team', 'city', 'match_winner', 'player_of_the_match',\n",
      "       'toss_decision', 'toss_winner', 'venue'],\n",
      "      dtype='object')\n",
      "  last_five.extend(groups.get_group(id).rolling(window=30).sum()['runs'].values.tolist())\n"
     ]
    }
   ],
   "source": [
    "groups = combined_df.groupby('match_id')\n",
    "\n",
    "match_ids = combined_df['match_id'].unique()\n",
    "last_five = []\n",
    "for id in match_ids:\n",
    "    last_five.extend(groups.get_group(id).rolling(window=30).sum()['runs'].values.tolist())"
   ]
  },
  {
   "cell_type": "code",
   "execution_count": 34,
   "id": "fae99526",
   "metadata": {},
   "outputs": [],
   "source": [
    "combined_df['last_five'] = last_five"
   ]
  },
  {
   "cell_type": "code",
   "execution_count": 35,
   "id": "1fe699a8",
   "metadata": {},
   "outputs": [
    {
     "data": {
      "text/html": [
       "<div>\n",
       "<style scoped>\n",
       "    .dataframe tbody tr th:only-of-type {\n",
       "        vertical-align: middle;\n",
       "    }\n",
       "\n",
       "    .dataframe tbody tr th {\n",
       "        vertical-align: top;\n",
       "    }\n",
       "\n",
       "    .dataframe thead th {\n",
       "        text-align: right;\n",
       "    }\n",
       "</style>\n",
       "<table border=\"1\" class=\"dataframe\">\n",
       "  <thead>\n",
       "    <tr style=\"text-align: right;\">\n",
       "      <th></th>\n",
       "      <th>match_id</th>\n",
       "      <th>Team 1</th>\n",
       "      <th>Team 2</th>\n",
       "      <th>batting_team</th>\n",
       "      <th>bowling_team</th>\n",
       "      <th>ball</th>\n",
       "      <th>batsman</th>\n",
       "      <th>bowler</th>\n",
       "      <th>runs</th>\n",
       "      <th>player_dismissed</th>\n",
       "      <th>...</th>\n",
       "      <th>match_winner</th>\n",
       "      <th>player_of_the_match</th>\n",
       "      <th>current_score</th>\n",
       "      <th>over</th>\n",
       "      <th>ball_no</th>\n",
       "      <th>balls_bowled</th>\n",
       "      <th>balls_left</th>\n",
       "      <th>wickets_left</th>\n",
       "      <th>crr</th>\n",
       "      <th>last_five</th>\n",
       "    </tr>\n",
       "  </thead>\n",
       "  <tbody>\n",
       "    <tr>\n",
       "      <th>107845</th>\n",
       "      <td>893</td>\n",
       "      <td>Australia</td>\n",
       "      <td>South Africa</td>\n",
       "      <td>Australia</td>\n",
       "      <td>South Africa</td>\n",
       "      <td>17.5</td>\n",
       "      <td>BCJ Cutting</td>\n",
       "      <td>KJ Abbott</td>\n",
       "      <td>1</td>\n",
       "      <td>5</td>\n",
       "      <td>...</td>\n",
       "      <td>South Africa</td>\n",
       "      <td>[RR Rossouw]</td>\n",
       "      <td>127</td>\n",
       "      <td>17</td>\n",
       "      <td>5</td>\n",
       "      <td>107</td>\n",
       "      <td>13</td>\n",
       "      <td>5</td>\n",
       "      <td>7.121495</td>\n",
       "      <td>34.0</td>\n",
       "    </tr>\n",
       "    <tr>\n",
       "      <th>11094</th>\n",
       "      <td>92</td>\n",
       "      <td>New Zealand</td>\n",
       "      <td>Australia</td>\n",
       "      <td>New Zealand</td>\n",
       "      <td>Australia</td>\n",
       "      <td>2.6</td>\n",
       "      <td>KS Williamson</td>\n",
       "      <td>KW Richardson</td>\n",
       "      <td>0</td>\n",
       "      <td>2</td>\n",
       "      <td>...</td>\n",
       "      <td>Australia</td>\n",
       "      <td>[B Stanlake]</td>\n",
       "      <td>16</td>\n",
       "      <td>2</td>\n",
       "      <td>6</td>\n",
       "      <td>18</td>\n",
       "      <td>102</td>\n",
       "      <td>8</td>\n",
       "      <td>5.333333</td>\n",
       "      <td>NaN</td>\n",
       "    </tr>\n",
       "    <tr>\n",
       "      <th>58452</th>\n",
       "      <td>482</td>\n",
       "      <td>India</td>\n",
       "      <td>South Africa</td>\n",
       "      <td>South Africa</td>\n",
       "      <td>India</td>\n",
       "      <td>10.5</td>\n",
       "      <td>AB de Villiers</td>\n",
       "      <td>Harbhajan Singh</td>\n",
       "      <td>1</td>\n",
       "      <td>2</td>\n",
       "      <td>...</td>\n",
       "      <td>South Africa</td>\n",
       "      <td>[AB de Villiers]</td>\n",
       "      <td>72</td>\n",
       "      <td>10</td>\n",
       "      <td>5</td>\n",
       "      <td>65</td>\n",
       "      <td>55</td>\n",
       "      <td>8</td>\n",
       "      <td>6.646154</td>\n",
       "      <td>26.0</td>\n",
       "    </tr>\n",
       "    <tr>\n",
       "      <th>87032</th>\n",
       "      <td>721</td>\n",
       "      <td>India</td>\n",
       "      <td>Australia</td>\n",
       "      <td>India</td>\n",
       "      <td>Australia</td>\n",
       "      <td>17.7</td>\n",
       "      <td>Washington Sundar</td>\n",
       "      <td>MA Starc</td>\n",
       "      <td>0</td>\n",
       "      <td>6</td>\n",
       "      <td>...</td>\n",
       "      <td>India</td>\n",
       "      <td>[YS Chahal]</td>\n",
       "      <td>127</td>\n",
       "      <td>17</td>\n",
       "      <td>7</td>\n",
       "      <td>109</td>\n",
       "      <td>11</td>\n",
       "      <td>4</td>\n",
       "      <td>6.990826</td>\n",
       "      <td>36.0</td>\n",
       "    </tr>\n",
       "    <tr>\n",
       "      <th>76865</th>\n",
       "      <td>636</td>\n",
       "      <td>Australia</td>\n",
       "      <td>Sri Lanka</td>\n",
       "      <td>Australia</td>\n",
       "      <td>Sri Lanka</td>\n",
       "      <td>2.5</td>\n",
       "      <td>DA Warner</td>\n",
       "      <td>AD Mathews</td>\n",
       "      <td>0</td>\n",
       "      <td>2</td>\n",
       "      <td>...</td>\n",
       "      <td>Australia</td>\n",
       "      <td>[CL White]</td>\n",
       "      <td>20</td>\n",
       "      <td>2</td>\n",
       "      <td>5</td>\n",
       "      <td>17</td>\n",
       "      <td>103</td>\n",
       "      <td>8</td>\n",
       "      <td>7.058824</td>\n",
       "      <td>NaN</td>\n",
       "    </tr>\n",
       "    <tr>\n",
       "      <th>119709</th>\n",
       "      <td>991</td>\n",
       "      <td>Australia</td>\n",
       "      <td>India</td>\n",
       "      <td>India</td>\n",
       "      <td>Australia</td>\n",
       "      <td>16.4</td>\n",
       "      <td>R Ashwin</td>\n",
       "      <td>DT Christian</td>\n",
       "      <td>4</td>\n",
       "      <td>6</td>\n",
       "      <td>...</td>\n",
       "      <td>Australia</td>\n",
       "      <td>[SR Watson]</td>\n",
       "      <td>113</td>\n",
       "      <td>16</td>\n",
       "      <td>4</td>\n",
       "      <td>100</td>\n",
       "      <td>20</td>\n",
       "      <td>4</td>\n",
       "      <td>6.780000</td>\n",
       "      <td>35.0</td>\n",
       "    </tr>\n",
       "    <tr>\n",
       "      <th>95106</th>\n",
       "      <td>789</td>\n",
       "      <td>Pakistan</td>\n",
       "      <td>South Africa</td>\n",
       "      <td>South Africa</td>\n",
       "      <td>Pakistan</td>\n",
       "      <td>8.1</td>\n",
       "      <td>JP Duminy</td>\n",
       "      <td>Mohammad Hafeez</td>\n",
       "      <td>0</td>\n",
       "      <td>3</td>\n",
       "      <td>...</td>\n",
       "      <td>Pakistan</td>\n",
       "      <td>[Umar Gul]</td>\n",
       "      <td>35</td>\n",
       "      <td>8</td>\n",
       "      <td>1</td>\n",
       "      <td>49</td>\n",
       "      <td>71</td>\n",
       "      <td>7</td>\n",
       "      <td>4.285714</td>\n",
       "      <td>21.0</td>\n",
       "    </tr>\n",
       "    <tr>\n",
       "      <th>128489</th>\n",
       "      <td>1062</td>\n",
       "      <td>Australia</td>\n",
       "      <td>India</td>\n",
       "      <td>Australia</td>\n",
       "      <td>India</td>\n",
       "      <td>13.5</td>\n",
       "      <td>SPD Smith</td>\n",
       "      <td>Washington Sundar</td>\n",
       "      <td>1</td>\n",
       "      <td>3</td>\n",
       "      <td>...</td>\n",
       "      <td>India</td>\n",
       "      <td>[HH Pandya]</td>\n",
       "      <td>126</td>\n",
       "      <td>13</td>\n",
       "      <td>5</td>\n",
       "      <td>83</td>\n",
       "      <td>37</td>\n",
       "      <td>7</td>\n",
       "      <td>9.108434</td>\n",
       "      <td>46.0</td>\n",
       "    </tr>\n",
       "    <tr>\n",
       "      <th>4610</th>\n",
       "      <td>38</td>\n",
       "      <td>England</td>\n",
       "      <td>Australia</td>\n",
       "      <td>England</td>\n",
       "      <td>Australia</td>\n",
       "      <td>8.5</td>\n",
       "      <td>ME Trescothick</td>\n",
       "      <td>JN Gillespie</td>\n",
       "      <td>1</td>\n",
       "      <td>2</td>\n",
       "      <td>...</td>\n",
       "      <td>England</td>\n",
       "      <td>[KP Pietersen]</td>\n",
       "      <td>76</td>\n",
       "      <td>8</td>\n",
       "      <td>5</td>\n",
       "      <td>53</td>\n",
       "      <td>67</td>\n",
       "      <td>8</td>\n",
       "      <td>8.603774</td>\n",
       "      <td>46.0</td>\n",
       "    </tr>\n",
       "    <tr>\n",
       "      <th>110432</th>\n",
       "      <td>914</td>\n",
       "      <td>Pakistan</td>\n",
       "      <td>Australia</td>\n",
       "      <td>Pakistan</td>\n",
       "      <td>Australia</td>\n",
       "      <td>17.4</td>\n",
       "      <td>Babar Azam</td>\n",
       "      <td>B Stanlake</td>\n",
       "      <td>1</td>\n",
       "      <td>6</td>\n",
       "      <td>...</td>\n",
       "      <td>Pakistan</td>\n",
       "      <td>[Imad Wasim]</td>\n",
       "      <td>133</td>\n",
       "      <td>17</td>\n",
       "      <td>4</td>\n",
       "      <td>106</td>\n",
       "      <td>14</td>\n",
       "      <td>4</td>\n",
       "      <td>7.528302</td>\n",
       "      <td>32.0</td>\n",
       "    </tr>\n",
       "  </tbody>\n",
       "</table>\n",
       "<p>10 rows × 25 columns</p>\n",
       "</div>"
      ],
      "text/plain": [
       "        match_id       Team 1        Team 2  batting_team  bowling_team  ball  \\\n",
       "107845       893    Australia  South Africa     Australia  South Africa  17.5   \n",
       "11094         92  New Zealand     Australia   New Zealand     Australia   2.6   \n",
       "58452        482        India  South Africa  South Africa         India  10.5   \n",
       "87032        721        India     Australia         India     Australia  17.7   \n",
       "76865        636    Australia     Sri Lanka     Australia     Sri Lanka   2.5   \n",
       "119709       991    Australia         India         India     Australia  16.4   \n",
       "95106        789     Pakistan  South Africa  South Africa      Pakistan   8.1   \n",
       "128489      1062    Australia         India     Australia         India  13.5   \n",
       "4610          38      England     Australia       England     Australia   8.5   \n",
       "110432       914     Pakistan     Australia      Pakistan     Australia  17.4   \n",
       "\n",
       "                  batsman             bowler  runs  player_dismissed  ...  \\\n",
       "107845        BCJ Cutting          KJ Abbott     1                 5  ...   \n",
       "11094       KS Williamson      KW Richardson     0                 2  ...   \n",
       "58452      AB de Villiers    Harbhajan Singh     1                 2  ...   \n",
       "87032   Washington Sundar           MA Starc     0                 6  ...   \n",
       "76865           DA Warner         AD Mathews     0                 2  ...   \n",
       "119709           R Ashwin       DT Christian     4                 6  ...   \n",
       "95106           JP Duminy    Mohammad Hafeez     0                 3  ...   \n",
       "128489          SPD Smith  Washington Sundar     1                 3  ...   \n",
       "4610       ME Trescothick       JN Gillespie     1                 2  ...   \n",
       "110432         Babar Azam         B Stanlake     1                 6  ...   \n",
       "\n",
       "        match_winner player_of_the_match current_score over ball_no  \\\n",
       "107845  South Africa        [RR Rossouw]           127   17       5   \n",
       "11094      Australia        [B Stanlake]            16    2       6   \n",
       "58452   South Africa    [AB de Villiers]            72   10       5   \n",
       "87032          India         [YS Chahal]           127   17       7   \n",
       "76865      Australia          [CL White]            20    2       5   \n",
       "119709     Australia         [SR Watson]           113   16       4   \n",
       "95106       Pakistan          [Umar Gul]            35    8       1   \n",
       "128489         India         [HH Pandya]           126   13       5   \n",
       "4610         England      [KP Pietersen]            76    8       5   \n",
       "110432      Pakistan        [Imad Wasim]           133   17       4   \n",
       "\n",
       "       balls_bowled balls_left  wickets_left       crr last_five  \n",
       "107845          107         13             5  7.121495      34.0  \n",
       "11094            18        102             8  5.333333       NaN  \n",
       "58452            65         55             8  6.646154      26.0  \n",
       "87032           109         11             4  6.990826      36.0  \n",
       "76865            17        103             8  7.058824       NaN  \n",
       "119709          100         20             4  6.780000      35.0  \n",
       "95106            49         71             7  4.285714      21.0  \n",
       "128489           83         37             7  9.108434      46.0  \n",
       "4610             53         67             8  8.603774      46.0  \n",
       "110432          106         14             4  7.528302      32.0  \n",
       "\n",
       "[10 rows x 25 columns]"
      ]
     },
     "execution_count": 35,
     "metadata": {},
     "output_type": "execute_result"
    }
   ],
   "source": [
    "combined_df.sample(10)"
   ]
  },
  {
   "cell_type": "code",
   "execution_count": 36,
   "id": "7b67fbd2",
   "metadata": {},
   "outputs": [
    {
     "data": {
      "text/plain": [
       "Index(['match_id', 'Team 1', 'Team 2', 'batting_team', 'bowling_team', 'ball',\n",
       "       'batsman', 'bowler', 'runs', 'player_dismissed', 'city', 'venue',\n",
       "       'Date', 'toss_winner', 'toss_decision', 'match_winner',\n",
       "       'player_of_the_match', 'current_score', 'over', 'ball_no',\n",
       "       'balls_bowled', 'balls_left', 'wickets_left', 'crr', 'last_five'],\n",
       "      dtype='object')"
      ]
     },
     "execution_count": 36,
     "metadata": {},
     "output_type": "execute_result"
    }
   ],
   "source": [
    "combined_df.columns"
   ]
  },
  {
   "cell_type": "code",
   "execution_count": 37,
   "id": "280c8d96",
   "metadata": {},
   "outputs": [
    {
     "data": {
      "image/png": "[encoded data removed]",
      "text/plain": [
       "<Figure size 1200x800 with 2 Axes>"
      ]
     },
     "metadata": {},
     "output_type": "display_data"
    }
   ],
   "source": [
    "import pandas as pd\n",
    "from sklearn.model_selection import train_test_split\n",
    "from sklearn.preprocessing import StandardScaler\n",
    "import seaborn as sns\n",
    "import matplotlib.pyplot as plt\n",
    "\n",
    "# Correlation Matrix of Numerical Features\n",
    "numerical_features = ['current_score', 'balls_left', 'wickets_left', 'crr', 'last_five']\n",
    "corr_matrix = combined_df[numerical_features].corr()\n",
    "\n",
    "# Plotting the correlation matrix\n",
    "plt.figure(figsize=(12, 8))\n",
    "sns.heatmap(corr_matrix, annot=True, fmt=\".2f\", cmap='coolwarm')\n",
    "plt.title('Correlation Matrix')\n",
    "plt.show()"
   ]
  },
  {
   "cell_type": "markdown",
   "id": "b0d3bcfa",
   "metadata": {},
   "source": [
    "adding more features such as pressure factor , crr, wicket rate etc"
   ]
  },
  {
   "cell_type": "code",
   "execution_count": 38,
   "id": "e2c20569",
   "metadata": {},
   "outputs": [],
   "source": [
    "\n",
    "combined_df.loc[:, 'run_rate'] = combined_df['current_score'] / (120 - combined_df['balls_left']) * 6\n",
    "combined_df.loc[:, 'wickets_rate'] = combined_df['wickets_left'] / (120 - combined_df['balls_left']) * 6\n",
    "\n",
    "# Using vectorized operations to create the Pressure Factor\n",
    "combined_df.loc[:, 'pressure_factor'] = combined_df.apply(\n",
    "    lambda row: row['last_five'] / (10 - row['wickets_left']) if row['wickets_left'] < 10 else row['last_five'],\n",
    "    axis=1\n",
    ")"
   ]
  },
  {
   "cell_type": "code",
   "execution_count": 39,
   "id": "1243a955",
   "metadata": {},
   "outputs": [
    {
     "name": "stdout",
     "output_type": "stream",
     "text": [
      "<class 'pandas.core.frame.DataFrame'>\n",
      "Int64Index: 62133 entries, 245 to 173593\n",
      "Data columns (total 28 columns):\n",
      " #   Column               Non-Null Count  Dtype         \n",
      "---  ------               --------------  -----         \n",
      " 0   match_id             62133 non-null  int64         \n",
      " 1   Team 1               62133 non-null  object        \n",
      " 2   Team 2               62133 non-null  object        \n",
      " 3   batting_team         62133 non-null  object        \n",
      " 4   bowling_team         62133 non-null  object        \n",
      " 5   ball                 62133 non-null  float64       \n",
      " 6   batsman              62133 non-null  object        \n",
      " 7   bowler               62133 non-null  object        \n",
      " 8   runs                 62133 non-null  int64         \n",
      " 9   player_dismissed     62133 non-null  int64         \n",
      " 10  city                 62133 non-null  object        \n",
      " 11  venue                62133 non-null  object        \n",
      " 12  Date                 62133 non-null  datetime64[ns]\n",
      " 13  toss_winner          62133 non-null  object        \n",
      " 14  toss_decision        62133 non-null  object        \n",
      " 15  match_winner         62133 non-null  object        \n",
      " 16  player_of_the_match  62133 non-null  object        \n",
      " 17  current_score        62133 non-null  int64         \n",
      " 18  over                 62133 non-null  object        \n",
      " 19  ball_no              62133 non-null  object        \n",
      " 20  balls_bowled         62133 non-null  int64         \n",
      " 21  balls_left           62133 non-null  int64         \n",
      " 22  wickets_left         62133 non-null  int64         \n",
      " 23  crr                  62133 non-null  float64       \n",
      " 24  last_five            47401 non-null  float64       \n",
      " 25  run_rate             62133 non-null  float64       \n",
      " 26  wickets_rate         62133 non-null  float64       \n",
      " 27  pressure_factor      47401 non-null  float64       \n",
      "dtypes: datetime64[ns](1), float64(6), int64(7), object(14)\n",
      "memory usage: 13.7+ MB\n"
     ]
    }
   ],
   "source": [
    "combined_df.info()"
   ]
  },
  {
   "cell_type": "code",
   "execution_count": 40,
   "id": "22243aa5",
   "metadata": {},
   "outputs": [],
   "source": [
    "# Replace infinite or NaN values which may have been introduced\n",
    "combined_df.replace([np.inf, -np.inf], np.nan, inplace=True)\n",
    "combined_df.fillna(0, inplace=True)"
   ]
  },
  {
   "cell_type": "markdown",
   "id": "2b8409f1",
   "metadata": {},
   "source": [
    "model prepration and building "
   ]
  },
  {
   "cell_type": "code",
   "execution_count": 41,
   "id": "8051f505",
   "metadata": {},
   "outputs": [
    {
     "name": "stdout",
     "output_type": "stream",
     "text": [
      "Model: SVC\n",
      "Overall Accuracy: 0.9817333226040074\n",
      "              precision    recall  f1-score   support\n",
      "\n",
      " Afghanistan       1.00      0.98      0.99       156\n",
      "   Australia       0.98      0.98      0.98      1609\n",
      "  Bangladesh       1.00      0.95      0.97       342\n",
      "     England       0.97      0.98      0.98      1446\n",
      "       India       0.99      0.99      0.99      1771\n",
      " New Zealand       0.98      0.98      0.98      1358\n",
      "    Pakistan       0.97      0.99      0.98      1813\n",
      "South Africa       0.98      0.98      0.98      1516\n",
      "   Sri Lanka       0.98      0.98      0.98      1272\n",
      " West Indies       0.98      0.97      0.98      1144\n",
      "\n",
      "    accuracy                           0.98     12427\n",
      "   macro avg       0.98      0.98      0.98     12427\n",
      "weighted avg       0.98      0.98      0.98     12427\n",
      "\n",
      "--------------------------------------------------------------------------------\n",
      "Model: DecisionTreeClassifier\n",
      "Overall Accuracy: 0.9928381749416593\n",
      "              precision    recall  f1-score   support\n",
      "\n",
      " Afghanistan       1.00      1.00      1.00       156\n",
      "   Australia       0.99      0.99      0.99      1609\n",
      "  Bangladesh       1.00      0.99      0.99       342\n",
      "     England       0.99      0.99      0.99      1446\n",
      "       India       1.00      1.00      1.00      1771\n",
      " New Zealand       0.99      0.99      0.99      1358\n",
      "    Pakistan       0.99      0.99      0.99      1813\n",
      "South Africa       0.99      0.99      0.99      1516\n",
      "   Sri Lanka       0.99      0.99      0.99      1272\n",
      " West Indies       0.99      0.99      0.99      1144\n",
      "\n",
      "    accuracy                           0.99     12427\n",
      "   macro avg       0.99      0.99      0.99     12427\n",
      "weighted avg       0.99      0.99      0.99     12427\n",
      "\n",
      "--------------------------------------------------------------------------------\n",
      "Model: GradientBoostingClassifier\n",
      "Overall Accuracy: 0.9628228856522089\n",
      "              precision    recall  f1-score   support\n",
      "\n",
      " Afghanistan       1.00      1.00      1.00       156\n",
      "   Australia       0.97      0.96      0.96      1609\n",
      "  Bangladesh       0.95      0.96      0.95       342\n",
      "     England       0.95      0.93      0.94      1446\n",
      "       India       0.99      1.00      1.00      1771\n",
      " New Zealand       0.98      0.93      0.96      1358\n",
      "    Pakistan       0.96      0.98      0.97      1813\n",
      "South Africa       0.96      0.97      0.96      1516\n",
      "   Sri Lanka       0.94      0.95      0.95      1272\n",
      " West Indies       0.94      0.95      0.94      1144\n",
      "\n",
      "    accuracy                           0.96     12427\n",
      "   macro avg       0.96      0.96      0.96     12427\n",
      "weighted avg       0.96      0.96      0.96     12427\n",
      "\n",
      "--------------------------------------------------------------------------------\n",
      "Model: GaussianNB\n",
      "Overall Accuracy: 0.4946487486923634\n",
      "              precision    recall  f1-score   support\n",
      "\n",
      " Afghanistan       0.86      1.00      0.93       156\n",
      "   Australia       0.50      0.72      0.59      1609\n",
      "  Bangladesh       0.43      0.93      0.59       342\n",
      "     England       0.79      0.39      0.52      1446\n",
      "       India       1.00      0.18      0.30      1771\n",
      " New Zealand       0.36      1.00      0.53      1358\n",
      "    Pakistan       0.78      0.32      0.45      1813\n",
      "South Africa       0.75      0.28      0.41      1516\n",
      "   Sri Lanka       0.49      0.28      0.36      1272\n",
      " West Indies       0.40      0.80      0.53      1144\n",
      "\n",
      "    accuracy                           0.49     12427\n",
      "   macro avg       0.64      0.59      0.52     12427\n",
      "weighted avg       0.65      0.49      0.47     12427\n",
      "\n",
      "--------------------------------------------------------------------------------\n"
     ]
    }
   ],
   "source": [
    "from sklearn.model_selection import train_test_split\n",
    "from sklearn.preprocessing import StandardScaler, OneHotEncoder,FunctionTransformer\n",
    "from sklearn.compose import ColumnTransformer\n",
    "from sklearn.pipeline import Pipeline\n",
    "from sklearn.metrics import accuracy_score, classification_report\n",
    "from sklearn.svm import SVC\n",
    "from sklearn.tree import DecisionTreeClassifier\n",
    "from sklearn.ensemble import GradientBoostingClassifier\n",
    "from sklearn.naive_bayes import GaussianNB\n",
    "\n",
    "\n",
    "\n",
    "\n",
    "categorical_features = ['venue', 'batting_team', 'bowling_team', 'toss_decision','toss_winner']  \n",
    "numerical_features = ['current_score', 'wickets_left', 'crr', 'last_five', 'run_rate', 'wickets_rate', 'pressure_factor'] \n",
    "\n",
    "# Column Transformer for preprocessing\n",
    "preprocessor = ColumnTransformer(\n",
    "    transformers=[\n",
    "        ('num', StandardScaler(), numerical_features),\n",
    "        ('cat', OneHotEncoder(), categorical_features)\n",
    "    ])\n",
    "\n",
    "def train_and_evaluate(model, X_train, X_test, y_train, y_test, force_dense=False):\n",
    "    # Check if the model requires dense data\n",
    "    if force_dense:\n",
    "        # Add a step to convert data to dense format if required by the model\n",
    "        pipeline = Pipeline([\n",
    "            ('preprocessor', preprocessor),\n",
    "            ('to_dense', FunctionTransformer(lambda x: x.toarray(), accept_sparse=True)),\n",
    "            ('model', model)\n",
    "        ])\n",
    "    else:\n",
    "        pipeline = Pipeline([\n",
    "            ('preprocessor', preprocessor),\n",
    "            ('model', model)\n",
    "        ])\n",
    "\n",
    "    pipeline.fit(X_train, y_train)\n",
    "    predictions = pipeline.predict(X_test)\n",
    "    print(f\"Model: {model.__class__.__name__}\")\n",
    "    print(\"Overall Accuracy:\", accuracy_score(y_test, predictions))\n",
    "    print(classification_report(y_test, predictions))\n",
    "    print(\"-\" * 80)\n",
    "\n",
    "\n",
    "X = combined_df.drop('match_winner', axis=1)\n",
    "y = combined_df['match_winner']\n",
    "X_train, X_test, y_train, y_test = train_test_split(X, y, test_size=0.2, random_state=42)\n",
    "\n",
    "# Models and whether they need dense data\n",
    "models = [\n",
    "    (SVC(kernel='rbf', random_state=42), False),\n",
    "    (DecisionTreeClassifier(random_state=42), False),\n",
    "    (GradientBoostingClassifier(n_estimators=100, random_state=42), False),\n",
    "    (GaussianNB(), True)  \n",
    "]\n",
    "\n",
    "# Train and evaluate each model\n",
    "for model, needs_dense in models:\n",
    "    train_and_evaluate(model, X_train, X_test, y_train, y_test, force_dense=needs_dense)\n"
   ]
  },
  {
   "cell_type": "code",
   "execution_count": 42,
   "id": "66dcc82c",
   "metadata": {},
   "outputs": [
    {
     "name": "stdout",
     "output_type": "stream",
     "text": [
      "Chi-squared: 29.981615350526276, p-value: 4.361620827683187e-08\n",
      "Optimization terminated successfully.\n",
      "         Current function value: 0.692903\n",
      "         Iterations 3\n",
      "                           Logit Regression Results                           \n",
      "==============================================================================\n",
      "Dep. Variable:       toss_winner_wins   No. Observations:                62133\n",
      "Model:                          Logit   Df Residuals:                    62131\n",
      "Method:                           MLE   Df Model:                            1\n",
      "Date:                Fri, 12 Jul 2024   Pseudo R-squ.:               0.0003491\n",
      "Time:                        12:31:10   Log-Likelihood:                -43052.\n",
      "converged:                       True   LL-Null:                       -43067.\n",
      "Covariance Type:            nonrobust   LLR p-value:                 4.162e-08\n",
      "=============================================================================================\n",
      "                                coef    std err          z      P>|z|      [0.025      0.975]\n",
      "---------------------------------------------------------------------------------------------\n",
      "Intercept                     0.0521      0.012      4.392      0.000       0.029       0.075\n",
      "C(toss_decision)[T.field]    -0.0883      0.016     -5.483      0.000      -0.120      -0.057\n",
      "=============================================================================================\n"
     ]
    }
   ],
   "source": [
    "import pandas as pd\n",
    "import statsmodels.api as sm\n",
    "from statsmodels.formula.api import logit\n",
    "\n",
    "# Assuming 'toss_winner' and 'match_winner' are columns in your DataFrame\n",
    "combined_df['toss_winner_wins'] = (combined_df['toss_winner'] == combined_df['match_winner']).astype(int)\n",
    "\n",
    "# Create a contingency table\n",
    "contingency_table = pd.crosstab(combined_df['toss_decision'], combined_df['toss_winner_wins'])\n",
    "\n",
    "# Perform the chi-squared test\n",
    "from scipy.stats import chi2_contingency\n",
    "chi2, p, dof, expected = chi2_contingency(contingency_table)\n",
    "\n",
    "print(f\"Chi-squared: {chi2}, p-value: {p}\")\n",
    "\n",
    "# Logistic regression to estimate the impact of toss_decision on winning\n",
    "model = logit(\"toss_winner_wins ~ C(toss_decision)\", data=combined_df).fit()\n",
    "print(model.summary())\n"
   ]
  },
  {
   "cell_type": "markdown",
   "id": "3ddfc6fe",
   "metadata": {},
   "source": [
    "\n",
    " \n",
    "The chi-squared test result is highly significant (p-value < 0.05), indicating a statistically significant association between the toss decision (bat or bowl) and the outcome of the match. This suggests that the decision made at the toss does impact whether the toss-winning team will win the match.\n",
    "\n",
    "Logistic Regression Analysis\n",
    "Pseudo R-squared: 0.0003491 (This is very low, indicating that the model explains very little of the variance in the outcome. Toss decisions, while statistically significant, might not be strongly predictive of match outcomes on their own.)\n",
    "Coefficients:\n",
    "Intercept: 0.0521 (When the reference category for the toss decision is \"bat\")\n",
    "C(toss_decision)[T.field]: -0.0883\n",
    "Coefficients Interpretation\n",
    "The coefficient for C(toss_decision)[T.field] is -0.0883, which is statistically significant (p-value < 0.05). This suggests that choosing to field after winning the toss is associated with a decrease in the likelihood of winning the match compared to choosing to bat.\n",
    "The negative sign indicates that teams that decide to field after winning the toss are slightly less likely to win the match than those that decide to bat."
   ]
  },
  {
   "cell_type": "code",
   "execution_count": 44,
   "id": "58efe88f",
   "metadata": {},
   "outputs": [
    {
     "name": "stdout",
     "output_type": "stream",
     "text": [
      "Odds Ratio: 0.9154861896654275\n"
     ]
    }
   ],
   "source": [
    "\n",
    "odds_ratio = np.exp(-0.0883)\n",
    "print(f\"Odds Ratio: {odds_ratio}\")\n"
   ]
  },
  {
   "cell_type": "markdown",
   "id": "64b1f6e0",
   "metadata": {},
   "source": [
    "The analysis suggests that there is a statistically significant impact of the toss decision on the match outcome, with teams choosing to bat after winning the toss having a slightly higher likelihood of winning. This could inform strategic decisions in match play, although the effect size is relatively small, indicating that while the decision is statistically significant, its practical impact might be limited."
   ]
  },
  {
   "cell_type": "code",
   "execution_count": null,
   "id": "ce7887c5",
   "metadata": {},
   "outputs": [],
   "source": []
  }
 ],
 "metadata": {
  "kernelspec": {
   "display_name": "Python 3 (ipykernel)",
   "language": "python",
   "name": "python3"
  },
  "language_info": {
   "codemirror_mode": {
    "name": "ipython",
    "version": 3
   },
   "file_extension": ".py",
   "mimetype": "text/x-python",
   "name": "python",
   "nbconvert_exporter": "python",
   "pygments_lexer": "ipython3",
   "version": "3.11.4"
  },
  "varInspector": {
   "cols": {
    "lenName": 16,
    "lenType": 16,
    "lenVar": 40
   },
   "kernels_config": {
    "python": {
     "delete_cmd_postfix": "",
     "delete_cmd_prefix": "del ",
     "library": "var_list.py",
     "varRefreshCmd": "print(var_dic_list())"
    },
    "r": {
     "delete_cmd_postfix": ") ",
     "delete_cmd_prefix": "rm(",
     "library": "var_list.r",
     "varRefreshCmd": "cat(var_dic_list()) "
    }
   },
   "types_to_exclude": [
    "module",
    "function",
    "builtin_function_or_method",
    "instance",
    "_Feature"
   ],
   "window_display": false
  }
 },
 "nbformat": 4,
 "nbformat_minor": 5
}
