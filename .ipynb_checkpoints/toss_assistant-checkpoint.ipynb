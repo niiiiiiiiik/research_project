{
 "cells": [
  {
   "cell_type": "markdown",
   "id": "288b235a",
   "metadata": {},
   "source": [
    "Data Loading and Preprocessing"
   ]
  },
  {
   "cell_type": "code",
   "execution_count": 1,
   "id": "db2afcf5",
   "metadata": {},
   "outputs": [
    {
     "name": "stderr",
     "output_type": "stream",
     "text": [
      "Processing files: 100%|██████████| 1432/1432 [01:25<00:00, 16.83it/s]\n"
     ]
    }
   ],
   "source": [
    "import os\n",
    "import pandas as pd\n",
    "from tqdm import tqdm\n",
    "from yaml import safe_load\n",
    "import pickle\n",
    "import numpy as np\n",
    "\n",
    "\n",
    "data_dir = '/Users/nikhil/Desktop/Research_project/Research_project/t20s'\n",
    "\n",
    "\n",
    "if not os.path.isdir(data_dir):\n",
    "    print(f\"Directory '{data_dir}' does not exist.\")\n",
    "else:\n",
    "    filenames = [os.path.join(data_dir, file) for file in os.listdir(data_dir) if file.endswith('.yaml')]\n",
    "    dfs = []\n",
    "\n",
    "    for counter, file in tqdm(enumerate(filenames), desc=\"Processing files\", total=len(filenames)):\n",
    "        try:\n",
    "            with open(file, 'r', encoding='utf-8') as f:\n",
    "                df = pd.json_normalize(safe_load(f))\n",
    "                df['match_id'] = counter + 1\n",
    "                dfs.append(df)\n",
    "        except Exception as e:\n",
    "            print(f\"Error processing file '{file}': {e}\")\n",
    "\n",
    "    final_df = pd.concat(dfs, ignore_index=True)\n",
    "    pickle.dump(final_df, open('matches.pkl', 'wb'))\n"
   ]
  },
  {
   "cell_type": "markdown",
   "id": "5bef2f99",
   "metadata": {},
   "source": [
    "Utilizes a progress bar (tqdm) for visual tracking of file processing.\n",
    "Opens each YAML file, reads its content, and normalizes it into a pandas DataFrame. Assigns a unique match_id to each match DataFrame.\n",
    "Concatenates all individual match DataFrames into a single DataFrame, which is then serialized using pickle for future use."
   ]
  },
  {
   "cell_type": "markdown",
   "id": "8d53e1af",
   "metadata": {},
   "source": [
    "Data Extraction"
   ]
  },
  {
   "cell_type": "code",
   "execution_count": 2,
   "id": "11602578",
   "metadata": {},
   "outputs": [],
   "source": [
    "matches = pickle.load(open('matches.pkl', 'rb'))\n",
    "delivery_data = []\n",
    "\n",
    "for index, row in matches.iterrows():\n",
    "    for delivery in row['innings'][0]['1st innings']['deliveries']:\n",
    "        for ball_number, details in delivery.items():\n",
    "            delivery_data.append({\n",
    "                'match_id': row['match_id'],\n",
    "                'batting_team': row['innings'][0]['1st innings']['team'],\n",
    "                'ball': ball_number,\n",
    "                'batsman': details['batsman'],\n",
    "                'bowler': details['bowler'],\n",
    "                'runs': details['runs']['total'],\n",
    "                'player_dismissed': details.get('wicket', {}).get('player_out', '0'),\n",
    "                'city': row['info.city'],\n",
    "                'venue': row['info.venue']\n",
    "            })\n",
    "\n",
    "delivery_df = pd.DataFrame(delivery_data)\n",
    "delivery_df.to_csv('delivery_data.csv', index=False)\n"
   ]
  },
  {
   "cell_type": "markdown",
   "id": "ee992fdc",
   "metadata": {},
   "source": [
    "Data Cleaning and Feature Engineering"
   ]
  },
  {
   "cell_type": "code",
   "execution_count": 3,
   "id": "4a7cc6d4",
   "metadata": {},
   "outputs": [],
   "source": [
    "import pandas as pd\n",
    "import matplotlib.pyplot as plt\n",
    "import seaborn as sns\n",
    "from scipy.stats import chi2_contingency\n",
    "\n",
    "# Load the data\n",
    "delivery_df = pd.read_csv('delivery_data.csv')\n",
    "matches = pd.read_pickle('matches.pkl')\n",
    "\n",
    "# Further process match details\n",
    "matches['Date'] = pd.to_datetime(matches['info.dates'].str[0], errors='coerce')\n",
    "\n",
    "# Merge delivery data with match details\n",
    "combined_df = pd.merge(delivery_df, matches, on='match_id', how='inner')\n",
    "\n",
    "\n"
   ]
  },
  {
   "cell_type": "code",
   "execution_count": 4,
   "id": "c57ce84b",
   "metadata": {},
   "outputs": [],
   "source": [
    "combined_df.drop(columns=[\n",
    "    'meta.data_version',\n",
    "    'meta.created',\n",
    "    'meta.revision',\n",
    "    'info.outcome.bowl_out',\n",
    "    'info.bowl_out',\n",
    "    'info.supersubs.South Africa',\n",
    "    'info.supersubs.New Zealand',\n",
    "    'info.outcome.eliminator',\n",
    "    'info.outcome.result',\n",
    "    'info.outcome.method',\n",
    "    'info.neutral_venue',\n",
    "    'info.match_type_number',\n",
    "    'info.outcome.by.runs',\n",
    "    'info.outcome.by.wickets'\n",
    "],inplace=True)"
   ]
  },
  {
   "cell_type": "code",
   "execution_count": 5,
   "id": "38ce87dc",
   "metadata": {
    "scrolled": false
   },
   "outputs": [
    {
     "data": {
      "text/html": [
       "<div>\n",
       "<style scoped>\n",
       "    .dataframe tbody tr th:only-of-type {\n",
       "        vertical-align: middle;\n",
       "    }\n",
       "\n",
       "    .dataframe tbody tr th {\n",
       "        vertical-align: top;\n",
       "    }\n",
       "\n",
       "    .dataframe thead th {\n",
       "        text-align: right;\n",
       "    }\n",
       "</style>\n",
       "<table border=\"1\" class=\"dataframe\">\n",
       "  <thead>\n",
       "    <tr style=\"text-align: right;\">\n",
       "      <th></th>\n",
       "      <th>match_id</th>\n",
       "      <th>batting_team</th>\n",
       "      <th>ball</th>\n",
       "      <th>batsman</th>\n",
       "      <th>bowler</th>\n",
       "      <th>runs</th>\n",
       "      <th>player_dismissed</th>\n",
       "      <th>city</th>\n",
       "      <th>venue</th>\n",
       "      <th>innings</th>\n",
       "      <th>...</th>\n",
       "      <th>info.match_type</th>\n",
       "      <th>info.outcome.winner</th>\n",
       "      <th>info.overs</th>\n",
       "      <th>info.player_of_match</th>\n",
       "      <th>info.teams</th>\n",
       "      <th>info.toss.decision</th>\n",
       "      <th>info.toss.winner</th>\n",
       "      <th>info.umpires</th>\n",
       "      <th>info.venue</th>\n",
       "      <th>Date</th>\n",
       "    </tr>\n",
       "  </thead>\n",
       "  <tbody>\n",
       "    <tr>\n",
       "      <th>0</th>\n",
       "      <td>1</td>\n",
       "      <td>West Indies</td>\n",
       "      <td>0.1</td>\n",
       "      <td>HK Matthews</td>\n",
       "      <td>Diana Baig</td>\n",
       "      <td>0</td>\n",
       "      <td>HK Matthews</td>\n",
       "      <td>Canberra</td>\n",
       "      <td>Manuka Oval</td>\n",
       "      <td>[{'1st innings': {'team': 'West Indies', 'deli...</td>\n",
       "      <td>...</td>\n",
       "      <td>T20</td>\n",
       "      <td>Pakistan</td>\n",
       "      <td>20</td>\n",
       "      <td>[Javeria Khan]</td>\n",
       "      <td>[Pakistan, West Indies]</td>\n",
       "      <td>bat</td>\n",
       "      <td>West Indies</td>\n",
       "      <td>[CA Polosak, S George]</td>\n",
       "      <td>Manuka Oval</td>\n",
       "      <td>2020-02-26</td>\n",
       "    </tr>\n",
       "    <tr>\n",
       "      <th>1</th>\n",
       "      <td>1</td>\n",
       "      <td>West Indies</td>\n",
       "      <td>0.2</td>\n",
       "      <td>SR Taylor</td>\n",
       "      <td>Diana Baig</td>\n",
       "      <td>0</td>\n",
       "      <td>0</td>\n",
       "      <td>Canberra</td>\n",
       "      <td>Manuka Oval</td>\n",
       "      <td>[{'1st innings': {'team': 'West Indies', 'deli...</td>\n",
       "      <td>...</td>\n",
       "      <td>T20</td>\n",
       "      <td>Pakistan</td>\n",
       "      <td>20</td>\n",
       "      <td>[Javeria Khan]</td>\n",
       "      <td>[Pakistan, West Indies]</td>\n",
       "      <td>bat</td>\n",
       "      <td>West Indies</td>\n",
       "      <td>[CA Polosak, S George]</td>\n",
       "      <td>Manuka Oval</td>\n",
       "      <td>2020-02-26</td>\n",
       "    </tr>\n",
       "    <tr>\n",
       "      <th>2</th>\n",
       "      <td>1</td>\n",
       "      <td>West Indies</td>\n",
       "      <td>0.3</td>\n",
       "      <td>SR Taylor</td>\n",
       "      <td>Diana Baig</td>\n",
       "      <td>0</td>\n",
       "      <td>0</td>\n",
       "      <td>Canberra</td>\n",
       "      <td>Manuka Oval</td>\n",
       "      <td>[{'1st innings': {'team': 'West Indies', 'deli...</td>\n",
       "      <td>...</td>\n",
       "      <td>T20</td>\n",
       "      <td>Pakistan</td>\n",
       "      <td>20</td>\n",
       "      <td>[Javeria Khan]</td>\n",
       "      <td>[Pakistan, West Indies]</td>\n",
       "      <td>bat</td>\n",
       "      <td>West Indies</td>\n",
       "      <td>[CA Polosak, S George]</td>\n",
       "      <td>Manuka Oval</td>\n",
       "      <td>2020-02-26</td>\n",
       "    </tr>\n",
       "    <tr>\n",
       "      <th>3</th>\n",
       "      <td>1</td>\n",
       "      <td>West Indies</td>\n",
       "      <td>0.4</td>\n",
       "      <td>SR Taylor</td>\n",
       "      <td>Diana Baig</td>\n",
       "      <td>0</td>\n",
       "      <td>0</td>\n",
       "      <td>Canberra</td>\n",
       "      <td>Manuka Oval</td>\n",
       "      <td>[{'1st innings': {'team': 'West Indies', 'deli...</td>\n",
       "      <td>...</td>\n",
       "      <td>T20</td>\n",
       "      <td>Pakistan</td>\n",
       "      <td>20</td>\n",
       "      <td>[Javeria Khan]</td>\n",
       "      <td>[Pakistan, West Indies]</td>\n",
       "      <td>bat</td>\n",
       "      <td>West Indies</td>\n",
       "      <td>[CA Polosak, S George]</td>\n",
       "      <td>Manuka Oval</td>\n",
       "      <td>2020-02-26</td>\n",
       "    </tr>\n",
       "    <tr>\n",
       "      <th>4</th>\n",
       "      <td>1</td>\n",
       "      <td>West Indies</td>\n",
       "      <td>0.5</td>\n",
       "      <td>SR Taylor</td>\n",
       "      <td>Diana Baig</td>\n",
       "      <td>1</td>\n",
       "      <td>0</td>\n",
       "      <td>Canberra</td>\n",
       "      <td>Manuka Oval</td>\n",
       "      <td>[{'1st innings': {'team': 'West Indies', 'deli...</td>\n",
       "      <td>...</td>\n",
       "      <td>T20</td>\n",
       "      <td>Pakistan</td>\n",
       "      <td>20</td>\n",
       "      <td>[Javeria Khan]</td>\n",
       "      <td>[Pakistan, West Indies]</td>\n",
       "      <td>bat</td>\n",
       "      <td>West Indies</td>\n",
       "      <td>[CA Polosak, S George]</td>\n",
       "      <td>Manuka Oval</td>\n",
       "      <td>2020-02-26</td>\n",
       "    </tr>\n",
       "  </tbody>\n",
       "</table>\n",
       "<p>5 rows × 23 columns</p>\n",
       "</div>"
      ],
      "text/plain": [
       "   match_id batting_team  ball      batsman      bowler  runs  \\\n",
       "0         1  West Indies   0.1  HK Matthews  Diana Baig     0   \n",
       "1         1  West Indies   0.2    SR Taylor  Diana Baig     0   \n",
       "2         1  West Indies   0.3    SR Taylor  Diana Baig     0   \n",
       "3         1  West Indies   0.4    SR Taylor  Diana Baig     0   \n",
       "4         1  West Indies   0.5    SR Taylor  Diana Baig     1   \n",
       "\n",
       "  player_dismissed      city        venue  \\\n",
       "0      HK Matthews  Canberra  Manuka Oval   \n",
       "1                0  Canberra  Manuka Oval   \n",
       "2                0  Canberra  Manuka Oval   \n",
       "3                0  Canberra  Manuka Oval   \n",
       "4                0  Canberra  Manuka Oval   \n",
       "\n",
       "                                             innings  ... info.match_type  \\\n",
       "0  [{'1st innings': {'team': 'West Indies', 'deli...  ...             T20   \n",
       "1  [{'1st innings': {'team': 'West Indies', 'deli...  ...             T20   \n",
       "2  [{'1st innings': {'team': 'West Indies', 'deli...  ...             T20   \n",
       "3  [{'1st innings': {'team': 'West Indies', 'deli...  ...             T20   \n",
       "4  [{'1st innings': {'team': 'West Indies', 'deli...  ...             T20   \n",
       "\n",
       "  info.outcome.winner info.overs info.player_of_match  \\\n",
       "0            Pakistan         20       [Javeria Khan]   \n",
       "1            Pakistan         20       [Javeria Khan]   \n",
       "2            Pakistan         20       [Javeria Khan]   \n",
       "3            Pakistan         20       [Javeria Khan]   \n",
       "4            Pakistan         20       [Javeria Khan]   \n",
       "\n",
       "                info.teams  info.toss.decision info.toss.winner  \\\n",
       "0  [Pakistan, West Indies]                 bat      West Indies   \n",
       "1  [Pakistan, West Indies]                 bat      West Indies   \n",
       "2  [Pakistan, West Indies]                 bat      West Indies   \n",
       "3  [Pakistan, West Indies]                 bat      West Indies   \n",
       "4  [Pakistan, West Indies]                 bat      West Indies   \n",
       "\n",
       "             info.umpires   info.venue       Date  \n",
       "0  [CA Polosak, S George]  Manuka Oval 2020-02-26  \n",
       "1  [CA Polosak, S George]  Manuka Oval 2020-02-26  \n",
       "2  [CA Polosak, S George]  Manuka Oval 2020-02-26  \n",
       "3  [CA Polosak, S George]  Manuka Oval 2020-02-26  \n",
       "4  [CA Polosak, S George]  Manuka Oval 2020-02-26  \n",
       "\n",
       "[5 rows x 23 columns]"
      ]
     },
     "execution_count": 5,
     "metadata": {},
     "output_type": "execute_result"
    }
   ],
   "source": [
    "combined_df.head()"
   ]
  },
  {
   "cell_type": "code",
   "execution_count": 6,
   "id": "9799d148",
   "metadata": {},
   "outputs": [],
   "source": [
    "combined_df=combined_df[combined_df['info.gender']=='male']"
   ]
  },
  {
   "cell_type": "code",
   "execution_count": 7,
   "id": "e6dbbb86",
   "metadata": {},
   "outputs": [],
   "source": [
    "combined_df.drop(columns=['info.gender'],inplace=True)"
   ]
  },
  {
   "cell_type": "code",
   "execution_count": 8,
   "id": "522f5eb3",
   "metadata": {},
   "outputs": [],
   "source": [
    "combined_df = combined_df[combined_df['info.overs'] == 20]\n",
    "combined_df.drop(columns=['info.overs','info.match_type'],inplace=True)"
   ]
  },
  {
   "cell_type": "code",
   "execution_count": 9,
   "id": "54a39791",
   "metadata": {},
   "outputs": [],
   "source": [
    "def bowl(row):\n",
    "    for team in row['info.teams']:\n",
    "        if team != row['batting_team']:\n",
    "            return team"
   ]
  },
  {
   "cell_type": "code",
   "execution_count": 10,
   "id": "f9d45e60",
   "metadata": {},
   "outputs": [],
   "source": [
    "combined_df['bowling_team'] = combined_df.apply(bowl,axis=1)"
   ]
  },
  {
   "cell_type": "code",
   "execution_count": 11,
   "id": "e8c61e09",
   "metadata": {},
   "outputs": [],
   "source": [
    "teams = [\n",
    "    'Australia',\n",
    "    'India',\n",
    "    'Bangladesh',\n",
    "    'New Zealand',\n",
    "    'South Africa',\n",
    "    'England',\n",
    "    'West Indies',\n",
    "    'Afghanistan',\n",
    "    'Pakistan',\n",
    "    'Sri Lanka'\n",
    "]"
   ]
  },
  {
   "cell_type": "code",
   "execution_count": 12,
   "id": "53e2f274",
   "metadata": {},
   "outputs": [],
   "source": [
    "combined_df = combined_df[combined_df['batting_team'].isin(teams)]\n",
    "combined_df = combined_df[combined_df['bowling_team'].isin(teams)]"
   ]
  },
  {
   "cell_type": "code",
   "execution_count": 13,
   "id": "58e7bff4",
   "metadata": {},
   "outputs": [],
   "source": [
    "\n",
    "columns = ['match_id', 'batting_team', 'ball', 'batsman', 'bowler', 'runs',\n",
    "           'player_dismissed', 'city', 'venue', 'innings', 'info.city',\n",
    "           'info.dates', 'info.outcome.winner', 'info.player_of_match',\n",
    "           'info.toss.decision', 'info.toss.winner', 'info.umpires', 'info.venue',\n",
    "           'Date', 'bowling_team']\n",
    "\n",
    "# where 'info.' is removed\n",
    "rename_dict = {col: col.replace('info.', '') for col in columns if 'info.' in col}\n",
    "\n",
    "# Renaming the columns in the DataFrame\n",
    "combined_df.rename(columns=rename_dict, inplace=True)"
   ]
  },
  {
   "cell_type": "code",
   "execution_count": 14,
   "id": "73eee731",
   "metadata": {},
   "outputs": [],
   "source": [
    "# Convert the 'Date' column to datetime format \n",
    "combined_df['Date'] = pd.to_datetime(combined_df['Date'], errors='coerce')"
   ]
  },
  {
   "cell_type": "code",
   "execution_count": 15,
   "id": "e9589964",
   "metadata": {},
   "outputs": [],
   "source": [
    "\n",
    "if isinstance(combined_df['info.teams'].iloc[0], list):\n",
    "    combined_df[['Team 1', 'Team 2']] = pd.DataFrame(combined_df['info.teams'].tolist(), index=combined_df.index)\n",
    "    combined_df.drop(columns='info.teams', inplace=True)\n",
    "else:\n",
    "    print(\"Teams column is not in expected list format\")"
   ]
  },
  {
   "cell_type": "code",
   "execution_count": 16,
   "id": "1479fc57",
   "metadata": {},
   "outputs": [],
   "source": [
    "rename_columns = {\n",
    "    'toss.winner': 'toss_winner',\n",
    "    'outcome.winner': 'match_winner',\n",
    "    'player_of_match': 'player_of_the_match',  \n",
    "    'toss.decision': 'toss_decision'\n",
    "}\n",
    "\n",
    "\n",
    "combined_df.rename(columns=rename_columns, inplace=True)"
   ]
  },
  {
   "cell_type": "code",
   "execution_count": 17,
   "id": "e81345e0",
   "metadata": {},
   "outputs": [],
   "source": [
    "combined_df.drop(columns='innings', inplace=True)"
   ]
  },
  {
   "cell_type": "code",
   "execution_count": 18,
   "id": "67349016",
   "metadata": {},
   "outputs": [],
   "source": [
    "combined_df.drop(columns='umpires', inplace=True)"
   ]
  },
  {
   "cell_type": "code",
   "execution_count": 19,
   "id": "b1072556",
   "metadata": {},
   "outputs": [],
   "source": [
    "# Reorganizing columns to group related data together\n",
    "organized_columns = [\n",
    "    'match_id',\n",
    "    'Team 1', 'Team 2',  \n",
    "    'batting_team', 'bowling_team',  \n",
    "    'ball',   \n",
    "    'batsman', 'bowler', 'runs', 'player_dismissed',  \n",
    "    'city', 'venue', 'Date',  \n",
    "    'toss_winner', 'toss_decision',  \n",
    "    'match_winner', 'player_of_the_match' \n",
    "\n",
    "]\n",
    "\n",
    "\n",
    "combined_df = combined_df[organized_columns]\n"
   ]
  },
  {
   "cell_type": "code",
   "execution_count": 20,
   "id": "eef6ecd7",
   "metadata": {},
   "outputs": [],
   "source": [
    "# Drop duplicate columns \n",
    "combined_df = combined_df.loc[:,~combined_df.columns.duplicated()]"
   ]
  },
  {
   "cell_type": "code",
   "execution_count": 21,
   "id": "f2de114b",
   "metadata": {},
   "outputs": [],
   "source": [
    "cities = np.where(combined_df['city'].isnull(),combined_df['venue'].str.split().apply(lambda x:x[0]),combined_df['city'])"
   ]
  },
  {
   "cell_type": "code",
   "execution_count": 22,
   "id": "24177808",
   "metadata": {},
   "outputs": [],
   "source": [
    "combined_df['city'] = cities"
   ]
  },
  {
   "cell_type": "code",
   "execution_count": 23,
   "id": "abbc06f3",
   "metadata": {},
   "outputs": [
    {
     "data": {
      "text/plain": [
       "match_id                  0\n",
       "Team 1                    0\n",
       "Team 2                    0\n",
       "batting_team              0\n",
       "bowling_team              0\n",
       "ball                      0\n",
       "batsman                   0\n",
       "bowler                    0\n",
       "runs                      0\n",
       "player_dismissed          0\n",
       "city                      0\n",
       "venue                     0\n",
       "Date                      0\n",
       "toss_winner               0\n",
       "toss_decision             0\n",
       "match_winner           2243\n",
       "player_of_the_match    1172\n",
       "dtype: int64"
      ]
     },
     "execution_count": 23,
     "metadata": {},
     "output_type": "execute_result"
    }
   ],
   "source": [
    "combined_df.isnull().sum()"
   ]
  },
  {
   "cell_type": "code",
   "execution_count": 24,
   "id": "b426b9e0",
   "metadata": {},
   "outputs": [],
   "source": [
    "# Filtering the DataFrame to find rows where 'player_of_the_match' is null\n",
    "null_potm_df = combined_df[combined_df['player_of_the_match'].isnull()]\n",
    "\n",
    "# Count the initial number of rows for reference\n",
    "initial_count = combined_df.shape[0]\n",
    "\n",
    "# Drop rows where 'player_of_the_match' is NaN\n",
    "combined_df.dropna(subset=['player_of_the_match'], inplace=True)\n",
    "\n",
    "\n",
    "final_count = combined_df.shape[0]\n",
    "rows_dropped = initial_count - final_count"
   ]
  },
  {
   "cell_type": "markdown",
   "id": "c7b5630b",
   "metadata": {},
   "source": [
    "Adding more match related features, such as crr, run rate etc."
   ]
  },
  {
   "cell_type": "code",
   "execution_count": 25,
   "id": "5b55a81b",
   "metadata": {},
   "outputs": [
    {
     "name": "stderr",
     "output_type": "stream",
     "text": [
      "/var/folders/zk/yt14z40j2lb2lz548fqr3v9m0000gn/T/ipykernel_41439/3779091949.py:1: FutureWarning: The default value of numeric_only in DataFrameGroupBy.cumsum is deprecated. In a future version, numeric_only will default to False. Either specify numeric_only or select only columns which should be valid for the function.\n",
      "  combined_df['current_score'] = combined_df.groupby('match_id').cumsum()['runs']\n"
     ]
    }
   ],
   "source": [
    "combined_df['current_score'] = combined_df.groupby('match_id').cumsum()['runs']"
   ]
  },
  {
   "cell_type": "code",
   "execution_count": 26,
   "id": "f88d342f",
   "metadata": {},
   "outputs": [],
   "source": [
    "combined_df['over'] = combined_df['ball'].apply(lambda x:str(x).split(\".\")[0])\n",
    "combined_df['ball_no'] = combined_df['ball'].apply(lambda x:str(x).split(\".\")[1])"
   ]
  },
  {
   "cell_type": "code",
   "execution_count": 27,
   "id": "f1d4a6e9",
   "metadata": {},
   "outputs": [],
   "source": [
    "combined_df['balls_bowled'] = (combined_df['over'].astype('int')*6) + combined_df['ball_no'].astype('int')"
   ]
  },
  {
   "cell_type": "code",
   "execution_count": 28,
   "id": "5aca7449",
   "metadata": {},
   "outputs": [],
   "source": [
    "combined_df['balls_left'] = 120 - combined_df['balls_bowled']\n",
    "combined_df['balls_left'] = combined_df['balls_left'].apply(lambda x:0 if x<0 else x)"
   ]
  },
  {
   "cell_type": "code",
   "execution_count": 29,
   "id": "b811f90a",
   "metadata": {},
   "outputs": [
    {
     "name": "stderr",
     "output_type": "stream",
     "text": [
      "/var/folders/zk/yt14z40j2lb2lz548fqr3v9m0000gn/T/ipykernel_41439/380341676.py:3: FutureWarning: The default value of numeric_only in DataFrameGroupBy.cumsum is deprecated. In a future version, numeric_only will default to False. Either specify numeric_only or select only columns which should be valid for the function.\n",
      "  combined_df['player_dismissed'] = combined_df.groupby('match_id').cumsum()['player_dismissed']\n"
     ]
    }
   ],
   "source": [
    "combined_df['player_dismissed'] = combined_df['player_dismissed'].apply(lambda x:0 if x=='0' else 1)\n",
    "combined_df['player_dismissed'] = combined_df['player_dismissed'].astype('int')\n",
    "combined_df['player_dismissed'] = combined_df.groupby('match_id').cumsum()['player_dismissed']\n",
    "combined_df['wickets_left'] = 10 - combined_df['player_dismissed']"
   ]
  },
  {
   "cell_type": "code",
   "execution_count": 30,
   "id": "3d120deb",
   "metadata": {},
   "outputs": [],
   "source": [
    "combined_df['crr'] = (combined_df['current_score']*6)/combined_df['balls_bowled']"
   ]
  },
  {
   "cell_type": "code",
   "execution_count": 31,
   "id": "b40bd82d",
   "metadata": {},
   "outputs": [
    {
     "name": "stderr",
     "output_type": "stream",
     "text": [
      "/var/folders/zk/yt14z40j2lb2lz548fqr3v9m0000gn/T/ipykernel_41439/1897754388.py:6: FutureWarning: Dropping of nuisance columns in rolling operations is deprecated; in a future version this will raise TypeError. Select only valid columns before calling the operation. Dropped columns were Index(['Date', 'Team 1', 'Team 2', 'batsman', 'batting_team', 'bowler',\n",
      "       'bowling_team', 'city', 'match_winner', 'player_of_the_match',\n",
      "       'toss_decision', 'toss_winner', 'venue'],\n",
      "      dtype='object')\n",
      "  last_five.extend(groups.get_group(id).rolling(window=30).sum()['runs'].values.tolist())\n",
      "/var/folders/zk/yt14z40j2lb2lz548fqr3v9m0000gn/T/ipykernel_41439/1897754388.py:6: FutureWarning: Dropping of nuisance columns in rolling operations is deprecated; in a future version this will raise TypeError. Select only valid columns before calling the operation. Dropped columns were Index(['Date', 'Team 1', 'Team 2', 'batsman', 'batting_team', 'bowler',\n",
      "       'bowling_team', 'city', 'player_of_the_match', 'toss_decision',\n",
      "       'toss_winner', 'venue'],\n",
      "      dtype='object')\n",
      "  last_five.extend(groups.get_group(id).rolling(window=30).sum()['runs'].values.tolist())\n"
     ]
    }
   ],
   "source": [
    "groups = combined_df.groupby('match_id')\n",
    "\n",
    "match_ids = combined_df['match_id'].unique()\n",
    "last_five = []\n",
    "for id in match_ids:\n",
    "    last_five.extend(groups.get_group(id).rolling(window=30).sum()['runs'].values.tolist())"
   ]
  },
  {
   "cell_type": "code",
   "execution_count": 32,
   "id": "fae99526",
   "metadata": {},
   "outputs": [],
   "source": [
    "combined_df['last_five'] = last_five"
   ]
  },
  {
   "cell_type": "code",
   "execution_count": 33,
   "id": "1fe699a8",
   "metadata": {},
   "outputs": [
    {
     "data": {
      "text/html": [
       "<div>\n",
       "<style scoped>\n",
       "    .dataframe tbody tr th:only-of-type {\n",
       "        vertical-align: middle;\n",
       "    }\n",
       "\n",
       "    .dataframe tbody tr th {\n",
       "        vertical-align: top;\n",
       "    }\n",
       "\n",
       "    .dataframe thead th {\n",
       "        text-align: right;\n",
       "    }\n",
       "</style>\n",
       "<table border=\"1\" class=\"dataframe\">\n",
       "  <thead>\n",
       "    <tr style=\"text-align: right;\">\n",
       "      <th></th>\n",
       "      <th>match_id</th>\n",
       "      <th>Team 1</th>\n",
       "      <th>Team 2</th>\n",
       "      <th>batting_team</th>\n",
       "      <th>bowling_team</th>\n",
       "      <th>ball</th>\n",
       "      <th>batsman</th>\n",
       "      <th>bowler</th>\n",
       "      <th>runs</th>\n",
       "      <th>player_dismissed</th>\n",
       "      <th>...</th>\n",
       "      <th>match_winner</th>\n",
       "      <th>player_of_the_match</th>\n",
       "      <th>current_score</th>\n",
       "      <th>over</th>\n",
       "      <th>ball_no</th>\n",
       "      <th>balls_bowled</th>\n",
       "      <th>balls_left</th>\n",
       "      <th>wickets_left</th>\n",
       "      <th>crr</th>\n",
       "      <th>last_five</th>\n",
       "    </tr>\n",
       "  </thead>\n",
       "  <tbody>\n",
       "    <tr>\n",
       "      <th>34471</th>\n",
       "      <td>284</td>\n",
       "      <td>South Africa</td>\n",
       "      <td>Australia</td>\n",
       "      <td>South Africa</td>\n",
       "      <td>Australia</td>\n",
       "      <td>19.5</td>\n",
       "      <td>DA Miller</td>\n",
       "      <td>MA Starc</td>\n",
       "      <td>1</td>\n",
       "      <td>4</td>\n",
       "      <td>...</td>\n",
       "      <td>South Africa</td>\n",
       "      <td>[Q de Kock]</td>\n",
       "      <td>156</td>\n",
       "      <td>19</td>\n",
       "      <td>5</td>\n",
       "      <td>119</td>\n",
       "      <td>1</td>\n",
       "      <td>6</td>\n",
       "      <td>7.865546</td>\n",
       "      <td>35.0</td>\n",
       "    </tr>\n",
       "    <tr>\n",
       "      <th>32854</th>\n",
       "      <td>270</td>\n",
       "      <td>India</td>\n",
       "      <td>Sri Lanka</td>\n",
       "      <td>Sri Lanka</td>\n",
       "      <td>India</td>\n",
       "      <td>16.3</td>\n",
       "      <td>KMDN Kulasekara</td>\n",
       "      <td>Yuvraj Singh</td>\n",
       "      <td>1</td>\n",
       "      <td>7</td>\n",
       "      <td>...</td>\n",
       "      <td>India</td>\n",
       "      <td>[Yuvraj Singh]</td>\n",
       "      <td>168</td>\n",
       "      <td>16</td>\n",
       "      <td>3</td>\n",
       "      <td>99</td>\n",
       "      <td>21</td>\n",
       "      <td>3</td>\n",
       "      <td>10.181818</td>\n",
       "      <td>40.0</td>\n",
       "    </tr>\n",
       "    <tr>\n",
       "      <th>171527</th>\n",
       "      <td>1415</td>\n",
       "      <td>Australia</td>\n",
       "      <td>South Africa</td>\n",
       "      <td>Australia</td>\n",
       "      <td>South Africa</td>\n",
       "      <td>6.1</td>\n",
       "      <td>JR Hopes</td>\n",
       "      <td>SM Pollock</td>\n",
       "      <td>1</td>\n",
       "      <td>0</td>\n",
       "      <td>...</td>\n",
       "      <td>Australia</td>\n",
       "      <td>[DR Martyn]</td>\n",
       "      <td>51</td>\n",
       "      <td>6</td>\n",
       "      <td>1</td>\n",
       "      <td>37</td>\n",
       "      <td>83</td>\n",
       "      <td>10</td>\n",
       "      <td>8.270270</td>\n",
       "      <td>44.0</td>\n",
       "    </tr>\n",
       "    <tr>\n",
       "      <th>53772</th>\n",
       "      <td>443</td>\n",
       "      <td>West Indies</td>\n",
       "      <td>Pakistan</td>\n",
       "      <td>West Indies</td>\n",
       "      <td>Pakistan</td>\n",
       "      <td>10.3</td>\n",
       "      <td>JN Mohammed</td>\n",
       "      <td>Hasan Ali</td>\n",
       "      <td>0</td>\n",
       "      <td>2</td>\n",
       "      <td>...</td>\n",
       "      <td>Pakistan</td>\n",
       "      <td>[Hasan Ali]</td>\n",
       "      <td>59</td>\n",
       "      <td>10</td>\n",
       "      <td>3</td>\n",
       "      <td>63</td>\n",
       "      <td>57</td>\n",
       "      <td>8</td>\n",
       "      <td>5.619048</td>\n",
       "      <td>18.0</td>\n",
       "    </tr>\n",
       "    <tr>\n",
       "      <th>28351</th>\n",
       "      <td>233</td>\n",
       "      <td>India</td>\n",
       "      <td>Australia</td>\n",
       "      <td>Australia</td>\n",
       "      <td>India</td>\n",
       "      <td>14.2</td>\n",
       "      <td>MC Henriques</td>\n",
       "      <td>RA Jadeja</td>\n",
       "      <td>2</td>\n",
       "      <td>5</td>\n",
       "      <td>...</td>\n",
       "      <td>India</td>\n",
       "      <td>[Yuvraj Singh]</td>\n",
       "      <td>153</td>\n",
       "      <td>14</td>\n",
       "      <td>2</td>\n",
       "      <td>86</td>\n",
       "      <td>34</td>\n",
       "      <td>5</td>\n",
       "      <td>10.674419</td>\n",
       "      <td>45.0</td>\n",
       "    </tr>\n",
       "    <tr>\n",
       "      <th>7913</th>\n",
       "      <td>65</td>\n",
       "      <td>England</td>\n",
       "      <td>West Indies</td>\n",
       "      <td>West Indies</td>\n",
       "      <td>England</td>\n",
       "      <td>12.5</td>\n",
       "      <td>DJ Bravo</td>\n",
       "      <td>GP Swann</td>\n",
       "      <td>2</td>\n",
       "      <td>3</td>\n",
       "      <td>...</td>\n",
       "      <td>England</td>\n",
       "      <td>[AD Hales]</td>\n",
       "      <td>76</td>\n",
       "      <td>12</td>\n",
       "      <td>5</td>\n",
       "      <td>77</td>\n",
       "      <td>43</td>\n",
       "      <td>7</td>\n",
       "      <td>5.922078</td>\n",
       "      <td>40.0</td>\n",
       "    </tr>\n",
       "    <tr>\n",
       "      <th>94518</th>\n",
       "      <td>784</td>\n",
       "      <td>India</td>\n",
       "      <td>South Africa</td>\n",
       "      <td>India</td>\n",
       "      <td>South Africa</td>\n",
       "      <td>12.1</td>\n",
       "      <td>MK Pandey</td>\n",
       "      <td>CJ Dala</td>\n",
       "      <td>0</td>\n",
       "      <td>4</td>\n",
       "      <td>...</td>\n",
       "      <td>South Africa</td>\n",
       "      <td>[H Klaasen]</td>\n",
       "      <td>97</td>\n",
       "      <td>12</td>\n",
       "      <td>1</td>\n",
       "      <td>73</td>\n",
       "      <td>47</td>\n",
       "      <td>6</td>\n",
       "      <td>7.972603</td>\n",
       "      <td>43.0</td>\n",
       "    </tr>\n",
       "    <tr>\n",
       "      <th>34630</th>\n",
       "      <td>286</td>\n",
       "      <td>Australia</td>\n",
       "      <td>West Indies</td>\n",
       "      <td>Australia</td>\n",
       "      <td>West Indies</td>\n",
       "      <td>4.7</td>\n",
       "      <td>GJ Maxwell</td>\n",
       "      <td>S Badree</td>\n",
       "      <td>0</td>\n",
       "      <td>2</td>\n",
       "      <td>...</td>\n",
       "      <td>West Indies</td>\n",
       "      <td>[DJG Sammy]</td>\n",
       "      <td>41</td>\n",
       "      <td>4</td>\n",
       "      <td>7</td>\n",
       "      <td>31</td>\n",
       "      <td>89</td>\n",
       "      <td>8</td>\n",
       "      <td>7.935484</td>\n",
       "      <td>40.0</td>\n",
       "    </tr>\n",
       "    <tr>\n",
       "      <th>143359</th>\n",
       "      <td>1184</td>\n",
       "      <td>South Africa</td>\n",
       "      <td>West Indies</td>\n",
       "      <td>West Indies</td>\n",
       "      <td>South Africa</td>\n",
       "      <td>9.4</td>\n",
       "      <td>S Chanderpaul</td>\n",
       "      <td>M Morkel</td>\n",
       "      <td>0</td>\n",
       "      <td>3</td>\n",
       "      <td>...</td>\n",
       "      <td>South Africa</td>\n",
       "      <td>[SM Pollock]</td>\n",
       "      <td>48</td>\n",
       "      <td>9</td>\n",
       "      <td>4</td>\n",
       "      <td>58</td>\n",
       "      <td>62</td>\n",
       "      <td>7</td>\n",
       "      <td>4.965517</td>\n",
       "      <td>19.0</td>\n",
       "    </tr>\n",
       "    <tr>\n",
       "      <th>27583</th>\n",
       "      <td>227</td>\n",
       "      <td>India</td>\n",
       "      <td>New Zealand</td>\n",
       "      <td>India</td>\n",
       "      <td>New Zealand</td>\n",
       "      <td>10.1</td>\n",
       "      <td>S Dhawan</td>\n",
       "      <td>C Munro</td>\n",
       "      <td>1</td>\n",
       "      <td>0</td>\n",
       "      <td>...</td>\n",
       "      <td>India</td>\n",
       "      <td>[S Dhawan]</td>\n",
       "      <td>81</td>\n",
       "      <td>10</td>\n",
       "      <td>1</td>\n",
       "      <td>61</td>\n",
       "      <td>59</td>\n",
       "      <td>10</td>\n",
       "      <td>7.967213</td>\n",
       "      <td>40.0</td>\n",
       "    </tr>\n",
       "  </tbody>\n",
       "</table>\n",
       "<p>10 rows × 25 columns</p>\n",
       "</div>"
      ],
      "text/plain": [
       "        match_id        Team 1        Team 2  batting_team  bowling_team  \\\n",
       "34471        284  South Africa     Australia  South Africa     Australia   \n",
       "32854        270         India     Sri Lanka     Sri Lanka         India   \n",
       "171527      1415     Australia  South Africa     Australia  South Africa   \n",
       "53772        443   West Indies      Pakistan   West Indies      Pakistan   \n",
       "28351        233         India     Australia     Australia         India   \n",
       "7913          65       England   West Indies   West Indies       England   \n",
       "94518        784         India  South Africa         India  South Africa   \n",
       "34630        286     Australia   West Indies     Australia   West Indies   \n",
       "143359      1184  South Africa   West Indies   West Indies  South Africa   \n",
       "27583        227         India   New Zealand         India   New Zealand   \n",
       "\n",
       "        ball          batsman        bowler  runs  player_dismissed  ...  \\\n",
       "34471   19.5        DA Miller      MA Starc     1                 4  ...   \n",
       "32854   16.3  KMDN Kulasekara  Yuvraj Singh     1                 7  ...   \n",
       "171527   6.1         JR Hopes    SM Pollock     1                 0  ...   \n",
       "53772   10.3      JN Mohammed     Hasan Ali     0                 2  ...   \n",
       "28351   14.2     MC Henriques     RA Jadeja     2                 5  ...   \n",
       "7913    12.5         DJ Bravo      GP Swann     2                 3  ...   \n",
       "94518   12.1        MK Pandey       CJ Dala     0                 4  ...   \n",
       "34630    4.7       GJ Maxwell      S Badree     0                 2  ...   \n",
       "143359   9.4    S Chanderpaul      M Morkel     0                 3  ...   \n",
       "27583   10.1         S Dhawan       C Munro     1                 0  ...   \n",
       "\n",
       "        match_winner player_of_the_match current_score over ball_no  \\\n",
       "34471   South Africa         [Q de Kock]           156   19       5   \n",
       "32854          India      [Yuvraj Singh]           168   16       3   \n",
       "171527     Australia         [DR Martyn]            51    6       1   \n",
       "53772       Pakistan         [Hasan Ali]            59   10       3   \n",
       "28351          India      [Yuvraj Singh]           153   14       2   \n",
       "7913         England          [AD Hales]            76   12       5   \n",
       "94518   South Africa         [H Klaasen]            97   12       1   \n",
       "34630    West Indies         [DJG Sammy]            41    4       7   \n",
       "143359  South Africa        [SM Pollock]            48    9       4   \n",
       "27583          India          [S Dhawan]            81   10       1   \n",
       "\n",
       "       balls_bowled balls_left  wickets_left        crr last_five  \n",
       "34471           119          1             6   7.865546      35.0  \n",
       "32854            99         21             3  10.181818      40.0  \n",
       "171527           37         83            10   8.270270      44.0  \n",
       "53772            63         57             8   5.619048      18.0  \n",
       "28351            86         34             5  10.674419      45.0  \n",
       "7913             77         43             7   5.922078      40.0  \n",
       "94518            73         47             6   7.972603      43.0  \n",
       "34630            31         89             8   7.935484      40.0  \n",
       "143359           58         62             7   4.965517      19.0  \n",
       "27583            61         59            10   7.967213      40.0  \n",
       "\n",
       "[10 rows x 25 columns]"
      ]
     },
     "execution_count": 33,
     "metadata": {},
     "output_type": "execute_result"
    }
   ],
   "source": [
    "combined_df.sample(10)"
   ]
  },
  {
   "cell_type": "code",
   "execution_count": 34,
   "id": "7b67fbd2",
   "metadata": {},
   "outputs": [
    {
     "data": {
      "text/plain": [
       "Index(['match_id', 'Team 1', 'Team 2', 'batting_team', 'bowling_team', 'ball',\n",
       "       'batsman', 'bowler', 'runs', 'player_dismissed', 'city', 'venue',\n",
       "       'Date', 'toss_winner', 'toss_decision', 'match_winner',\n",
       "       'player_of_the_match', 'current_score', 'over', 'ball_no',\n",
       "       'balls_bowled', 'balls_left', 'wickets_left', 'crr', 'last_five'],\n",
       "      dtype='object')"
      ]
     },
     "execution_count": 34,
     "metadata": {},
     "output_type": "execute_result"
    }
   ],
   "source": [
    "combined_df.columns"
   ]
  },
  {
   "cell_type": "code",
   "execution_count": 35,
   "id": "280c8d96",
   "metadata": {},
   "outputs": [
    {
     "data": {
      "image/png": "[encoded data removed]",
      "text/plain": [
       "<Figure size 1200x800 with 2 Axes>"
      ]
     },
     "metadata": {},
     "output_type": "display_data"
    }
   ],
   "source": [
    "import pandas as pd\n",
    "from sklearn.model_selection import train_test_split\n",
    "from sklearn.preprocessing import StandardScaler\n",
    "import seaborn as sns\n",
    "import matplotlib.pyplot as plt\n",
    "\n",
    "# Correlation Matrix of Numerical Features\n",
    "numerical_features = ['current_score', 'balls_left', 'wickets_left', 'crr', 'last_five']\n",
    "corr_matrix = combined_df[numerical_features].corr()\n",
    "\n",
    "# Plotting the correlation matrix\n",
    "plt.figure(figsize=(12, 8))\n",
    "sns.heatmap(corr_matrix, annot=True, fmt=\".2f\", cmap='coolwarm')\n",
    "plt.title('Correlation Matrix')\n",
    "plt.show()"
   ]
  },
  {
   "cell_type": "markdown",
   "id": "b0d3bcfa",
   "metadata": {},
   "source": [
    "adding more features such as pressure factor , crr, wicket rate etc"
   ]
  },
  {
   "cell_type": "code",
   "execution_count": 36,
   "id": "e2c20569",
   "metadata": {},
   "outputs": [],
   "source": [
    "\n",
    "combined_df.loc[:, 'run_rate'] = combined_df['current_score'] / (120 - combined_df['balls_left']) * 6\n",
    "combined_df.loc[:, 'wickets_rate'] = combined_df['wickets_left'] / (120 - combined_df['balls_left']) * 6\n",
    "\n",
    "# Using vectorized operations to create the Pressure Factor\n",
    "combined_df.loc[:, 'pressure_factor'] = combined_df.apply(\n",
    "    lambda row: row['last_five'] / (10 - row['wickets_left']) if row['wickets_left'] < 10 else row['last_five'],\n",
    "    axis=1\n",
    ")"
   ]
  },
  {
   "cell_type": "code",
   "execution_count": 37,
   "id": "1243a955",
   "metadata": {},
   "outputs": [
    {
     "name": "stdout",
     "output_type": "stream",
     "text": [
      "<class 'pandas.core.frame.DataFrame'>\n",
      "Int64Index: 63569 entries, 245 to 173593\n",
      "Data columns (total 28 columns):\n",
      " #   Column               Non-Null Count  Dtype         \n",
      "---  ------               --------------  -----         \n",
      " 0   match_id             63569 non-null  int64         \n",
      " 1   Team 1               63569 non-null  object        \n",
      " 2   Team 2               63569 non-null  object        \n",
      " 3   batting_team         63569 non-null  object        \n",
      " 4   bowling_team         63569 non-null  object        \n",
      " 5   ball                 63569 non-null  float64       \n",
      " 6   batsman              63569 non-null  object        \n",
      " 7   bowler               63569 non-null  object        \n",
      " 8   runs                 63569 non-null  int64         \n",
      " 9   player_dismissed     63569 non-null  int64         \n",
      " 10  city                 63569 non-null  object        \n",
      " 11  venue                63569 non-null  object        \n",
      " 12  Date                 63569 non-null  datetime64[ns]\n",
      " 13  toss_winner          63569 non-null  object        \n",
      " 14  toss_decision        63569 non-null  object        \n",
      " 15  match_winner         62133 non-null  object        \n",
      " 16  player_of_the_match  63569 non-null  object        \n",
      " 17  current_score        63569 non-null  int64         \n",
      " 18  over                 63569 non-null  object        \n",
      " 19  ball_no              63569 non-null  object        \n",
      " 20  balls_bowled         63569 non-null  int64         \n",
      " 21  balls_left           63569 non-null  int64         \n",
      " 22  wickets_left         63569 non-null  int64         \n",
      " 23  crr                  63569 non-null  float64       \n",
      " 24  last_five            48489 non-null  float64       \n",
      " 25  run_rate             63569 non-null  float64       \n",
      " 26  wickets_rate         63569 non-null  float64       \n",
      " 27  pressure_factor      48489 non-null  float64       \n",
      "dtypes: datetime64[ns](1), float64(6), int64(7), object(14)\n",
      "memory usage: 14.1+ MB\n"
     ]
    }
   ],
   "source": [
    "combined_df.info()"
   ]
  },
  {
   "cell_type": "code",
   "execution_count": 38,
   "id": "22243aa5",
   "metadata": {},
   "outputs": [],
   "source": [
    "# Replace infinite or NaN values which may have been introduced\n",
    "combined_df.replace([np.inf, -np.inf], np.nan, inplace=True)\n",
    "combined_df.fillna(0, inplace=True)"
   ]
  },
  {
   "cell_type": "markdown",
   "id": "2b8409f1",
   "metadata": {},
   "source": [
    "model prepration and building "
   ]
  },
  {
   "cell_type": "code",
   "execution_count": 39,
   "id": "c48a500c",
   "metadata": {},
   "outputs": [
    {
     "name": "stdout",
     "output_type": "stream",
     "text": [
      "Model: SVC\n",
      "Overall Accuracy: 0.9777410728330974\n",
      "              precision    recall  f1-score   support\n",
      "\n",
      "           0       0.96      0.90      0.93       270\n",
      " Afghanistan       1.00      0.99      1.00       156\n",
      "   Australia       0.99      0.96      0.98      1574\n",
      "  Bangladesh       0.99      0.97      0.98       340\n",
      "     England       0.98      0.97      0.97      1475\n",
      "       India       0.99      1.00      0.99      1856\n",
      " New Zealand       0.97      0.96      0.97      1302\n",
      "    Pakistan       0.96      0.99      0.98      1820\n",
      "South Africa       0.99      0.99      0.99      1476\n",
      "   Sri Lanka       0.97      0.97      0.97      1289\n",
      " West Indies       0.97      0.98      0.97      1156\n",
      "\n",
      "    accuracy                           0.98     12714\n",
      "   macro avg       0.98      0.97      0.97     12714\n",
      "weighted avg       0.98      0.98      0.98     12714\n",
      "\n",
      "--------------------------------------------------------------------------------\n",
      "Model: DecisionTreeClassifier\n",
      "Overall Accuracy: 0.9927638823344345\n",
      "              precision    recall  f1-score   support\n",
      "\n",
      "           0       0.98      0.99      0.99       270\n",
      " Afghanistan       1.00      1.00      1.00       156\n",
      "   Australia       0.99      0.99      0.99      1574\n",
      "  Bangladesh       0.99      0.99      0.99       340\n",
      "     England       0.99      0.99      0.99      1475\n",
      "       India       1.00      1.00      1.00      1856\n",
      " New Zealand       0.99      1.00      1.00      1302\n",
      "    Pakistan       0.99      0.99      0.99      1820\n",
      "South Africa       0.99      0.99      0.99      1476\n",
      "   Sri Lanka       0.99      0.99      0.99      1289\n",
      " West Indies       0.99      1.00      0.99      1156\n",
      "\n",
      "    accuracy                           0.99     12714\n",
      "   macro avg       0.99      0.99      0.99     12714\n",
      "weighted avg       0.99      0.99      0.99     12714\n",
      "\n",
      "--------------------------------------------------------------------------------\n",
      "Model: GradientBoostingClassifier\n",
      "Overall Accuracy: 0.9579990561585654\n",
      "              precision    recall  f1-score   support\n",
      "\n",
      "           0       0.97      0.90      0.94       270\n",
      " Afghanistan       1.00      1.00      1.00       156\n",
      "   Australia       0.98      0.95      0.96      1574\n",
      "  Bangladesh       0.94      0.96      0.95       340\n",
      "     England       0.95      0.94      0.95      1475\n",
      "       India       0.99      1.00      0.99      1856\n",
      " New Zealand       0.96      0.91      0.94      1302\n",
      "    Pakistan       0.94      0.99      0.96      1820\n",
      "South Africa       0.97      0.96      0.96      1476\n",
      "   Sri Lanka       0.92      0.94      0.93      1289\n",
      " West Indies       0.95      0.96      0.96      1156\n",
      "\n",
      "    accuracy                           0.96     12714\n",
      "   macro avg       0.96      0.96      0.96     12714\n",
      "weighted avg       0.96      0.96      0.96     12714\n",
      "\n",
      "--------------------------------------------------------------------------------\n",
      "Model: GaussianNB\n",
      "Overall Accuracy: 0.45154947302186565\n",
      "              precision    recall  f1-score   support\n",
      "\n",
      "           0       0.16      1.00      0.27       270\n",
      " Afghanistan       0.86      1.00      0.93       156\n",
      "   Australia       0.48      0.68      0.57      1574\n",
      "  Bangladesh       0.43      0.93      0.59       340\n",
      "     England       0.79      0.37      0.50      1475\n",
      "       India       1.00      0.17      0.29      1856\n",
      " New Zealand       0.34      0.69      0.46      1302\n",
      "    Pakistan       0.79      0.31      0.44      1820\n",
      "South Africa       0.80      0.23      0.35      1476\n",
      "   Sri Lanka       0.50      0.28      0.36      1289\n",
      " West Indies       0.38      0.80      0.52      1156\n",
      "\n",
      "    accuracy                           0.45     12714\n",
      "   macro avg       0.59      0.59      0.48     12714\n",
      "weighted avg       0.65      0.45      0.44     12714\n",
      "\n",
      "--------------------------------------------------------------------------------\n"
     ]
    }
   ],
   "source": [
    "import pandas as pd\n",
    "from sklearn.model_selection import train_test_split\n",
    "from sklearn.preprocessing import StandardScaler, OneHotEncoder, FunctionTransformer\n",
    "from sklearn.compose import ColumnTransformer\n",
    "from sklearn.pipeline import Pipeline\n",
    "from sklearn.metrics import accuracy_score, classification_report\n",
    "from sklearn.svm import SVC\n",
    "from sklearn.tree import DecisionTreeClassifier\n",
    "from sklearn.ensemble import GradientBoostingClassifier\n",
    "from sklearn.naive_bayes import GaussianNB\n",
    "\n",
    "# Convert match_winner to string type to ensure consistency\n",
    "combined_df['match_winner'] = combined_df['match_winner'].astype(str)\n",
    "\n",
    "categorical_features = ['venue', 'batting_team', 'bowling_team', 'toss_decision', 'toss_winner']\n",
    "numerical_features = ['current_score', 'wickets_left', 'crr', 'last_five', 'run_rate', 'wickets_rate', 'pressure_factor']\n",
    "\n",
    "# Column Transformer for preprocessing\n",
    "preprocessor = ColumnTransformer(\n",
    "    transformers=[\n",
    "        ('num', StandardScaler(), numerical_features),\n",
    "        ('cat', OneHotEncoder(), categorical_features)\n",
    "    ])\n",
    "\n",
    "def train_and_evaluate(model, X_train, X_test, y_train, y_test, force_dense=False):\n",
    "    # Check if the model requires dense data\n",
    "    if force_dense:\n",
    "        # Add a step to convert data to dense format if required by the model\n",
    "        pipeline = Pipeline([\n",
    "            ('preprocessor', preprocessor),\n",
    "            ('to_dense', FunctionTransformer(lambda x: x.toarray(), accept_sparse=True)),\n",
    "            ('model', model)\n",
    "        ])\n",
    "    else:\n",
    "        pipeline = Pipeline([\n",
    "            ('preprocessor', preprocessor),\n",
    "            ('model', model)\n",
    "        ])\n",
    "\n",
    "    pipeline.fit(X_train, y_train)\n",
    "    predictions = pipeline.predict(X_test)\n",
    "    print(f\"Model: {model.__class__.__name__}\")\n",
    "    print(\"Overall Accuracy:\", accuracy_score(y_test, predictions))\n",
    "    print(classification_report(y_test, predictions))\n",
    "    print(\"-\" * 80)\n",
    "\n",
    "X = combined_df.drop('match_winner', axis=1)\n",
    "y = combined_df['match_winner']\n",
    "X_train, X_test, y_train, y_test = train_test_split(X, y, test_size=0.2, random_state=42)\n",
    "\n",
    "# Models and whether they need dense data\n",
    "models = [\n",
    "    (SVC(kernel='rbf', random_state=42), False),\n",
    "    (DecisionTreeClassifier(random_state=42), False),\n",
    "    (GradientBoostingClassifier(n_estimators=100, random_state=42), False),\n",
    "    (GaussianNB(), True)\n",
    "]\n",
    "\n",
    "# Train and evaluate each model\n",
    "for model, needs_dense in models:\n",
    "    train_and_evaluate(model, X_train, X_test, y_train, y_test, force_dense=needs_dense)\n"
   ]
  },
  {
   "cell_type": "code",
   "execution_count": 40,
   "id": "66dcc82c",
   "metadata": {},
   "outputs": [
    {
     "name": "stdout",
     "output_type": "stream",
     "text": [
      "Chi-squared: 32.139802947333266, p-value: 1.4346771523470932e-08\n",
      "Optimization terminated successfully.\n",
      "         Current function value: 0.692683\n",
      "         Iterations 3\n",
      "                           Logit Regression Results                           \n",
      "==============================================================================\n",
      "Dep. Variable:       toss_winner_wins   No. Observations:                63569\n",
      "Model:                          Logit   Df Residuals:                    63567\n",
      "Method:                           MLE   Df Model:                            1\n",
      "Date:                Tue, 16 Jul 2024   Pseudo R-squ.:               0.0003659\n",
      "Time:                        13:38:30   Log-Likelihood:                -44033.\n",
      "converged:                       True   LL-Null:                       -44049.\n",
      "Covariance Type:            nonrobust   LLR p-value:                 1.369e-08\n",
      "=============================================================================================\n",
      "                                coef    std err          z      P>|z|      [0.025      0.975]\n",
      "---------------------------------------------------------------------------------------------\n",
      "Intercept                     0.0080      0.012      0.680      0.496      -0.015       0.031\n",
      "C(toss_decision)[T.field]    -0.0904      0.016     -5.677      0.000      -0.122      -0.059\n",
      "=============================================================================================\n"
     ]
    }
   ],
   "source": [
    "import pandas as pd\n",
    "import statsmodels.api as sm\n",
    "from statsmodels.formula.api import logit\n",
    "\n",
    "# Assuming 'toss_winner' and 'match_winner' are columns in your DataFrame\n",
    "combined_df['toss_winner_wins'] = (combined_df['toss_winner'] == combined_df['match_winner']).astype(int)\n",
    "\n",
    "# Create a contingency table\n",
    "contingency_table = pd.crosstab(combined_df['toss_decision'], combined_df['toss_winner_wins'])\n",
    "\n",
    "# Perform the chi-squared test\n",
    "from scipy.stats import chi2_contingency\n",
    "chi2, p, dof, expected = chi2_contingency(contingency_table)\n",
    "\n",
    "print(f\"Chi-squared: {chi2}, p-value: {p}\")\n",
    "\n",
    "# Logistic regression to estimate the impact of toss_decision on winning\n",
    "model = logit(\"toss_winner_wins ~ C(toss_decision)\", data=combined_df).fit()\n",
    "print(model.summary())\n"
   ]
  },
  {
   "cell_type": "markdown",
   "id": "3ddfc6fe",
   "metadata": {},
   "source": [
    "\n",
    " \n",
    "The chi-squared test result is highly significant (p-value < 0.05), indicating a statistically significant association between the toss decision (bat or bowl) and the outcome of the match. This suggests that the decision made at the toss does impact whether the toss-winning team will win the match.\n",
    "\n",
    "Logistic Regression Analysis\n",
    "Pseudo R-squared: 0.0003491 (This is very low, indicating that the model explains very little of the variance in the outcome. Toss decisions, while statistically significant, might not be strongly predictive of match outcomes on their own.)\n",
    "Coefficients:\n",
    "Intercept: 0.0521 (When the reference category for the toss decision is \"bat\")\n",
    "C(toss_decision)[T.field]: -0.0883\n",
    "Coefficients Interpretation\n",
    "The coefficient for C(toss_decision)[T.field] is -0.0883, which is statistically significant (p-value < 0.05). This suggests that choosing to field after winning the toss is associated with a decrease in the likelihood of winning the match compared to choosing to bat.\n",
    "The negative sign indicates that teams that decide to field after winning the toss are slightly less likely to win the match than those that decide to bat."
   ]
  },
  {
   "cell_type": "code",
   "execution_count": 41,
   "id": "58efe88f",
   "metadata": {},
   "outputs": [
    {
     "name": "stdout",
     "output_type": "stream",
     "text": [
      "Odds Ratio: 0.9154861896654275\n"
     ]
    }
   ],
   "source": [
    "\n",
    "odds_ratio = np.exp(-0.0883)\n",
    "print(f\"Odds Ratio: {odds_ratio}\")\n"
   ]
  },
  {
   "cell_type": "markdown",
   "id": "64b1f6e0",
   "metadata": {},
   "source": [
    "The analysis suggests that there is a statistically significant impact of the toss decision on the match outcome, with teams choosing to bat after winning the toss having a slightly higher likelihood of winning. This could inform strategic decisions in match play, although the effect size is relatively small, indicating that while the decision is statistically significant, its practical impact might be limited."
   ]
  },
  {
   "cell_type": "markdown",
   "id": "32a5e1b3",
   "metadata": {},
   "source": [
    "use any of this key for api hit \n",
    "\n",
    "key cc6e60b3cb3c4b788ff123310241607\n",
    "key 2 : 94c8d09751144d1db1e175705241507\n",
    "\n",
    "website used https://www.worldweatheronline.com/weather-api/my/analytics.aspx?key_id=255805\n",
    "\n",
    "its a free acc so only 500 req per day are allowed "
   ]
  },
  {
   "cell_type": "code",
   "execution_count": 42,
   "id": "8460615c",
   "metadata": {},
   "outputs": [
    {
     "name": "stderr",
     "output_type": "stream",
     "text": [
      "Fetching weather data:   1%|          | 375/63569 [00:01<02:18, 457.78it/s]"
     ]
    },
    {
     "name": "stdout",
     "output_type": "stream",
     "text": [
      "No weather data for Bangalore on 2017-02-01 00:00:00\n"
     ]
    },
    {
     "name": "stderr",
     "output_type": "stream",
     "text": [
      "Fetching weather data:   1%|          | 622/63569 [00:01<01:44, 600.00it/s]"
     ]
    },
    {
     "name": "stdout",
     "output_type": "stream",
     "text": [
      "No weather data for Cape Town on 2020-12-01 00:00:00\n"
     ]
    },
    {
     "name": "stderr",
     "output_type": "stream",
     "text": [
      "Fetching weather data:   2%|▏         | 985/63569 [00:01<01:30, 694.25it/s]"
     ]
    },
    {
     "name": "stdout",
     "output_type": "stream",
     "text": [
      "No weather data for Wellington on 2018-01-22 00:00:00\n",
      "No weather data for Hamilton on 2020-12-20 00:00:00\n"
     ]
    },
    {
     "name": "stderr",
     "output_type": "stream",
     "text": [
      "Fetching weather data:   2%|▏         | 1233/63569 [00:02<01:24, 737.10it/s]"
     ]
    },
    {
     "name": "stdout",
     "output_type": "stream",
     "text": [
      "No weather data for Chandigarh on 2016-03-27 00:00:00\n"
     ]
    },
    {
     "name": "stderr",
     "output_type": "stream",
     "text": [
      "Fetching weather data:   2%|▏         | 1483/63569 [00:02<01:22, 751.52it/s]"
     ]
    },
    {
     "name": "stdout",
     "output_type": "stream",
     "text": [
      "No weather data for Southampton on 2005-06-13 00:00:00\n"
     ]
    },
    {
     "name": "stderr",
     "output_type": "stream",
     "text": [
      "Fetching weather data:   3%|▎         | 2084/63569 [00:03<01:25, 715.69it/s]"
     ]
    },
    {
     "name": "stdout",
     "output_type": "stream",
     "text": [
      "No weather data for Durban on 2007-09-22 00:00:00\n"
     ]
    },
    {
     "name": "stderr",
     "output_type": "stream",
     "text": [
      "Fetching weather data:   4%|▎         | 2339/63569 [00:03<01:20, 760.64it/s]"
     ]
    },
    {
     "name": "stdout",
     "output_type": "stream",
     "text": [
      "No weather data for Dubai on 2012-02-25 00:00:00\n"
     ]
    },
    {
     "name": "stderr",
     "output_type": "stream",
     "text": [
      "Fetching weather data:   4%|▍         | 2586/63569 [00:04<01:19, 771.03it/s]"
     ]
    },
    {
     "name": "stdout",
     "output_type": "stream",
     "text": [
      "No weather data for Rajkot on 2019-11-07 00:00:00\n"
     ]
    },
    {
     "name": "stderr",
     "output_type": "stream",
     "text": [
      "Fetching weather data:   5%|▌         | 3336/63569 [00:05<01:20, 747.77it/s]"
     ]
    },
    {
     "name": "stdout",
     "output_type": "stream",
     "text": [
      "No weather data for Kolkata on 2016-03-26 00:00:00\n"
     ]
    },
    {
     "name": "stderr",
     "output_type": "stream",
     "text": [
      "Fetching weather data:   6%|▌         | 3647/63569 [00:05<01:26, 695.92it/s]"
     ]
    },
    {
     "name": "stdout",
     "output_type": "stream",
     "text": [
      "No weather data for Bristol on 2006-08-28 00:00:00\n"
     ]
    },
    {
     "name": "stderr",
     "output_type": "stream",
     "text": [
      "Fetching weather data:   6%|▋         | 4011/63569 [00:06<01:28, 674.60it/s]"
     ]
    },
    {
     "name": "stdout",
     "output_type": "stream",
     "text": [
      "No weather data for Kanpur on 2017-01-26 00:00:00\n"
     ]
    },
    {
     "name": "stderr",
     "output_type": "stream",
     "text": [
      "Fetching weather data:   7%|▋         | 4638/63569 [00:06<01:20, 736.60it/s]"
     ]
    },
    {
     "name": "stdout",
     "output_type": "stream",
     "text": [
      "No weather data for Dehradun on 2018-06-05 00:00:00\n"
     ]
    },
    {
     "name": "stderr",
     "output_type": "stream",
     "text": [
      "Fetching weather data:   8%|▊         | 4853/63569 [00:07<01:23, 701.75it/s]"
     ]
    },
    {
     "name": "stdout",
     "output_type": "stream",
     "text": [
      "No weather data for Mirpur on 2016-03-06 00:00:00\n"
     ]
    },
    {
     "name": "stderr",
     "output_type": "stream",
     "text": [
      "Fetching weather data:   8%|▊         | 5224/63569 [00:07<01:18, 740.72it/s]"
     ]
    },
    {
     "name": "stdout",
     "output_type": "stream",
     "text": [
      "No weather data for Cape Town on 2007-09-20 00:00:00\n"
     ]
    },
    {
     "name": "stderr",
     "output_type": "stream",
     "text": [
      "Fetching weather data:   9%|▊         | 5467/63569 [00:08<01:17, 753.11it/s]"
     ]
    },
    {
     "name": "stdout",
     "output_type": "stream",
     "text": [
      "No weather data for Cape Town on 2017-01-25 00:00:00\n",
      "No weather data for Hyderabad on 2019-12-06 00:00:00\n"
     ]
    },
    {
     "name": "stderr",
     "output_type": "stream",
     "text": [
      "Fetching weather data:   9%|▉         | 5834/63569 [00:08<01:12, 792.39it/s]"
     ]
    },
    {
     "name": "stdout",
     "output_type": "stream",
     "text": [
      "No weather data for Mumbai on 2016-03-20 00:00:00\n",
      "No weather data for Sydney on 2013-01-26 00:00:00\n"
     ]
    },
    {
     "name": "stderr",
     "output_type": "stream",
     "text": [
      "Fetching weather data:  10%|▉         | 6200/63569 [00:08<01:09, 828.45it/s]"
     ]
    },
    {
     "name": "stdout",
     "output_type": "stream",
     "text": [
      "No weather data for Chandigarh on 2016-03-25 00:00:00\n",
      "No weather data for Johannesburg on 2015-01-11 00:00:00\n"
     ]
    },
    {
     "name": "stderr",
     "output_type": "stream",
     "text": [
      "\r",
      "Fetching weather data:  10%|▉         | 6329/63569 [00:09<01:05, 871.14it/s]"
     ]
    },
    {
     "name": "stdout",
     "output_type": "stream",
     "text": [
      "No weather data for Lahore on 2017-10-29 00:00:00\n"
     ]
    },
    {
     "name": "stderr",
     "output_type": "stream",
     "text": [
      "Fetching weather data:  10%|█         | 6576/63569 [00:18<15:53, 59.77it/s] "
     ]
    },
    {
     "name": "stdout",
     "output_type": "stream",
     "text": [
      "No weather data for Karachi on 2008-04-20 00:00:00\n"
     ]
    },
    {
     "name": "stderr",
     "output_type": "stream",
     "text": [
      "Fetching weather data:  11%|█         | 6822/63569 [00:18<08:25, 112.18it/s]"
     ]
    },
    {
     "name": "stdout",
     "output_type": "stream",
     "text": [
      "No weather data for Durban on 2007-09-14 00:00:00\n"
     ]
    },
    {
     "name": "stderr",
     "output_type": "stream",
     "text": [
      "Fetching weather data:  11%|█         | 7067/63569 [00:19<04:41, 200.98it/s]"
     ]
    },
    {
     "name": "stdout",
     "output_type": "stream",
     "text": [
      "No weather data for Johannesburg on 2007-09-15 00:00:00\n",
      "No weather data for Auckland on 2005-02-17 00:00:00\n"
     ]
    },
    {
     "name": "stderr",
     "output_type": "stream",
     "text": [
      "Fetching weather data:  12%|█▏        | 7312/63569 [00:19<02:53, 323.63it/s]"
     ]
    },
    {
     "name": "stdout",
     "output_type": "stream",
     "text": [
      "No weather data for Johannesburg on 2012-03-30 00:00:00\n",
      "No weather data for Abu Dhabi on 2017-10-27 00:00:00\n"
     ]
    },
    {
     "name": "stderr",
     "output_type": "stream",
     "text": [
      "Fetching weather data:  12%|█▏        | 7800/63569 [00:20<01:40, 555.95it/s]"
     ]
    },
    {
     "name": "stdout",
     "output_type": "stream",
     "text": [
      "No weather data for Sydney on 2007-01-09 00:00:00\n"
     ]
    },
    {
     "name": "stderr",
     "output_type": "stream",
     "text": [
      "Fetching weather data:  13%|█▎        | 8413/63569 [00:21<01:33, 587.20it/s]"
     ]
    },
    {
     "name": "stdout",
     "output_type": "stream",
     "text": [
      "No weather data for Southampton on 2017-06-21 00:00:00\n"
     ]
    },
    {
     "name": "stderr",
     "output_type": "stream",
     "text": [
      "Fetching weather data:  14%|█▎        | 8665/63569 [00:21<01:17, 706.38it/s]"
     ]
    },
    {
     "name": "stdout",
     "output_type": "stream",
     "text": [
      "No weather data for Cape Town on 2007-09-20 00:00:00\n",
      "No weather data for Adelaide on 2011-01-12 00:00:00\n"
     ]
    },
    {
     "name": "stderr",
     "output_type": "stream",
     "text": [
      "Fetching weather data:  15%|█▍        | 9386/63569 [00:22<01:13, 737.23it/s]"
     ]
    },
    {
     "name": "stdout",
     "output_type": "stream",
     "text": [
      "No weather data for Dubai on 2015-11-26 00:00:00\n"
     ]
    },
    {
     "name": "stderr",
     "output_type": "stream",
     "text": [
      "Fetching weather data:  16%|█▌        | 9876/63569 [00:23<01:09, 777.09it/s]"
     ]
    },
    {
     "name": "stdout",
     "output_type": "stream",
     "text": [
      "No weather data for Mumbai on 2016-03-18 00:00:00\n",
      "No weather data for Southampton on 2016-07-05 00:00:00\n"
     ]
    },
    {
     "name": "stderr",
     "output_type": "stream",
     "text": [
      "Fetching weather data:  17%|█▋        | 10502/63569 [00:23<01:08, 776.08it/s]"
     ]
    },
    {
     "name": "stdout",
     "output_type": "stream",
     "text": [
      "No weather data for Chandigarh on 2009-12-12 00:00:00\n"
     ]
    },
    {
     "name": "stderr",
     "output_type": "stream",
     "text": [
      "Fetching weather data:  17%|█▋        | 10746/63569 [00:24<01:09, 759.94it/s]"
     ]
    },
    {
     "name": "stdout",
     "output_type": "stream",
     "text": [
      "No weather data for St Kitts on 2017-06-05 00:00:00\n"
     ]
    },
    {
     "name": "stderr",
     "output_type": "stream",
     "text": [
      "Fetching weather data:  17%|█▋        | 10997/63569 [00:24<01:08, 772.04it/s]"
     ]
    },
    {
     "name": "stdout",
     "output_type": "stream",
     "text": [
      "No weather data for Napier on 2019-11-08 00:00:00\n",
      "No weather data for Port Elizabeth on 2020-02-23 00:00:00\n"
     ]
    },
    {
     "name": "stderr",
     "output_type": "stream",
     "text": [
      "Fetching weather data:  18%|█▊        | 11368/63569 [00:25<01:06, 788.72it/s]"
     ]
    },
    {
     "name": "stdout",
     "output_type": "stream",
     "text": [
      "No weather data for Nagpur on 2019-11-10 00:00:00\n",
      "No weather data for Hamilton on 2018-02-18 00:00:00\n"
     ]
    },
    {
     "name": "stderr",
     "output_type": "stream",
     "text": [
      "Fetching weather data:  19%|█▊        | 11867/63569 [00:25<00:57, 894.61it/s]"
     ]
    },
    {
     "name": "stdout",
     "output_type": "stream",
     "text": [
      "No weather data for Dubai on 2010-02-19 00:00:00\n"
     ]
    },
    {
     "name": "stderr",
     "output_type": "stream",
     "text": [
      "Fetching weather data:  19%|█▉        | 12115/63569 [00:25<01:02, 829.58it/s]"
     ]
    },
    {
     "name": "stdout",
     "output_type": "stream",
     "text": [
      "No weather data for Johannesburg on 2007-09-24 00:00:00\n"
     ]
    },
    {
     "name": "stderr",
     "output_type": "stream",
     "text": [
      "Fetching weather data:  20%|██        | 12736/63569 [00:26<01:06, 769.62it/s]"
     ]
    },
    {
     "name": "stdout",
     "output_type": "stream",
     "text": [
      "No weather data for Hamilton on 2019-02-10 00:00:00\n",
      "No weather data for Colombo on 2016-09-09 00:00:00\n"
     ]
    },
    {
     "name": "stderr",
     "output_type": "stream",
     "text": [
      "Fetching weather data:  21%|██        | 13105/63569 [00:27<01:17, 652.59it/s]"
     ]
    },
    {
     "name": "stdout",
     "output_type": "stream",
     "text": [
      "No weather data for London on 2014-05-20 00:00:00\n"
     ]
    },
    {
     "name": "stderr",
     "output_type": "stream",
     "text": [
      "Fetching weather data:  21%|██        | 13477/63569 [00:27<01:10, 705.77it/s]"
     ]
    },
    {
     "name": "stdout",
     "output_type": "stream",
     "text": [
      "No weather data for Napier on 2020-12-22 00:00:00\n",
      "No weather data for Kolkata on 2016-03-17 00:00:00\n"
     ]
    },
    {
     "name": "stderr",
     "output_type": "stream",
     "text": [
      "Fetching weather data:  23%|██▎       | 14355/63569 [00:29<01:08, 714.73it/s]"
     ]
    },
    {
     "name": "stdout",
     "output_type": "stream",
     "text": [
      "No weather data for Bengaluru on 2019-02-27 00:00:00\n"
     ]
    },
    {
     "name": "stderr",
     "output_type": "stream",
     "text": [
      "Fetching weather data:  23%|██▎       | 14730/63569 [00:29<01:08, 713.29it/s]"
     ]
    },
    {
     "name": "stdout",
     "output_type": "stream",
     "text": [
      "No weather data for Cuttack on 2017-12-20 00:00:00\n"
     ]
    },
    {
     "name": "stderr",
     "output_type": "stream",
     "text": [
      "Fetching weather data:  24%|██▍       | 15226/63569 [00:30<01:08, 709.30it/s]"
     ]
    },
    {
     "name": "stdout",
     "output_type": "stream",
     "text": [
      "No weather data for Centurion on 2015-08-16 00:00:00\n",
      "No weather data for Chittagong on 2014-03-24 00:00:00\n"
     ]
    },
    {
     "name": "stderr",
     "output_type": "stream",
     "text": [
      "Fetching weather data:  25%|██▌       | 16083/63569 [00:31<01:04, 738.60it/s]"
     ]
    },
    {
     "name": "stdout",
     "output_type": "stream",
     "text": [
      "No weather data for Manchester on 2016-09-07 00:00:00\n",
      "No weather data for Delhi on 2016-03-30 00:00:00\n"
     ]
    },
    {
     "name": "stderr",
     "output_type": "stream",
     "text": [
      "Fetching weather data:  26%|██▌       | 16335/63569 [00:31<01:02, 751.29it/s]"
     ]
    },
    {
     "name": "stdout",
     "output_type": "stream",
     "text": [
      "No weather data for Rajkot on 2017-11-04 00:00:00\n"
     ]
    },
    {
     "name": "stderr",
     "output_type": "stream",
     "text": [
      "Fetching weather data:  26%|██▌       | 16582/63569 [00:32<01:01, 763.98it/s]"
     ]
    },
    {
     "name": "stdout",
     "output_type": "stream",
     "text": [
      "No weather data for Auckland on 2006-02-16 00:00:00\n",
      "No weather data for Durban on 2007-09-19 00:00:00\n"
     ]
    },
    {
     "name": "stderr",
     "output_type": "stream",
     "text": [
      "Fetching weather data:  26%|██▋       | 16831/63569 [00:32<01:00, 767.45it/s]"
     ]
    },
    {
     "name": "stdout",
     "output_type": "stream",
     "text": [
      "No weather data for Cape Town on 2016-03-09 00:00:00\n"
     ]
    },
    {
     "name": "stderr",
     "output_type": "stream",
     "text": [
      "Fetching weather data:  27%|██▋       | 17070/63569 [00:32<01:02, 749.04it/s]"
     ]
    },
    {
     "name": "stdout",
     "output_type": "stream",
     "text": [
      "No weather data for Bangalore on 2016-03-20 00:00:00\n"
     ]
    },
    {
     "name": "stderr",
     "output_type": "stream",
     "text": [
      "Fetching weather data:  28%|██▊       | 17689/63569 [00:33<01:00, 764.52it/s]"
     ]
    },
    {
     "name": "stdout",
     "output_type": "stream",
     "text": [
      "No weather data for Colombo on 2015-07-30 00:00:00\n"
     ]
    },
    {
     "name": "stderr",
     "output_type": "stream",
     "text": [
      "Fetching weather data:  28%|██▊       | 18057/63569 [00:34<00:59, 760.72it/s]"
     ]
    },
    {
     "name": "stdout",
     "output_type": "stream",
     "text": [
      "No weather data for Bangalore on 2016-03-23 00:00:00\n"
     ]
    },
    {
     "name": "stderr",
     "output_type": "stream",
     "text": [
      "Fetching weather data:  29%|██▉       | 18299/63569 [00:34<00:59, 755.02it/s]"
     ]
    },
    {
     "name": "stdout",
     "output_type": "stream",
     "text": [
      "No weather data for Birmingham on 2014-09-07 00:00:00\n"
     ]
    },
    {
     "name": "stderr",
     "output_type": "stream",
     "text": [
      "Fetching weather data:  29%|██▉       | 18672/63569 [00:34<00:58, 763.65it/s]"
     ]
    },
    {
     "name": "stdout",
     "output_type": "stream",
     "text": [
      "No weather data for Cape Town on 2007-09-15 00:00:00\n"
     ]
    },
    {
     "name": "stderr",
     "output_type": "stream",
     "text": [
      "Fetching weather data:  31%|███       | 19420/63569 [00:35<01:00, 728.80it/s]"
     ]
    },
    {
     "name": "stdout",
     "output_type": "stream",
     "text": [
      "No weather data for Lucknow on 2018-11-06 00:00:00\n",
      "No weather data for Cape Town on 2020-11-27 00:00:00\n"
     ]
    },
    {
     "name": "stderr",
     "output_type": "stream",
     "text": [
      "Fetching weather data:  31%|███       | 19623/63569 [00:36<01:06, 664.35it/s]"
     ]
    },
    {
     "name": "stdout",
     "output_type": "stream",
     "text": [
      "No weather data for Durban on 2014-03-12 00:00:00\n"
     ]
    },
    {
     "name": "stderr",
     "output_type": "stream",
     "text": [
      "Fetching weather data:  31%|███       | 19822/63569 [00:36<01:04, 679.86it/s]"
     ]
    },
    {
     "name": "stdout",
     "output_type": "stream",
     "text": [
      "No weather data for Perth on 2019-11-08 00:00:00\n",
      "No weather data for Southampton on 2020-09-06 00:00:00\n"
     ]
    },
    {
     "name": "stderr",
     "output_type": "stream",
     "text": [
      "Fetching weather data:  32%|███▏      | 20070/63569 [00:36<00:57, 760.47it/s]"
     ]
    },
    {
     "name": "stdout",
     "output_type": "stream",
     "text": [
      "No weather data for Lucknow on 2019-11-16 00:00:00\n",
      "No weather data for Perth on 2007-12-11 00:00:00\n"
     ]
    },
    {
     "name": "stderr",
     "output_type": "stream",
     "text": [
      "Fetching weather data:  32%|███▏      | 20435/63569 [00:37<00:56, 761.63it/s]"
     ]
    },
    {
     "name": "stdout",
     "output_type": "stream",
     "text": [
      "No weather data for Nagpur on 2016-03-27 00:00:00\n"
     ]
    },
    {
     "name": "stderr",
     "output_type": "stream",
     "text": [
      "Fetching weather data:  34%|███▎      | 21410/63569 [00:38<00:55, 763.90it/s]"
     ]
    },
    {
     "name": "stdout",
     "output_type": "stream",
     "text": [
      "No weather data for Hamilton on 2020-01-29 00:00:00\n"
     ]
    },
    {
     "name": "stderr",
     "output_type": "stream",
     "text": [
      "Fetching weather data:  34%|███▍      | 21657/63569 [00:38<00:55, 753.46it/s]"
     ]
    },
    {
     "name": "stdout",
     "output_type": "stream",
     "text": [
      "No weather data for Chandigarh on 2016-03-22 00:00:00\n"
     ]
    },
    {
     "name": "stderr",
     "output_type": "stream",
     "text": [
      "\r",
      "Fetching weather data:  34%|███▍      | 21779/63569 [00:39<00:54, 769.85it/s]"
     ]
    },
    {
     "name": "stdout",
     "output_type": "stream",
     "text": [
      "No weather data for Chittagong on 2014-02-12 00:00:00\n"
     ]
    },
    {
     "name": "stderr",
     "output_type": "stream",
     "text": [
      "Fetching weather data:  35%|███▍      | 22028/63569 [00:39<00:57, 719.36it/s]"
     ]
    },
    {
     "name": "stdout",
     "output_type": "stream",
     "text": [
      "No weather data for Birmingham on 2010-07-06 00:00:00\n",
      "No weather data for Johannesburg on 2007-09-17 00:00:00\n"
     ]
    },
    {
     "name": "stderr",
     "output_type": "stream",
     "text": [
      "Fetching weather data:  35%|███▌      | 22279/63569 [00:39<00:53, 765.07it/s]"
     ]
    },
    {
     "name": "stdout",
     "output_type": "stream",
     "text": [
      "No weather data for Wellington on 2020-01-31 00:00:00\n",
      "No weather data for Lauderhill on 2010-05-23 00:00:00\n"
     ]
    },
    {
     "name": "stderr",
     "output_type": "stream",
     "text": [
      "Fetching weather data:  36%|███▌      | 22635/63569 [00:40<00:53, 766.49it/s]"
     ]
    },
    {
     "name": "stdout",
     "output_type": "stream",
     "text": [
      "No weather data for Dubai on 2016-09-23 00:00:00\n"
     ]
    },
    {
     "name": "stderr",
     "output_type": "stream",
     "text": [
      "Fetching weather data:  36%|███▌      | 22888/63569 [00:40<00:51, 792.83it/s]"
     ]
    },
    {
     "name": "stdout",
     "output_type": "stream",
     "text": [
      "No weather data for Durban on 2007-09-18 00:00:00\n"
     ]
    },
    {
     "name": "stderr",
     "output_type": "stream",
     "text": [
      "Fetching weather data:  37%|███▋      | 23257/63569 [00:41<00:47, 844.68it/s]"
     ]
    },
    {
     "name": "stdout",
     "output_type": "stream",
     "text": [
      "No weather data for Cape Town on 2019-02-01 00:00:00\n"
     ]
    },
    {
     "name": "stderr",
     "output_type": "stream",
     "text": [
      "Fetching weather data:  37%|███▋      | 23493/63569 [00:41<00:45, 871.70it/s]"
     ]
    },
    {
     "name": "stdout",
     "output_type": "stream",
     "text": [
      "No weather data for Auckland on 2006-12-26 00:00:00\n"
     ]
    },
    {
     "name": "stderr",
     "output_type": "stream",
     "text": [
      "Fetching weather data:  37%|███▋      | 23741/63569 [00:41<00:44, 900.65it/s]"
     ]
    },
    {
     "name": "stdout",
     "output_type": "stream",
     "text": [
      "No weather data for Lahore on 2019-10-05 00:00:00\n"
     ]
    },
    {
     "name": "stderr",
     "output_type": "stream",
     "text": [
      "Fetching weather data:  38%|███▊      | 24355/63569 [00:42<00:48, 809.69it/s]"
     ]
    },
    {
     "name": "stdout",
     "output_type": "stream",
     "text": [
      "No weather data for Auckland on 2008-02-05 00:00:00\n"
     ]
    },
    {
     "name": "stderr",
     "output_type": "stream",
     "text": [
      "Fetching weather data:  39%|███▉      | 24795/63569 [00:43<00:57, 669.23it/s]"
     ]
    },
    {
     "name": "stdout",
     "output_type": "stream",
     "text": [
      "No weather data for Dubai on 2013-11-13 00:00:00\n"
     ]
    },
    {
     "name": "stderr",
     "output_type": "stream",
     "text": [
      "Fetching weather data:  40%|████      | 25523/63569 [00:44<00:55, 681.38it/s]"
     ]
    },
    {
     "name": "stdout",
     "output_type": "stream",
     "text": [
      "No weather data for Manchester on 2011-08-31 00:00:00\n"
     ]
    },
    {
     "name": "stderr",
     "output_type": "stream",
     "text": [
      "Fetching weather data:  41%|████      | 25770/63569 [00:44<00:52, 725.88it/s]"
     ]
    },
    {
     "name": "stdout",
     "output_type": "stream",
     "text": [
      "No weather data for Southampton on 2020-09-08 00:00:00\n",
      "No weather data for Lucknow on 2019-11-14 00:00:00\n"
     ]
    },
    {
     "name": "stderr",
     "output_type": "stream",
     "text": [
      "Fetching weather data:  41%|████      | 26013/63569 [00:44<00:49, 755.17it/s]"
     ]
    },
    {
     "name": "stdout",
     "output_type": "stream",
     "text": [
      "No weather data for Kolkata on 2016-03-16 00:00:00\n",
      "No weather data for Johannesburg on 2007-09-11 00:00:00\n"
     ]
    },
    {
     "name": "stderr",
     "output_type": "stream",
     "text": [
      "Fetching weather data:  42%|████▏     | 26511/63569 [00:45<00:50, 737.78it/s]"
     ]
    },
    {
     "name": "stdout",
     "output_type": "stream",
     "text": [
      "No weather data for Birmingham on 2012-09-12 00:00:00\n"
     ]
    },
    {
     "name": "stderr",
     "output_type": "stream",
     "text": [
      "Fetching weather data:  43%|████▎     | 27203/63569 [00:46<00:48, 747.97it/s]"
     ]
    },
    {
     "name": "stdout",
     "output_type": "stream",
     "text": [
      "No weather data for Dubai on 2012-09-10 00:00:00\n"
     ]
    },
    {
     "name": "stderr",
     "output_type": "stream",
     "text": [
      "Fetching weather data:  43%|████▎     | 27567/63569 [00:46<00:51, 693.25it/s]"
     ]
    },
    {
     "name": "stdout",
     "output_type": "stream",
     "text": [
      "No weather data for Johannesburg on 2007-09-16 00:00:00\n"
     ]
    },
    {
     "name": "stderr",
     "output_type": "stream",
     "text": [
      "Fetching weather data:  44%|████▎     | 27810/63569 [00:47<00:54, 652.39it/s]"
     ]
    },
    {
     "name": "stdout",
     "output_type": "stream",
     "text": [
      "No weather data for Victoria on 2017-02-19 00:00:00\n"
     ]
    },
    {
     "name": "stderr",
     "output_type": "stream",
     "text": [
      "Fetching weather data:  45%|████▍     | 28300/63569 [00:47<00:48, 720.98it/s]"
     ]
    },
    {
     "name": "stdout",
     "output_type": "stream",
     "text": [
      "No weather data for Colombo on 2015-08-01 00:00:00\n",
      "No weather data for Cape Town on 2016-02-19 00:00:00\n"
     ]
    },
    {
     "name": "stderr",
     "output_type": "stream",
     "text": [
      "Fetching weather data:  45%|████▍     | 28555/63569 [00:48<00:45, 768.82it/s]"
     ]
    },
    {
     "name": "stdout",
     "output_type": "stream",
     "text": [
      "No weather data for Durban on 2007-09-19 00:00:00\n"
     ]
    },
    {
     "name": "stderr",
     "output_type": "stream",
     "text": [
      "Fetching weather data:  46%|████▌     | 29347/63569 [00:49<00:46, 729.09it/s]"
     ]
    },
    {
     "name": "stdout",
     "output_type": "stream",
     "text": [
      "No weather data for Abu Dhabi on 2016-09-27 00:00:00\n"
     ]
    },
    {
     "name": "stderr",
     "output_type": "stream",
     "text": [
      "Fetching weather data:  47%|████▋     | 29597/63569 [00:49<00:45, 740.00it/s]"
     ]
    },
    {
     "name": "stdout",
     "output_type": "stream",
     "text": [
      "No weather data for Centurion on 2009-03-29 00:00:00\n"
     ]
    },
    {
     "name": "stderr",
     "output_type": "stream",
     "text": [
      "Fetching weather data:  48%|████▊     | 30350/63569 [00:50<00:43, 763.57it/s]"
     ]
    },
    {
     "name": "stdout",
     "output_type": "stream",
     "text": [
      "No weather data for Cape Town on 2007-09-16 00:00:00\n",
      "No weather data for Johannesburg on 2011-10-16 00:00:00\n"
     ]
    },
    {
     "name": "stderr",
     "output_type": "stream",
     "text": [
      "Fetching weather data:  48%|████▊     | 30722/63569 [00:51<00:42, 770.76it/s]"
     ]
    },
    {
     "name": "stdout",
     "output_type": "stream",
     "text": [
      "No weather data for Bristol on 2018-07-08 00:00:00\n"
     ]
    },
    {
     "name": "stderr",
     "output_type": "stream",
     "text": [
      "Fetching weather data:  49%|████▉     | 31078/63569 [00:51<00:43, 748.16it/s]"
     ]
    },
    {
     "name": "stdout",
     "output_type": "stream",
     "text": [
      "No weather data for Lahore on 2020-01-24 00:00:00\n",
      "No weather data for Mirpur on 2015-07-05 00:00:00\n"
     ]
    },
    {
     "name": "stderr",
     "output_type": "stream",
     "text": [
      "Fetching weather data:  49%|████▉     | 31325/63569 [00:52<00:40, 803.18it/s]"
     ]
    },
    {
     "name": "stdout",
     "output_type": "stream",
     "text": [
      "No weather data for Delhi on 2016-03-23 00:00:00\n"
     ]
    },
    {
     "name": "stderr",
     "output_type": "stream",
     "text": [
      "\r",
      "Fetching weather data:  49%|████▉     | 31448/63569 [00:52<00:39, 815.25it/s]"
     ]
    },
    {
     "name": "stdout",
     "output_type": "stream",
     "text": [
      "No weather data for Wellington on 2006-12-22 00:00:00\n"
     ]
    },
    {
     "name": "stderr",
     "output_type": "stream",
     "text": [
      "Fetching weather data:  50%|████▉     | 31694/63569 [01:12<18:44, 28.34it/s] "
     ]
    },
    {
     "name": "stdout",
     "output_type": "stream",
     "text": [
      "No weather data for Bangalore on 2016-03-21 00:00:00\n",
      "No weather data for Lahore on 2019-10-07 00:00:00\n"
     ]
    },
    {
     "name": "stderr",
     "output_type": "stream",
     "text": [
      "Fetching weather data:  51%|█████     | 32378/63569 [01:13<02:47, 185.72it/s]"
     ]
    },
    {
     "name": "stdout",
     "output_type": "stream",
     "text": [
      "No weather data for London on 2007-06-29 00:00:00\n",
      "No weather data for Johannesburg on 2007-09-18 00:00:00\n"
     ]
    },
    {
     "name": "stderr",
     "output_type": "stream",
     "text": [
      "Fetching weather data:  52%|█████▏    | 32994/63569 [01:14<00:58, 521.72it/s]"
     ]
    },
    {
     "name": "stdout",
     "output_type": "stream",
     "text": [
      "No weather data for Dubai on 2012-09-07 00:00:00\n"
     ]
    },
    {
     "name": "stderr",
     "output_type": "stream",
     "text": [
      "Fetching weather data:  52%|█████▏    | 33369/63569 [01:14<00:45, 670.71it/s]"
     ]
    },
    {
     "name": "stdout",
     "output_type": "stream",
     "text": [
      "No weather data for Durban on 2015-01-14 00:00:00\n",
      "No weather data for Lauderhill on 2012-07-01 00:00:00\n"
     ]
    },
    {
     "name": "stderr",
     "output_type": "stream",
     "text": [
      "Fetching weather data:  53%|█████▎    | 33619/63569 [01:14<00:42, 705.91it/s]"
     ]
    },
    {
     "name": "stdout",
     "output_type": "stream",
     "text": [
      "No weather data for Chattogram on 2014-03-22 00:00:00\n"
     ]
    },
    {
     "name": "stderr",
     "output_type": "stream",
     "text": [
      "Fetching weather data:  53%|█████▎    | 33868/63569 [01:15<00:41, 712.76it/s]"
     ]
    },
    {
     "name": "stdout",
     "output_type": "stream",
     "text": [
      "No weather data for Dubai on 2009-05-07 00:00:00\n"
     ]
    },
    {
     "name": "stderr",
     "output_type": "stream",
     "text": [
      "Fetching weather data:  54%|█████▍    | 34192/63569 [01:15<00:41, 712.12it/s]"
     ]
    },
    {
     "name": "stdout",
     "output_type": "stream",
     "text": [
      "No weather data for Johannesburg on 2009-03-27 00:00:00\n"
     ]
    },
    {
     "name": "stderr",
     "output_type": "stream",
     "text": [
      "Fetching weather data:  54%|█████▍    | 34561/63569 [01:16<00:38, 752.73it/s]"
     ]
    },
    {
     "name": "stdout",
     "output_type": "stream",
     "text": [
      "No weather data for Johannesburg on 2006-12-01 00:00:00\n"
     ]
    },
    {
     "name": "stderr",
     "output_type": "stream",
     "text": [
      "Fetching weather data:  55%|█████▌    | 35184/63569 [01:16<00:37, 751.97it/s]"
     ]
    },
    {
     "name": "stdout",
     "output_type": "stream",
     "text": [
      "No weather data for Johannesburg on 2016-03-06 00:00:00\n"
     ]
    },
    {
     "name": "stderr",
     "output_type": "stream",
     "text": [
      "Fetching weather data:  56%|█████▌    | 35437/63569 [01:17<00:37, 745.43it/s]"
     ]
    },
    {
     "name": "stdout",
     "output_type": "stream",
     "text": [
      "No weather data for Bengaluru on 2019-09-22 00:00:00\n"
     ]
    },
    {
     "name": "stderr",
     "output_type": "stream",
     "text": [
      "Fetching weather data:  56%|█████▋    | 35812/63569 [01:17<00:36, 754.83it/s]"
     ]
    },
    {
     "name": "stdout",
     "output_type": "stream",
     "text": [
      "No weather data for Chittagong on 2014-02-14 00:00:00\n",
      "No weather data for Pallekele on 2015-11-09 00:00:00\n"
     ]
    },
    {
     "name": "stderr",
     "output_type": "stream",
     "text": [
      "Fetching weather data:  57%|█████▋    | 36312/63569 [01:18<00:34, 798.37it/s]"
     ]
    },
    {
     "name": "stdout",
     "output_type": "stream",
     "text": [
      "No weather data for Dubai on 2014-12-04 00:00:00\n",
      "No weather data for Christchurch on 2008-02-07 00:00:00\n"
     ]
    },
    {
     "name": "stderr",
     "output_type": "stream",
     "text": [
      "Fetching weather data:  58%|█████▊    | 36563/63569 [01:18<00:34, 789.68it/s]"
     ]
    },
    {
     "name": "stdout",
     "output_type": "stream",
     "text": [
      "No weather data for Dharmasala on 2015-10-02 00:00:00\n",
      "No weather data for Centurion on 2009-11-15 00:00:00\n"
     ]
    },
    {
     "name": "stderr",
     "output_type": "stream",
     "text": [
      "Fetching weather data:  58%|█████▊    | 36814/63569 [01:19<00:33, 791.63it/s]"
     ]
    },
    {
     "name": "stdout",
     "output_type": "stream",
     "text": [
      "No weather data for Southampton on 2006-06-15 00:00:00\n",
      "No weather data for Mumbai on 2017-12-24 00:00:00\n"
     ]
    },
    {
     "name": "stderr",
     "output_type": "stream",
     "text": [
      "Fetching weather data:  58%|█████▊    | 37186/63569 [01:19<00:34, 755.59it/s]"
     ]
    },
    {
     "name": "stdout",
     "output_type": "stream",
     "text": [
      "No weather data for Sydney on 2009-02-15 00:00:00\n",
      "No weather data for Barbados on 2008-06-20 00:00:00\n"
     ]
    },
    {
     "name": "stderr",
     "output_type": "stream",
     "text": [
      "Fetching weather data:  59%|█████▉    | 37632/63569 [01:20<00:35, 727.57it/s]"
     ]
    },
    {
     "name": "stdout",
     "output_type": "stream",
     "text": [
      "No weather data for Delhi on 2016-03-28 00:00:00\n"
     ]
    },
    {
     "name": "stderr",
     "output_type": "stream",
     "text": [
      "Fetching weather data:  60%|█████▉    | 37880/63569 [01:20<00:31, 810.31it/s]"
     ]
    },
    {
     "name": "stdout",
     "output_type": "stream",
     "text": [
      "No weather data for Johannesburg on 2006-02-24 00:00:00\n"
     ]
    },
    {
     "name": "stderr",
     "output_type": "stream",
     "text": [
      "Fetching weather data:  60%|█████▉    | 38137/63569 [01:20<00:32, 792.99it/s]"
     ]
    },
    {
     "name": "stdout",
     "output_type": "stream",
     "text": [
      "No weather data for Centurion on 2014-03-14 00:00:00\n"
     ]
    },
    {
     "name": "stderr",
     "output_type": "stream",
     "text": [
      "Fetching weather data:  60%|██████    | 38383/63569 [01:21<00:32, 777.97it/s]"
     ]
    },
    {
     "name": "stdout",
     "output_type": "stream",
     "text": [
      "No weather data for Mumbai on 2016-03-31 00:00:00\n"
     ]
    },
    {
     "name": "stderr",
     "output_type": "stream",
     "text": [
      "Fetching weather data:  61%|██████    | 38756/63569 [01:21<00:32, 771.06it/s]"
     ]
    },
    {
     "name": "stdout",
     "output_type": "stream",
     "text": [
      "No weather data for Dominica on 2014-07-06 00:00:00\n",
      "No weather data for Adelaide on 2014-11-05 00:00:00\n"
     ]
    },
    {
     "name": "stderr",
     "output_type": "stream",
     "text": [
      "Fetching weather data:  62%|██████▏   | 39128/63569 [01:22<00:30, 790.68it/s]"
     ]
    },
    {
     "name": "stdout",
     "output_type": "stream",
     "text": [
      "No weather data for Dubai on 2014-12-05 00:00:00\n",
      "No weather data for Melbourne on 2008-02-01 00:00:00\n"
     ]
    },
    {
     "name": "stderr",
     "output_type": "stream",
     "text": [
      "Fetching weather data:  62%|██████▏   | 39466/63569 [01:22<00:34, 694.90it/s]"
     ]
    },
    {
     "name": "stdout",
     "output_type": "stream",
     "text": [
      "No weather data for Dubai on 2014-10-05 00:00:00\n",
      "No weather data for Mumbai on 2016-03-16 00:00:00\n"
     ]
    },
    {
     "name": "stderr",
     "output_type": "stream",
     "text": [
      "Fetching weather data:  62%|██████▏   | 39721/63569 [01:22<00:31, 755.75it/s]"
     ]
    },
    {
     "name": "stdout",
     "output_type": "stream",
     "text": [
      "No weather data for Lucknow on 2019-11-17 00:00:00\n"
     ]
    },
    {
     "name": "stderr",
     "output_type": "stream",
     "text": [
      "Fetching weather data:  64%|██████▍   | 40706/63569 [01:24<00:29, 762.80it/s]"
     ]
    },
    {
     "name": "stdout",
     "output_type": "stream",
     "text": [
      "No weather data for Sydney on 2010-02-23 00:00:00\n",
      "No weather data for St Kitts on 2018-07-31 00:00:00\n"
     ]
    },
    {
     "name": "stderr",
     "output_type": "stream",
     "text": [
      "Fetching weather data:  64%|██████▍   | 40955/63569 [01:24<00:29, 775.39it/s]"
     ]
    },
    {
     "name": "stdout",
     "output_type": "stream",
     "text": [
      "No weather data for Dubai on 2013-11-15 00:00:00\n",
      "No weather data for Manchester on 2015-06-23 00:00:00\n"
     ]
    },
    {
     "name": "stderr",
     "output_type": "stream",
     "text": [
      "Fetching weather data:  66%|██████▌   | 41701/63569 [01:25<00:28, 756.80it/s]"
     ]
    },
    {
     "name": "stdout",
     "output_type": "stream",
     "text": [
      "No weather data for Dubai on 2013-12-11 00:00:00\n"
     ]
    },
    {
     "name": "stderr",
     "output_type": "stream",
     "text": [
      "Fetching weather data:  67%|██████▋   | 42827/63569 [01:31<01:04, 320.49it/s]"
     ]
    },
    {
     "name": "stdout",
     "output_type": "stream",
     "text": [
      "No weather data for Lauderhill on 2010-05-22 00:00:00\n",
      "No weather data for Manchester on 2008-06-13 00:00:00\n"
     ]
    },
    {
     "name": "stderr",
     "output_type": "stream",
     "text": [
      "Fetching weather data:  69%|██████▊   | 43688/63569 [01:32<00:29, 683.26it/s]"
     ]
    },
    {
     "name": "stdout",
     "output_type": "stream",
     "text": [
      "No weather data for Cape Town on 2018-02-24 00:00:00\n"
     ]
    },
    {
     "name": "stderr",
     "output_type": "stream",
     "text": [
      "Fetching weather data:  69%|██████▉   | 43929/63569 [01:44<07:06, 46.06it/s] "
     ]
    },
    {
     "name": "stdout",
     "output_type": "stream",
     "text": [
      "No weather data for Dubai on 2012-09-05 00:00:00\n"
     ]
    },
    {
     "name": "stderr",
     "output_type": "stream",
     "text": [
      "Fetching weather data:  70%|██████▉   | 44426/63569 [01:47<02:57, 107.84it/s]"
     ]
    },
    {
     "name": "stdout",
     "output_type": "stream",
     "text": [
      "No weather data for Johannesburg on 2007-09-18 00:00:00\n"
     ]
    },
    {
     "name": "stderr",
     "output_type": "stream",
     "text": [
      "Fetching weather data:  70%|███████   | 44668/63569 [01:48<01:40, 188.85it/s]"
     ]
    },
    {
     "name": "stdout",
     "output_type": "stream",
     "text": [
      "No weather data for Sydney on 2014-11-09 00:00:00\n",
      "No weather data for Lahore on 2019-10-09 00:00:00\n"
     ]
    },
    {
     "name": "stderr",
     "output_type": "stream",
     "text": [
      "Fetching weather data:  71%|███████   | 45166/63569 [01:48<00:39, 461.48it/s]"
     ]
    },
    {
     "name": "stdout",
     "output_type": "stream",
     "text": [
      "No weather data for Durban on 2015-08-14 00:00:00\n"
     ]
    },
    {
     "name": "stderr",
     "output_type": "stream",
     "text": [
      "Fetching weather data:  72%|███████▏  | 46038/63569 [01:50<00:23, 746.99it/s]"
     ]
    },
    {
     "name": "stdout",
     "output_type": "stream",
     "text": [
      "No weather data for Dubai on 2016-09-24 00:00:00\n"
     ]
    },
    {
     "name": "stderr",
     "output_type": "stream",
     "text": [
      "Fetching weather data:  73%|███████▎  | 46288/63569 [01:50<00:22, 761.00it/s]"
     ]
    },
    {
     "name": "stdout",
     "output_type": "stream",
     "text": [
      "No weather data for Lahore on 2020-01-25 00:00:00\n"
     ]
    },
    {
     "name": "stderr",
     "output_type": "stream",
     "text": [
      "Fetching weather data:  73%|███████▎  | 46532/63569 [01:50<00:21, 799.91it/s]"
     ]
    },
    {
     "name": "stdout",
     "output_type": "stream",
     "text": [
      "No weather data for Dubai on 2009-11-12 00:00:00\n",
      "No weather data for Cape Town on 2007-09-16 00:00:00\n"
     ]
    },
    {
     "name": "stderr",
     "output_type": "stream",
     "text": [
      "Fetching weather data:  74%|███████▍  | 46906/63569 [01:51<00:21, 777.96it/s]"
     ]
    },
    {
     "name": "stdout",
     "output_type": "stream",
     "text": [
      "No weather data for Chattogram on 2019-09-21 00:00:00\n",
      "No weather data for Colombo on 2015-11-11 00:00:00\n"
     ]
    },
    {
     "name": "stderr",
     "output_type": "stream",
     "text": [
      "Fetching weather data:  74%|███████▍  | 47142/63569 [01:51<00:21, 772.84it/s]"
     ]
    },
    {
     "name": "stdout",
     "output_type": "stream",
     "text": [
      "No weather data for Mirpur on 2016-02-27 00:00:00\n",
      "No weather data for Durban on 2020-02-14 00:00:00\n"
     ]
    },
    {
     "name": "stderr",
     "output_type": "stream",
     "text": [
      "Fetching weather data:  75%|███████▍  | 47514/63569 [01:51<00:20, 783.84it/s]"
     ]
    },
    {
     "name": "stdout",
     "output_type": "stream",
     "text": [
      "No weather data for Cape Town on 2019-03-19 00:00:00\n",
      "No weather data for Dubai on 2010-02-20 00:00:00\n"
     ]
    },
    {
     "name": "stderr",
     "output_type": "stream",
     "text": [
      "Fetching weather data:  76%|███████▌  | 48343/63569 [01:52<00:22, 675.92it/s]"
     ]
    },
    {
     "name": "stdout",
     "output_type": "stream",
     "text": [
      "No weather data for Johannesburg on 2008-11-05 00:00:00\n"
     ]
    },
    {
     "name": "stderr",
     "output_type": "stream",
     "text": [
      "Fetching weather data:  76%|███████▋  | 48590/63569 [01:53<00:20, 721.44it/s]"
     ]
    },
    {
     "name": "stdout",
     "output_type": "stream",
     "text": [
      "No weather data for Abu Dhabi on 2018-10-31 00:00:00\n",
      "No weather data for Nairobi on 2007-09-02 00:00:00\n"
     ]
    },
    {
     "name": "stderr",
     "output_type": "stream",
     "text": [
      "Fetching weather data:  77%|███████▋  | 48962/63569 [01:53<00:20, 716.67it/s]"
     ]
    },
    {
     "name": "stdout",
     "output_type": "stream",
     "text": [
      "No weather data for Chittagong on 2014-03-27 00:00:00\n"
     ]
    },
    {
     "name": "stderr",
     "output_type": "stream",
     "text": [
      "Fetching weather data:  78%|███████▊  | 49439/63569 [01:54<00:20, 703.50it/s]"
     ]
    },
    {
     "name": "stdout",
     "output_type": "stream",
     "text": [
      "No weather data for Antigua on 2010-05-20 00:00:00\n"
     ]
    },
    {
     "name": "stderr",
     "output_type": "stream",
     "text": [
      "Fetching weather data:  79%|███████▉  | 50066/63569 [01:55<00:17, 779.64it/s]"
     ]
    },
    {
     "name": "stdout",
     "output_type": "stream",
     "text": [
      "No weather data for Dubai on 2009-11-13 00:00:00\n",
      "No weather data for Nelson on 2019-11-05 00:00:00\n"
     ]
    },
    {
     "name": "stderr",
     "output_type": "stream",
     "text": [
      "Fetching weather data:  79%|███████▉  | 50537/63569 [01:55<00:17, 736.35it/s]"
     ]
    },
    {
     "name": "stdout",
     "output_type": "stream",
     "text": [
      "No weather data for St Kitts on 2017-06-03 00:00:00\n"
     ]
    },
    {
     "name": "stderr",
     "output_type": "stream",
     "text": [
      "Fetching weather data:  80%|███████▉  | 50772/63569 [01:56<00:17, 751.31it/s]"
     ]
    },
    {
     "name": "stdout",
     "output_type": "stream",
     "text": [
      "No weather data for Manchester on 2018-07-03 00:00:00\n",
      "No weather data for Abu Dhabi on 2017-10-26 00:00:00\n"
     ]
    },
    {
     "name": "stderr",
     "output_type": "stream",
     "text": [
      "Fetching weather data:  80%|████████  | 51006/63569 [01:56<00:16, 760.78it/s]"
     ]
    },
    {
     "name": "stdout",
     "output_type": "stream",
     "text": [
      "No weather data for Nagpur on 2016-03-25 00:00:00\n",
      "No weather data for Cape Town on 2015-01-09 00:00:00\n"
     ]
    },
    {
     "name": "stderr",
     "output_type": "stream",
     "text": [
      "Fetching weather data:  81%|████████  | 51253/63569 [01:56<00:16, 748.61it/s]"
     ]
    },
    {
     "name": "stdout",
     "output_type": "stream",
     "text": [
      "No weather data for Mirpur on 2015-07-07 00:00:00\n"
     ]
    },
    {
     "name": "stderr",
     "output_type": "stream",
     "text": [
      "Fetching weather data:  81%|████████  | 51503/63569 [01:57<00:15, 767.32it/s]"
     ]
    },
    {
     "name": "stdout",
     "output_type": "stream",
     "text": [
      "No weather data for Ranchi on 2016-02-12 00:00:00\n"
     ]
    },
    {
     "name": "stderr",
     "output_type": "stream",
     "text": [
      "Fetching weather data:  82%|████████▏ | 51886/63569 [01:57<00:14, 819.31it/s]"
     ]
    },
    {
     "name": "stdout",
     "output_type": "stream",
     "text": [
      "No weather data for Centurion on 2013-03-03 00:00:00\n",
      "No weather data for Johannesburg on 2008-01-18 00:00:00\n"
     ]
    },
    {
     "name": "stderr",
     "output_type": "stream",
     "text": [
      "Fetching weather data:  83%|████████▎ | 52492/63569 [01:58<00:14, 769.23it/s]"
     ]
    },
    {
     "name": "stdout",
     "output_type": "stream",
     "text": [
      "No weather data for Guwahati on 2017-10-10 00:00:00\n"
     ]
    },
    {
     "name": "stderr",
     "output_type": "stream",
     "text": [
      "Fetching weather data:  84%|████████▎ | 53109/63569 [01:59<00:13, 779.75it/s]"
     ]
    },
    {
     "name": "stdout",
     "output_type": "stream",
     "text": [
      "No weather data for Johannesburg on 2005-10-21 00:00:00\n",
      "No weather data for Johannesburg on 2007-11-23 00:00:00\n"
     ]
    },
    {
     "name": "stderr",
     "output_type": "stream",
     "text": [
      "Fetching weather data:  84%|████████▍ | 53360/63569 [01:59<00:12, 789.84it/s]"
     ]
    },
    {
     "name": "stdout",
     "output_type": "stream",
     "text": [
      "No weather data for Durban on 2007-09-20 00:00:00\n"
     ]
    },
    {
     "name": "stderr",
     "output_type": "stream",
     "text": [
      "Fetching weather data:  85%|████████▍ | 53858/63569 [02:00<00:12, 767.85it/s]"
     ]
    },
    {
     "name": "stdout",
     "output_type": "stream",
     "text": [
      "No weather data for Antigua on 2010-05-19 00:00:00\n"
     ]
    },
    {
     "name": "stderr",
     "output_type": "stream",
     "text": [
      "Fetching weather data:  85%|████████▌ | 54113/63569 [02:00<00:12, 782.58it/s]"
     ]
    },
    {
     "name": "stdout",
     "output_type": "stream",
     "text": [
      "No weather data for Chittagong on 2014-03-22 00:00:00\n"
     ]
    },
    {
     "name": "stderr",
     "output_type": "stream",
     "text": [
      "\r",
      "Fetching weather data:  85%|████████▌ | 54236/63569 [02:00<00:12, 767.57it/s]"
     ]
    },
    {
     "name": "stdout",
     "output_type": "stream",
     "text": [
      "No weather data for Wellington on 2016-01-22 00:00:00\n"
     ]
    },
    {
     "name": "stderr",
     "output_type": "stream",
     "text": [
      "Fetching weather data:  86%|████████▌ | 54742/63569 [02:01<00:11, 776.25it/s]"
     ]
    },
    {
     "name": "stdout",
     "output_type": "stream",
     "text": [
      "No weather data for Sylhet on 2018-02-18 00:00:00\n",
      "No weather data for Nelson on 2017-12-29 00:00:00\n"
     ]
    },
    {
     "name": "stderr",
     "output_type": "stream",
     "text": [
      "Fetching weather data:  87%|████████▋ | 55362/63569 [02:02<00:11, 721.18it/s]"
     ]
    },
    {
     "name": "stdout",
     "output_type": "stream",
     "text": [
      "No weather data for Mumbai on 2019-12-11 00:00:00\n",
      "No weather data for Nagpur on 2017-01-29 00:00:00\n"
     ]
    },
    {
     "name": "stderr",
     "output_type": "stream",
     "text": [
      "Fetching weather data:  89%|████████▊ | 56353/63569 [02:03<00:10, 696.54it/s]"
     ]
    },
    {
     "name": "stdout",
     "output_type": "stream",
     "text": [
      "No weather data for Chester-le-Street on 2017-09-16 00:00:00\n"
     ]
    },
    {
     "name": "stderr",
     "output_type": "stream",
     "text": [
      "Fetching weather data:  89%|████████▉ | 56735/63569 [02:04<00:09, 723.69it/s]"
     ]
    },
    {
     "name": "stdout",
     "output_type": "stream",
     "text": [
      "No weather data for Cardiff on 2015-08-31 00:00:00\n"
     ]
    },
    {
     "name": "stderr",
     "output_type": "stream",
     "text": [
      "Fetching weather data:  90%|████████▉ | 57113/63569 [02:04<00:09, 671.68it/s]"
     ]
    },
    {
     "name": "stdout",
     "output_type": "stream",
     "text": [
      "No weather data for Wellington on 2019-02-06 00:00:00\n"
     ]
    },
    {
     "name": "stderr",
     "output_type": "stream",
     "text": [
      "Fetching weather data:  90%|█████████ | 57489/63569 [02:05<00:08, 731.53it/s]"
     ]
    },
    {
     "name": "stdout",
     "output_type": "stream",
     "text": [
      "No weather data for Pallekele on 2016-09-06 00:00:00\n"
     ]
    },
    {
     "name": "stderr",
     "output_type": "stream",
     "text": [
      "Fetching weather data:  91%|█████████ | 57649/63569 [02:05<00:09, 648.68it/s]"
     ]
    },
    {
     "name": "stdout",
     "output_type": "stream",
     "text": [
      "No weather data for Sylhet on 2018-12-17 00:00:00\n",
      "No weather data for Cape Town on 2007-09-22 00:00:00\n"
     ]
    },
    {
     "name": "stderr",
     "output_type": "stream",
     "text": [
      "Fetching weather data:  91%|█████████ | 57897/63569 [02:05<00:08, 656.70it/s]"
     ]
    },
    {
     "name": "stdout",
     "output_type": "stream",
     "text": [
      "No weather data for Johannesburg on 2013-11-20 00:00:00\n",
      "No weather data for Taunton on 2017-06-23 00:00:00\n"
     ]
    },
    {
     "name": "stderr",
     "output_type": "stream",
     "text": [
      "Fetching weather data:  91%|█████████▏| 58148/63569 [02:06<00:07, 771.02it/s]"
     ]
    },
    {
     "name": "stdout",
     "output_type": "stream",
     "text": [
      "No weather data for London on 2007-06-28 00:00:00\n"
     ]
    },
    {
     "name": "stderr",
     "output_type": "stream",
     "text": [
      "Fetching weather data:  92%|█████████▏| 58516/63569 [02:06<00:06, 797.17it/s]"
     ]
    },
    {
     "name": "stdout",
     "output_type": "stream",
     "text": [
      "No weather data for Sydney on 2012-02-01 00:00:00\n"
     ]
    },
    {
     "name": "stderr",
     "output_type": "stream",
     "text": [
      "Fetching weather data:  93%|█████████▎| 58886/63569 [02:07<00:08, 579.27it/s]"
     ]
    },
    {
     "name": "stdout",
     "output_type": "stream",
     "text": [
      "No weather data for St Kitts on 2017-06-02 00:00:00\n"
     ]
    },
    {
     "name": "stderr",
     "output_type": "stream",
     "text": [
      "Fetching weather data:  93%|█████████▎| 59383/63569 [02:08<00:06, 675.34it/s]"
     ]
    },
    {
     "name": "stdout",
     "output_type": "stream",
     "text": [
      "No weather data for Wellington on 2019-11-03 00:00:00\n",
      "No weather data for Cape Town on 2007-09-14 00:00:00\n"
     ]
    },
    {
     "name": "stderr",
     "output_type": "stream",
     "text": [
      "Fetching weather data:  94%|█████████▍| 59757/63569 [02:08<00:05, 731.11it/s]"
     ]
    },
    {
     "name": "stdout",
     "output_type": "stream",
     "text": [
      "No weather data for Dubai on 2015-11-27 00:00:00\n"
     ]
    },
    {
     "name": "stderr",
     "output_type": "stream",
     "text": [
      "Fetching weather data:  94%|█████████▍| 60001/63569 [02:08<00:05, 712.93it/s]"
     ]
    },
    {
     "name": "stdout",
     "output_type": "stream",
     "text": [
      "No weather data for Dominica on 2014-07-05 00:00:00\n"
     ]
    },
    {
     "name": "stderr",
     "output_type": "stream",
     "text": [
      "Fetching weather data:  95%|█████████▍| 60376/63569 [02:09<00:04, 727.85it/s]"
     ]
    },
    {
     "name": "stdout",
     "output_type": "stream",
     "text": [
      "No weather data for Wellington on 2018-02-13 00:00:00\n"
     ]
    },
    {
     "name": "stderr",
     "output_type": "stream",
     "text": [
      "Fetching weather data:  96%|█████████▌| 60749/63569 [02:10<00:03, 740.02it/s]"
     ]
    },
    {
     "name": "stdout",
     "output_type": "stream",
     "text": [
      "No weather data for Johannesburg on 2007-09-13 00:00:00\n",
      "No weather data for Dharamsala on 2016-03-18 00:00:00\n"
     ]
    },
    {
     "name": "stderr",
     "output_type": "stream",
     "text": [
      "Fetching weather data:  96%|█████████▌| 61077/63569 [02:10<00:03, 687.73it/s]"
     ]
    },
    {
     "name": "stdout",
     "output_type": "stream",
     "text": [
      "No weather data for Port Elizabeth on 2007-12-16 00:00:00\n"
     ]
    },
    {
     "name": "stderr",
     "output_type": "stream",
     "text": [
      "Fetching weather data:  97%|█████████▋| 61445/63569 [02:10<00:02, 751.85it/s]"
     ]
    },
    {
     "name": "stdout",
     "output_type": "stream",
     "text": [
      "No weather data for Mumbai on 2007-10-20 00:00:00\n",
      "No weather data for Sydney on 2014-02-02 00:00:00\n"
     ]
    },
    {
     "name": "stderr",
     "output_type": "stream",
     "text": [
      "Fetching weather data:  98%|█████████▊| 62452/63569 [02:12<00:01, 744.71it/s]"
     ]
    },
    {
     "name": "stdout",
     "output_type": "stream",
     "text": [
      "No weather data for Johannesburg on 2009-11-13 00:00:00\n",
      "No weather data for Dubai on 2012-02-23 00:00:00\n"
     ]
    },
    {
     "name": "stderr",
     "output_type": "stream",
     "text": [
      "Fetching weather data:  99%|█████████▊| 62693/63569 [02:12<00:01, 782.71it/s]"
     ]
    },
    {
     "name": "stdout",
     "output_type": "stream",
     "text": [
      "No weather data for Chittagong on 2014-03-31 00:00:00\n",
      "No weather data for Brisbane on 2006-01-09 00:00:00\n"
     ]
    },
    {
     "name": "stderr",
     "output_type": "stream",
     "text": [
      "Fetching weather data:  99%|█████████▉| 63196/63569 [02:13<00:00, 860.87it/s]"
     ]
    },
    {
     "name": "stdout",
     "output_type": "stream",
     "text": [
      "No weather data for Dubai on 2013-12-13 00:00:00\n"
     ]
    },
    {
     "name": "stderr",
     "output_type": "stream",
     "text": [
      "Fetching weather data: 100%|██████████| 63569/63569 [02:13<00:00, 476.09it/s]\n"
     ]
    },
    {
     "name": "stdout",
     "output_type": "stream",
     "text": [
      "match_id               0\n",
      "Team 1                 0\n",
      "Team 2                 0\n",
      "batting_team           0\n",
      "bowling_team           0\n",
      "ball                   0\n",
      "batsman                0\n",
      "bowler                 0\n",
      "runs                   0\n",
      "player_dismissed       0\n",
      "city                   0\n",
      "venue                  0\n",
      "Date                   0\n",
      "toss_winner            0\n",
      "toss_decision          0\n",
      "match_winner           0\n",
      "player_of_the_match    0\n",
      "current_score          0\n",
      "over                   0\n",
      "ball_no                0\n",
      "balls_bowled           0\n",
      "balls_left             0\n",
      "wickets_left           0\n",
      "crr                    0\n",
      "last_five              0\n",
      "run_rate               0\n",
      "wickets_rate           0\n",
      "pressure_factor        0\n",
      "toss_winner_wins       0\n",
      "max_tempC              0\n",
      "min_tempC              0\n",
      "sun_hour               0\n",
      "total_precip_mm        0\n",
      "dtype: int64\n"
     ]
    }
   ],
   "source": [
    "import requests\n",
    "import pandas as pd\n",
    "from tqdm import tqdm\n",
    "\n",
    "# Function to fetch weather data\n",
    "def get_weather_data(api_key, location, date):\n",
    "    url = f\"https://api.worldweatheronline.com/premium/v1/past-weather.ashx\"\n",
    "    params = {\n",
    "        'key': api_key,\n",
    "        'q': location,\n",
    "        'date': date.strftime('%Y-%m-%d'),  # Ensure date is in YYYY-MM-DD format\n",
    "        'format': 'json'\n",
    "    }\n",
    "    response = requests.get(url, params=params)\n",
    "    if response.status_code == 200:\n",
    "        data = response.json()\n",
    "        if 'weather' in data['data']:\n",
    "            return data['data']['weather'][0]\n",
    "        else:\n",
    "            print(f\"No weather data for {location} on {date}\")\n",
    "            return None\n",
    "    else:\n",
    "        print(f\"Error fetching data for {location} on {date}: {response.status_code}\")\n",
    "        return None\n",
    "\n",
    "api_key = 'cc6e60b3cb3c4b788ff123310241607'\n",
    "\n",
    "# Ensure no missing values in key columns before fetching weather data\n",
    "assert combined_df[['match_id', 'city', 'Date']].isnull().sum().sum() == 0\n",
    "\n",
    "# Dictionary to store fetched weather data for each match_id\n",
    "weather_data_cache = {}\n",
    "\n",
    "# Fetch and add weather data\n",
    "weather_data = []\n",
    "for index, row in tqdm(combined_df.iterrows(), total=combined_df.shape[0], desc=\"Fetching weather data\"):\n",
    "    match_id = row['match_id']\n",
    "    if match_id not in weather_data_cache:\n",
    "        weather = get_weather_data(api_key, row['city'], row['Date'])\n",
    "        if weather:\n",
    "            weather_info = {\n",
    "                'match_id': match_id,\n",
    "                'max_tempC': weather.get('maxtempC', None),\n",
    "                'min_tempC': weather.get('mintempC', None),\n",
    "                'sun_hour': weather.get('sunHour', None),\n",
    "                'total_precip_mm': weather.get('totalprecipMM', None)\n",
    "            }\n",
    "            weather_data_cache[match_id] = weather_info\n",
    "        else:\n",
    "            weather_data_cache[match_id] = {\n",
    "                'match_id': match_id,\n",
    "                'max_tempC': None,\n",
    "                'min_tempC': None,\n",
    "                'sun_hour': None,\n",
    "                'total_precip_mm': None\n",
    "            }\n",
    "    \n",
    "    weather_data.append(weather_data_cache[match_id])\n",
    "\n",
    "weather_df = pd.DataFrame(weather_data)\n",
    "\n",
    "# Convert weather data columns to numeric, handling errors\n",
    "weather_df['max_tempC'] = pd.to_numeric(weather_df['max_tempC'], errors='coerce')\n",
    "weather_df['min_tempC'] = pd.to_numeric(weather_df['min_tempC'], errors='coerce')\n",
    "weather_df['sun_hour'] = pd.to_numeric(weather_df['sun_hour'], errors='coerce')\n",
    "weather_df['total_precip_mm'] = pd.to_numeric(weather_df['total_precip_mm'], errors='coerce')\n",
    "\n",
    "# Merge with combined_df\n",
    "combined_df = pd.merge(combined_df, weather_df, on='match_id', how='left')\n",
    "\n",
    "# Handle missing data\n",
    "combined_df['max_tempC'].fillna(combined_df['max_tempC'].mean(), inplace=True)\n",
    "combined_df['min_tempC'].fillna(combined_df['min_tempC'].mean(), inplace=True)\n",
    "combined_df['sun_hour'].fillna(combined_df['sun_hour'].mean(), inplace=True)\n",
    "combined_df['total_precip_mm'].fillna(0, inplace=True)  # Assuming 0 precipitation if data is missing\n",
    "\n",
    "print(combined_df.isnull().sum())\n"
   ]
  },
  {
   "cell_type": "code",
   "execution_count": 43,
   "id": "92de4864",
   "metadata": {},
   "outputs": [
    {
     "data": {
      "text/plain": [
       "match_id               0\n",
       "Team 1                 0\n",
       "Team 2                 0\n",
       "batting_team           0\n",
       "bowling_team           0\n",
       "ball                   0\n",
       "batsman                0\n",
       "bowler                 0\n",
       "runs                   0\n",
       "player_dismissed       0\n",
       "city                   0\n",
       "venue                  0\n",
       "Date                   0\n",
       "toss_winner            0\n",
       "toss_decision          0\n",
       "match_winner           0\n",
       "player_of_the_match    0\n",
       "current_score          0\n",
       "over                   0\n",
       "ball_no                0\n",
       "balls_bowled           0\n",
       "balls_left             0\n",
       "wickets_left           0\n",
       "crr                    0\n",
       "last_five              0\n",
       "run_rate               0\n",
       "wickets_rate           0\n",
       "pressure_factor        0\n",
       "toss_winner_wins       0\n",
       "max_tempC              0\n",
       "min_tempC              0\n",
       "sun_hour               0\n",
       "total_precip_mm        0\n",
       "dtype: int64"
      ]
     },
     "execution_count": 43,
     "metadata": {},
     "output_type": "execute_result"
    }
   ],
   "source": [
    "combined_df.isnull().sum()"
   ]
  },
  {
   "cell_type": "code",
   "execution_count": 44,
   "id": "6acd0668",
   "metadata": {},
   "outputs": [
    {
     "data": {
      "text/html": [
       "<div>\n",
       "<style scoped>\n",
       "    .dataframe tbody tr th:only-of-type {\n",
       "        vertical-align: middle;\n",
       "    }\n",
       "\n",
       "    .dataframe tbody tr th {\n",
       "        vertical-align: top;\n",
       "    }\n",
       "\n",
       "    .dataframe thead th {\n",
       "        text-align: right;\n",
       "    }\n",
       "</style>\n",
       "<table border=\"1\" class=\"dataframe\">\n",
       "  <thead>\n",
       "    <tr style=\"text-align: right;\">\n",
       "      <th></th>\n",
       "      <th>match_id</th>\n",
       "      <th>Team 1</th>\n",
       "      <th>Team 2</th>\n",
       "      <th>batting_team</th>\n",
       "      <th>bowling_team</th>\n",
       "      <th>ball</th>\n",
       "      <th>batsman</th>\n",
       "      <th>bowler</th>\n",
       "      <th>runs</th>\n",
       "      <th>player_dismissed</th>\n",
       "      <th>...</th>\n",
       "      <th>crr</th>\n",
       "      <th>last_five</th>\n",
       "      <th>run_rate</th>\n",
       "      <th>wickets_rate</th>\n",
       "      <th>pressure_factor</th>\n",
       "      <th>toss_winner_wins</th>\n",
       "      <th>max_tempC</th>\n",
       "      <th>min_tempC</th>\n",
       "      <th>sun_hour</th>\n",
       "      <th>total_precip_mm</th>\n",
       "    </tr>\n",
       "  </thead>\n",
       "  <tbody>\n",
       "    <tr>\n",
       "      <th>0</th>\n",
       "      <td>3</td>\n",
       "      <td>India</td>\n",
       "      <td>West Indies</td>\n",
       "      <td>West Indies</td>\n",
       "      <td>India</td>\n",
       "      <td>0.1</td>\n",
       "      <td>JD Campbell</td>\n",
       "      <td>Washington Sundar</td>\n",
       "      <td>0</td>\n",
       "      <td>0</td>\n",
       "      <td>...</td>\n",
       "      <td>0.0</td>\n",
       "      <td>0.0</td>\n",
       "      <td>0.0</td>\n",
       "      <td>60.0</td>\n",
       "      <td>0.0</td>\n",
       "      <td>1</td>\n",
       "      <td>30.0</td>\n",
       "      <td>27.0</td>\n",
       "      <td>8.0</td>\n",
       "      <td>0.0</td>\n",
       "    </tr>\n",
       "    <tr>\n",
       "      <th>1</th>\n",
       "      <td>3</td>\n",
       "      <td>India</td>\n",
       "      <td>West Indies</td>\n",
       "      <td>West Indies</td>\n",
       "      <td>India</td>\n",
       "      <td>0.1</td>\n",
       "      <td>JD Campbell</td>\n",
       "      <td>Washington Sundar</td>\n",
       "      <td>0</td>\n",
       "      <td>0</td>\n",
       "      <td>...</td>\n",
       "      <td>0.0</td>\n",
       "      <td>0.0</td>\n",
       "      <td>0.0</td>\n",
       "      <td>60.0</td>\n",
       "      <td>0.0</td>\n",
       "      <td>1</td>\n",
       "      <td>30.0</td>\n",
       "      <td>27.0</td>\n",
       "      <td>8.0</td>\n",
       "      <td>0.0</td>\n",
       "    </tr>\n",
       "    <tr>\n",
       "      <th>2</th>\n",
       "      <td>3</td>\n",
       "      <td>India</td>\n",
       "      <td>West Indies</td>\n",
       "      <td>West Indies</td>\n",
       "      <td>India</td>\n",
       "      <td>0.1</td>\n",
       "      <td>JD Campbell</td>\n",
       "      <td>Washington Sundar</td>\n",
       "      <td>0</td>\n",
       "      <td>0</td>\n",
       "      <td>...</td>\n",
       "      <td>0.0</td>\n",
       "      <td>0.0</td>\n",
       "      <td>0.0</td>\n",
       "      <td>60.0</td>\n",
       "      <td>0.0</td>\n",
       "      <td>1</td>\n",
       "      <td>30.0</td>\n",
       "      <td>27.0</td>\n",
       "      <td>8.0</td>\n",
       "      <td>0.0</td>\n",
       "    </tr>\n",
       "    <tr>\n",
       "      <th>3</th>\n",
       "      <td>3</td>\n",
       "      <td>India</td>\n",
       "      <td>West Indies</td>\n",
       "      <td>West Indies</td>\n",
       "      <td>India</td>\n",
       "      <td>0.1</td>\n",
       "      <td>JD Campbell</td>\n",
       "      <td>Washington Sundar</td>\n",
       "      <td>0</td>\n",
       "      <td>0</td>\n",
       "      <td>...</td>\n",
       "      <td>0.0</td>\n",
       "      <td>0.0</td>\n",
       "      <td>0.0</td>\n",
       "      <td>60.0</td>\n",
       "      <td>0.0</td>\n",
       "      <td>1</td>\n",
       "      <td>30.0</td>\n",
       "      <td>27.0</td>\n",
       "      <td>8.0</td>\n",
       "      <td>0.0</td>\n",
       "    </tr>\n",
       "    <tr>\n",
       "      <th>4</th>\n",
       "      <td>3</td>\n",
       "      <td>India</td>\n",
       "      <td>West Indies</td>\n",
       "      <td>West Indies</td>\n",
       "      <td>India</td>\n",
       "      <td>0.1</td>\n",
       "      <td>JD Campbell</td>\n",
       "      <td>Washington Sundar</td>\n",
       "      <td>0</td>\n",
       "      <td>0</td>\n",
       "      <td>...</td>\n",
       "      <td>0.0</td>\n",
       "      <td>0.0</td>\n",
       "      <td>0.0</td>\n",
       "      <td>60.0</td>\n",
       "      <td>0.0</td>\n",
       "      <td>1</td>\n",
       "      <td>30.0</td>\n",
       "      <td>27.0</td>\n",
       "      <td>8.0</td>\n",
       "      <td>0.0</td>\n",
       "    </tr>\n",
       "  </tbody>\n",
       "</table>\n",
       "<p>5 rows × 33 columns</p>\n",
       "</div>"
      ],
      "text/plain": [
       "   match_id Team 1       Team 2 batting_team bowling_team  ball      batsman  \\\n",
       "0         3  India  West Indies  West Indies        India   0.1  JD Campbell   \n",
       "1         3  India  West Indies  West Indies        India   0.1  JD Campbell   \n",
       "2         3  India  West Indies  West Indies        India   0.1  JD Campbell   \n",
       "3         3  India  West Indies  West Indies        India   0.1  JD Campbell   \n",
       "4         3  India  West Indies  West Indies        India   0.1  JD Campbell   \n",
       "\n",
       "              bowler  runs  player_dismissed  ...  crr last_five run_rate  \\\n",
       "0  Washington Sundar     0                 0  ...  0.0       0.0      0.0   \n",
       "1  Washington Sundar     0                 0  ...  0.0       0.0      0.0   \n",
       "2  Washington Sundar     0                 0  ...  0.0       0.0      0.0   \n",
       "3  Washington Sundar     0                 0  ...  0.0       0.0      0.0   \n",
       "4  Washington Sundar     0                 0  ...  0.0       0.0      0.0   \n",
       "\n",
       "  wickets_rate pressure_factor toss_winner_wins max_tempC  min_tempC sun_hour  \\\n",
       "0         60.0             0.0                1      30.0       27.0      8.0   \n",
       "1         60.0             0.0                1      30.0       27.0      8.0   \n",
       "2         60.0             0.0                1      30.0       27.0      8.0   \n",
       "3         60.0             0.0                1      30.0       27.0      8.0   \n",
       "4         60.0             0.0                1      30.0       27.0      8.0   \n",
       "\n",
       "  total_precip_mm  \n",
       "0             0.0  \n",
       "1             0.0  \n",
       "2             0.0  \n",
       "3             0.0  \n",
       "4             0.0  \n",
       "\n",
       "[5 rows x 33 columns]"
      ]
     },
     "execution_count": 44,
     "metadata": {},
     "output_type": "execute_result"
    }
   ],
   "source": [
    "combined_df.head()"
   ]
  },
  {
   "cell_type": "code",
   "execution_count": 45,
   "id": "a77c6e74",
   "metadata": {},
   "outputs": [
    {
     "data": {
      "text/plain": [
       "array([0.])"
      ]
     },
     "execution_count": 45,
     "metadata": {},
     "output_type": "execute_result"
    }
   ],
   "source": [
    "combined_df['total_precip_mm'].unique()"
   ]
  },
  {
   "cell_type": "code",
   "execution_count": 46,
   "id": "09ca423d",
   "metadata": {},
   "outputs": [],
   "source": [
    "combined_df.drop(columns=['total_precip_mm'], inplace=True)\n"
   ]
  },
  {
   "cell_type": "code",
   "execution_count": 47,
   "id": "5816815a",
   "metadata": {
    "scrolled": false
   },
   "outputs": [
    {
     "data": {
      "text/html": [
       "<div>\n",
       "<style scoped>\n",
       "    .dataframe tbody tr th:only-of-type {\n",
       "        vertical-align: middle;\n",
       "    }\n",
       "\n",
       "    .dataframe tbody tr th {\n",
       "        vertical-align: top;\n",
       "    }\n",
       "\n",
       "    .dataframe thead th {\n",
       "        text-align: right;\n",
       "    }\n",
       "</style>\n",
       "<table border=\"1\" class=\"dataframe\">\n",
       "  <thead>\n",
       "    <tr style=\"text-align: right;\">\n",
       "      <th></th>\n",
       "      <th>match_id</th>\n",
       "      <th>Team 1</th>\n",
       "      <th>Team 2</th>\n",
       "      <th>batting_team</th>\n",
       "      <th>bowling_team</th>\n",
       "      <th>ball</th>\n",
       "      <th>batsman</th>\n",
       "      <th>bowler</th>\n",
       "      <th>runs</th>\n",
       "      <th>player_dismissed</th>\n",
       "      <th>...</th>\n",
       "      <th>wickets_left</th>\n",
       "      <th>crr</th>\n",
       "      <th>last_five</th>\n",
       "      <th>run_rate</th>\n",
       "      <th>wickets_rate</th>\n",
       "      <th>pressure_factor</th>\n",
       "      <th>toss_winner_wins</th>\n",
       "      <th>max_tempC</th>\n",
       "      <th>min_tempC</th>\n",
       "      <th>sun_hour</th>\n",
       "    </tr>\n",
       "  </thead>\n",
       "  <tbody>\n",
       "    <tr>\n",
       "      <th>425012</th>\n",
       "      <td>79</td>\n",
       "      <td>Bangladesh</td>\n",
       "      <td>Sri Lanka</td>\n",
       "      <td>Bangladesh</td>\n",
       "      <td>Sri Lanka</td>\n",
       "      <td>16.5</td>\n",
       "      <td>Mahmudullah</td>\n",
       "      <td>KMDN Kulasekara</td>\n",
       "      <td>4</td>\n",
       "      <td>4</td>\n",
       "      <td>...</td>\n",
       "      <td>6</td>\n",
       "      <td>7.069307</td>\n",
       "      <td>46.0</td>\n",
       "      <td>7.069307</td>\n",
       "      <td>0.356436</td>\n",
       "      <td>11.500000</td>\n",
       "      <td>1</td>\n",
       "      <td>35.00000</td>\n",
       "      <td>20.000000</td>\n",
       "      <td>1.000000</td>\n",
       "    </tr>\n",
       "    <tr>\n",
       "      <th>4580471</th>\n",
       "      <td>854</td>\n",
       "      <td>Sri Lanka</td>\n",
       "      <td>West Indies</td>\n",
       "      <td>Sri Lanka</td>\n",
       "      <td>West Indies</td>\n",
       "      <td>15.5</td>\n",
       "      <td>TM Dilshan</td>\n",
       "      <td>JE Taylor</td>\n",
       "      <td>2</td>\n",
       "      <td>3</td>\n",
       "      <td>...</td>\n",
       "      <td>7</td>\n",
       "      <td>6.694737</td>\n",
       "      <td>32.0</td>\n",
       "      <td>6.694737</td>\n",
       "      <td>0.442105</td>\n",
       "      <td>10.666667</td>\n",
       "      <td>0</td>\n",
       "      <td>19.00000</td>\n",
       "      <td>10.000000</td>\n",
       "      <td>17.000000</td>\n",
       "    </tr>\n",
       "    <tr>\n",
       "      <th>6040435</th>\n",
       "      <td>1143</td>\n",
       "      <td>Pakistan</td>\n",
       "      <td>Sri Lanka</td>\n",
       "      <td>Pakistan</td>\n",
       "      <td>Sri Lanka</td>\n",
       "      <td>19.3</td>\n",
       "      <td>Kamran Akmal</td>\n",
       "      <td>BAW Mendis</td>\n",
       "      <td>4</td>\n",
       "      <td>6</td>\n",
       "      <td>...</td>\n",
       "      <td>4</td>\n",
       "      <td>6.564103</td>\n",
       "      <td>29.0</td>\n",
       "      <td>6.564103</td>\n",
       "      <td>0.205128</td>\n",
       "      <td>4.833333</td>\n",
       "      <td>1</td>\n",
       "      <td>23.00000</td>\n",
       "      <td>8.000000</td>\n",
       "      <td>11.000000</td>\n",
       "    </tr>\n",
       "    <tr>\n",
       "      <th>2360718</th>\n",
       "      <td>450</td>\n",
       "      <td>Sri Lanka</td>\n",
       "      <td>West Indies</td>\n",
       "      <td>Sri Lanka</td>\n",
       "      <td>West Indies</td>\n",
       "      <td>0.4</td>\n",
       "      <td>ST Jayasuriya</td>\n",
       "      <td>JE Taylor</td>\n",
       "      <td>1</td>\n",
       "      <td>0</td>\n",
       "      <td>...</td>\n",
       "      <td>10</td>\n",
       "      <td>3.000000</td>\n",
       "      <td>0.0</td>\n",
       "      <td>3.000000</td>\n",
       "      <td>15.000000</td>\n",
       "      <td>0.000000</td>\n",
       "      <td>0</td>\n",
       "      <td>16.00000</td>\n",
       "      <td>9.000000</td>\n",
       "      <td>2.000000</td>\n",
       "    </tr>\n",
       "    <tr>\n",
       "      <th>1204969</th>\n",
       "      <td>236</td>\n",
       "      <td>England</td>\n",
       "      <td>South Africa</td>\n",
       "      <td>South Africa</td>\n",
       "      <td>England</td>\n",
       "      <td>14.6</td>\n",
       "      <td>JP Duminy</td>\n",
       "      <td>BA Stokes</td>\n",
       "      <td>1</td>\n",
       "      <td>3</td>\n",
       "      <td>...</td>\n",
       "      <td>7</td>\n",
       "      <td>11.000000</td>\n",
       "      <td>40.0</td>\n",
       "      <td>11.000000</td>\n",
       "      <td>0.466667</td>\n",
       "      <td>13.333333</td>\n",
       "      <td>1</td>\n",
       "      <td>26.18865</td>\n",
       "      <td>18.696183</td>\n",
       "      <td>10.724949</td>\n",
       "    </tr>\n",
       "    <tr>\n",
       "      <th>603917</th>\n",
       "      <td>133</td>\n",
       "      <td>England</td>\n",
       "      <td>Sri Lanka</td>\n",
       "      <td>Sri Lanka</td>\n",
       "      <td>England</td>\n",
       "      <td>13.5</td>\n",
       "      <td>CK Kapugedera</td>\n",
       "      <td>MH Yardy</td>\n",
       "      <td>4</td>\n",
       "      <td>4</td>\n",
       "      <td>...</td>\n",
       "      <td>6</td>\n",
       "      <td>5.710843</td>\n",
       "      <td>32.0</td>\n",
       "      <td>5.710843</td>\n",
       "      <td>0.433735</td>\n",
       "      <td>8.000000</td>\n",
       "      <td>0</td>\n",
       "      <td>32.00000</td>\n",
       "      <td>17.000000</td>\n",
       "      <td>13.000000</td>\n",
       "    </tr>\n",
       "    <tr>\n",
       "      <th>1202850</th>\n",
       "      <td>236</td>\n",
       "      <td>England</td>\n",
       "      <td>South Africa</td>\n",
       "      <td>South Africa</td>\n",
       "      <td>England</td>\n",
       "      <td>12.1</td>\n",
       "      <td>JP Duminy</td>\n",
       "      <td>AU Rashid</td>\n",
       "      <td>1</td>\n",
       "      <td>3</td>\n",
       "      <td>...</td>\n",
       "      <td>7</td>\n",
       "      <td>11.095890</td>\n",
       "      <td>39.0</td>\n",
       "      <td>11.095890</td>\n",
       "      <td>0.575342</td>\n",
       "      <td>13.000000</td>\n",
       "      <td>1</td>\n",
       "      <td>26.18865</td>\n",
       "      <td>18.696183</td>\n",
       "      <td>10.724949</td>\n",
       "    </tr>\n",
       "    <tr>\n",
       "      <th>6118059</th>\n",
       "      <td>1148</td>\n",
       "      <td>India</td>\n",
       "      <td>West Indies</td>\n",
       "      <td>India</td>\n",
       "      <td>West Indies</td>\n",
       "      <td>18.5</td>\n",
       "      <td>YK Pathan</td>\n",
       "      <td>JE Taylor</td>\n",
       "      <td>1</td>\n",
       "      <td>5</td>\n",
       "      <td>...</td>\n",
       "      <td>5</td>\n",
       "      <td>7.327434</td>\n",
       "      <td>57.0</td>\n",
       "      <td>7.327434</td>\n",
       "      <td>0.265487</td>\n",
       "      <td>11.400000</td>\n",
       "      <td>0</td>\n",
       "      <td>20.00000</td>\n",
       "      <td>7.000000</td>\n",
       "      <td>17.000000</td>\n",
       "    </tr>\n",
       "    <tr>\n",
       "      <th>2846260</th>\n",
       "      <td>548</td>\n",
       "      <td>South Africa</td>\n",
       "      <td>Pakistan</td>\n",
       "      <td>South Africa</td>\n",
       "      <td>Pakistan</td>\n",
       "      <td>2.3</td>\n",
       "      <td>RR Hendricks</td>\n",
       "      <td>Hasan Ali</td>\n",
       "      <td>4</td>\n",
       "      <td>0</td>\n",
       "      <td>...</td>\n",
       "      <td>10</td>\n",
       "      <td>9.600000</td>\n",
       "      <td>0.0</td>\n",
       "      <td>9.600000</td>\n",
       "      <td>4.000000</td>\n",
       "      <td>0.000000</td>\n",
       "      <td>0</td>\n",
       "      <td>26.18865</td>\n",
       "      <td>18.696183</td>\n",
       "      <td>10.724949</td>\n",
       "    </tr>\n",
       "    <tr>\n",
       "      <th>3838016</th>\n",
       "      <td>726</td>\n",
       "      <td>Afghanistan</td>\n",
       "      <td>England</td>\n",
       "      <td>England</td>\n",
       "      <td>Afghanistan</td>\n",
       "      <td>13.4</td>\n",
       "      <td>CJ Jordan</td>\n",
       "      <td>Mohammad Nabi</td>\n",
       "      <td>4</td>\n",
       "      <td>6</td>\n",
       "      <td>...</td>\n",
       "      <td>4</td>\n",
       "      <td>5.853659</td>\n",
       "      <td>28.0</td>\n",
       "      <td>5.853659</td>\n",
       "      <td>0.292683</td>\n",
       "      <td>4.666667</td>\n",
       "      <td>1</td>\n",
       "      <td>26.18865</td>\n",
       "      <td>18.696183</td>\n",
       "      <td>10.724949</td>\n",
       "    </tr>\n",
       "  </tbody>\n",
       "</table>\n",
       "<p>10 rows × 32 columns</p>\n",
       "</div>"
      ],
      "text/plain": [
       "         match_id        Team 1        Team 2  batting_team bowling_team  \\\n",
       "425012         79    Bangladesh     Sri Lanka    Bangladesh    Sri Lanka   \n",
       "4580471       854     Sri Lanka   West Indies     Sri Lanka  West Indies   \n",
       "6040435      1143      Pakistan     Sri Lanka      Pakistan    Sri Lanka   \n",
       "2360718       450     Sri Lanka   West Indies     Sri Lanka  West Indies   \n",
       "1204969       236       England  South Africa  South Africa      England   \n",
       "603917        133       England     Sri Lanka     Sri Lanka      England   \n",
       "1202850       236       England  South Africa  South Africa      England   \n",
       "6118059      1148         India   West Indies         India  West Indies   \n",
       "2846260       548  South Africa      Pakistan  South Africa     Pakistan   \n",
       "3838016       726   Afghanistan       England       England  Afghanistan   \n",
       "\n",
       "         ball        batsman           bowler  runs  player_dismissed  ...  \\\n",
       "425012   16.5    Mahmudullah  KMDN Kulasekara     4                 4  ...   \n",
       "4580471  15.5     TM Dilshan        JE Taylor     2                 3  ...   \n",
       "6040435  19.3   Kamran Akmal       BAW Mendis     4                 6  ...   \n",
       "2360718   0.4  ST Jayasuriya        JE Taylor     1                 0  ...   \n",
       "1204969  14.6      JP Duminy        BA Stokes     1                 3  ...   \n",
       "603917   13.5  CK Kapugedera         MH Yardy     4                 4  ...   \n",
       "1202850  12.1      JP Duminy        AU Rashid     1                 3  ...   \n",
       "6118059  18.5      YK Pathan        JE Taylor     1                 5  ...   \n",
       "2846260   2.3   RR Hendricks        Hasan Ali     4                 0  ...   \n",
       "3838016  13.4      CJ Jordan    Mohammad Nabi     4                 6  ...   \n",
       "\n",
       "        wickets_left        crr last_five   run_rate wickets_rate  \\\n",
       "425012             6   7.069307      46.0   7.069307     0.356436   \n",
       "4580471            7   6.694737      32.0   6.694737     0.442105   \n",
       "6040435            4   6.564103      29.0   6.564103     0.205128   \n",
       "2360718           10   3.000000       0.0   3.000000    15.000000   \n",
       "1204969            7  11.000000      40.0  11.000000     0.466667   \n",
       "603917             6   5.710843      32.0   5.710843     0.433735   \n",
       "1202850            7  11.095890      39.0  11.095890     0.575342   \n",
       "6118059            5   7.327434      57.0   7.327434     0.265487   \n",
       "2846260           10   9.600000       0.0   9.600000     4.000000   \n",
       "3838016            4   5.853659      28.0   5.853659     0.292683   \n",
       "\n",
       "        pressure_factor toss_winner_wins  max_tempC  min_tempC   sun_hour  \n",
       "425012        11.500000                1   35.00000  20.000000   1.000000  \n",
       "4580471       10.666667                0   19.00000  10.000000  17.000000  \n",
       "6040435        4.833333                1   23.00000   8.000000  11.000000  \n",
       "2360718        0.000000                0   16.00000   9.000000   2.000000  \n",
       "1204969       13.333333                1   26.18865  18.696183  10.724949  \n",
       "603917         8.000000                0   32.00000  17.000000  13.000000  \n",
       "1202850       13.000000                1   26.18865  18.696183  10.724949  \n",
       "6118059       11.400000                0   20.00000   7.000000  17.000000  \n",
       "2846260        0.000000                0   26.18865  18.696183  10.724949  \n",
       "3838016        4.666667                1   26.18865  18.696183  10.724949  \n",
       "\n",
       "[10 rows x 32 columns]"
      ]
     },
     "execution_count": 47,
     "metadata": {},
     "output_type": "execute_result"
    }
   ],
   "source": [
    "combined_df.sample(10)"
   ]
  },
  {
   "cell_type": "code",
   "execution_count": 54,
   "id": "7aa8b8f2",
   "metadata": {},
   "outputs": [],
   "source": [
    "combined_df.to_csv('combined_data.csv.gz', index=False, compression='gzip')\n"
   ]
  },
  {
   "cell_type": "code",
   "execution_count": 58,
   "id": "00e7513d",
   "metadata": {},
   "outputs": [
    {
     "data": {
      "text/plain": [
       "Index(['match_id', 'Team 1', 'Team 2', 'batting_team', 'bowling_team', 'ball',\n",
       "       'batsman', 'bowler', 'runs', 'player_dismissed', 'city', 'venue',\n",
       "       'Date', 'toss_winner', 'toss_decision', 'match_winner',\n",
       "       'player_of_the_match', 'current_score', 'over', 'ball_no',\n",
       "       'balls_bowled', 'balls_left', 'wickets_left', 'crr', 'last_five',\n",
       "       'run_rate', 'wickets_rate', 'pressure_factor', 'toss_winner_wins',\n",
       "       'max_tempC', 'min_tempC', 'sun_hour'],\n",
       "      dtype='object')"
      ]
     },
     "execution_count": 58,
     "metadata": {},
     "output_type": "execute_result"
    }
   ],
   "source": [
    "combined_df.columns"
   ]
  },
  {
   "cell_type": "code",
   "execution_count": 59,
   "id": "c61aa810",
   "metadata": {},
   "outputs": [
    {
     "name": "stdout",
     "output_type": "stream",
     "text": [
      "Column 'player_of_the_match' contains list data.\n"
     ]
    }
   ],
   "source": [
    "for column in combined_df.columns:\n",
    "    # Check if any entry in the column is a list\n",
    "    if any(isinstance(x, list) for x in combined_df[column]):\n",
    "        print(f\"Column '{column}' contains list data.\")\n",
    "    elif any(isinstance(x, dict) for x in combined_df[column]):\n",
    "        print(f\"Column '{column}' contains dictionary data.\")\n"
   ]
  },
  {
   "cell_type": "code",
   "execution_count": 60,
   "id": "64689504",
   "metadata": {},
   "outputs": [
    {
     "name": "stdout",
     "output_type": "stream",
     "text": [
      "['CH Morris']\n",
      "['AD Russell']\n",
      "['CL White']\n",
      "['DA Miller']\n",
      "['RR Rossouw']\n",
      "['SM Pollock']\n",
      "['Fakhar Zaman']\n",
      "['KD Karthik']\n",
      "['JP Faulkner']\n",
      "['Usman Shinwari']\n",
      "['Liton Das']\n",
      "['D Pretorius']\n",
      "['B Kumar']\n",
      "['Mohammad Ashraful']\n",
      "['RJ Sidebottom']\n",
      "['Shoaib Malik']\n",
      "['CJ Jordan']\n",
      "['JL Denly']\n",
      "['Shadab Khan']\n",
      "['TG Southee']\n",
      "['BB McCullum']\n",
      "['Abdul Razzaq']\n",
      "['IG Butler']\n",
      "['C Kieswetter']\n",
      "['SA Abbott']\n",
      "['DJ Bravo']\n",
      "['SK Raina']\n",
      "['JM Vince']\n",
      "['HE van der Dussen']\n",
      "['Najibullah Zadran']\n",
      "['YS Chahal']\n",
      "['LRPL Taylor']\n",
      "['HH Pandya']\n",
      "['Shaheen Shah Afridi']\n",
      "['IK Pathan']\n",
      "['LH Ferguson']\n",
      "['N Dickwella']\n",
      "['AU Rashid']\n",
      "['LE Bosman']\n",
      "['DL Vettori']\n",
      "['Mohammad Asif']\n",
      "['Salman Butt']\n",
      "['CRD Fernando']\n",
      "['Babar Azam']\n",
      "['DJ Hussey']\n",
      "['PD Collingwood']\n",
      "['SR Watson']\n",
      "['R Ashwin']\n",
      "['DPMD Jayawardene']\n",
      "['JW Dernbach']\n",
      "['HD Rutherford']\n",
      "['TT Bresnan']\n",
      "['NA Saini']\n",
      "['MJ Guptill']\n",
      "['GJ Maxwell']\n",
      "['JS Patel']\n",
      "['PBB Rajapaksa']\n",
      "['AB de Villiers']\n",
      "['Mohammad Nabi']\n",
      "['RE Levi']\n",
      "['SPD Smith']\n",
      "['KS Williamson']\n",
      "['AD Mascarenhas']\n",
      "['CD McMillan']\n",
      "['J Theron']\n",
      "['M Morkel']\n",
      "['SP Narine']\n",
      "['C de Grandhomme']\n",
      "['V Kohli']\n",
      "['GE Mathurin']\n",
      "['NW Bracken']\n",
      "['AC Agar']\n",
      "['DR Martyn']\n",
      "['Imran Nazir']\n",
      "['HM Amla']\n",
      "['Tamim Iqbal']\n",
      "['BKG Mendis']\n",
      "['Mahmudullah']\n",
      "['F du Plessis']\n",
      "['R McLaren']\n",
      "['Younis Khan']\n",
      "['KL Rahul']\n",
      "['MS Wade']\n",
      "['RE van der Merwe']\n",
      "['K Santokie']\n",
      "['Hussain Talat']\n",
      "['TM Dilshan']\n",
      "['Ahmed Shehzad']\n",
      "['IR Bell']\n",
      "['Q de Kock']\n",
      "['Wahab Riaz']\n",
      "['CJ Anderson']\n",
      "['AD Hales']\n",
      "['AD Mathews']\n",
      "['SR Clark']\n",
      "['Soumya Sarkar']\n",
      "['SL Malinga']\n",
      "['SMSM Senanayake']\n",
      "['KC Sangakkara']\n",
      "['H Davids']\n",
      "['L Ngidi']\n",
      "['PP Ojha']\n",
      "['CA Ingram']\n",
      "['SN Thakur']\n",
      "['GC Smith']\n",
      "['Shahid Afridi']\n",
      "['JE Root']\n",
      "['Nasir Jamshed']\n",
      "['XM Marshall']\n",
      "['LE Plunkett']\n",
      "['RT Ponting']\n",
      "['CJ Boyce']\n",
      "['MA Starc']\n",
      "['KP Pietersen']\n",
      "['JJ Bumrah']\n",
      "['SB Styris']\n",
      "['MH Yardy']\n",
      "['C Munro']\n",
      "['A Mishra']\n",
      "['KH Pandya']\n",
      "['NM Coulter-Nile']\n",
      "['RK Kleinveldt']\n",
      "['MD Gunathilaka']\n",
      "['KA Pollard']\n",
      "['DAJ Bracewell']\n",
      "['Harbhajan Singh']\n",
      "['A Symonds']\n",
      "['B Lee']\n",
      "['J Botha']\n",
      "['LMP Simmons']\n",
      "['KW Richardson']\n",
      "['A Zampa']\n",
      "['Mohammad Rizwan']\n",
      "['DJM Short']\n",
      "['JE Taylor']\n",
      "['Karim Janat']\n",
      "['DM de Silva']\n",
      "['GD Phillips']\n",
      "['MJ McClenaghan']\n",
      "['MJ Clarke']\n",
      "['Mohammad Amir']\n",
      "['PWH de Silva']\n",
      "['Anwar Ali']\n",
      "['HMRKB Herath']\n",
      "['MG Johnson']\n",
      "['S Badrinath']\n",
      "['Rashid Khan']\n",
      "['Sabbir Rahman']\n",
      "['NL McCullum']\n",
      "['DAS Gunaratne']\n",
      "['YK Pathan']\n",
      "['BAW Mendis']\n",
      "['JP Duminy']\n",
      "['Sohail Tanvir']\n",
      "['JA Duffy']\n",
      "['DJ Malan']\n",
      "['AM Phangiso']\n",
      "['S Randiv']\n",
      "['RS Bopara']\n",
      "['WD Parnell']\n",
      "['MDKJ Perera']\n",
      "['V Shankar']\n",
      "['MJ Swepson']\n",
      "['J Charles']\n",
      "['RG Sharma']\n",
      "['Imran Tahir']\n",
      "['Abdur Razzak']\n",
      "['MEK Hussey']\n",
      "['Aizaz Cheema']\n",
      "['ADS Fletcher']\n",
      "['E Leie']\n",
      "['Junaid Siddique']\n",
      "['JM Bairstow']\n",
      "['Mohammad Hafeez']\n",
      "['Imad Wasim']\n",
      "['LJ Wright']\n",
      "['Mushfiqur Rahim']\n",
      "['MN van Wyk']\n",
      "['JR Hazlewood']\n",
      "['Hasan Ali']\n",
      "['MN Samuels']\n",
      "['EJG Morgan']\n",
      "['JA Morkel']\n",
      "['T Shamsi']\n",
      "['OA Shah']\n",
      "['DR Smith']\n",
      "['SW Billings']\n",
      "['MJ Santner']\n",
      "['DJ Willey']\n",
      "['ST Jayasuriya']\n",
      "['DA Warner']\n",
      "['L Ronchi']\n",
      "['MR Marsh']\n",
      "['NLTC Perera']\n",
      "['S Dhawan']\n",
      "['TL Seifert']\n",
      "['B Stanlake']\n",
      "['Kuldeep Yadav']\n",
      "['DJG Sammy']\n",
      "['H Klaasen']\n",
      "['AP Devcich']\n",
      "['RA Jadeja']\n",
      "['CH Gayle']\n",
      "['D Bishoo']\n",
      "['JD Ryder']\n",
      "['E Lewis']\n",
      "['RR Sarwan']\n",
      "['Shahid Afridi', 'Umar Gul']\n",
      "['JH Kallis']\n",
      "['Shakib Al Hasan']\n",
      "['G Gambhir']\n",
      "['Umar Gul']\n",
      "['A Nehra']\n",
      "['Raza Hasan']\n",
      "['BJ Hodge']\n",
      "['Sarfraz Ahmed']\n",
      "['DL Chahar']\n",
      "['KMDN Kulasekara']\n",
      "['SW Tait']\n",
      "['AJ Finch']\n",
      "['TA Boult']\n",
      "['GJ Bailey']\n",
      "['SCJ Broad']\n",
      "['BE Hendricks']\n",
      "['Umar Akmal']\n",
      "['JC Buttler']\n",
      "['SS Cottrell']\n",
      "['Rahmanullah Gurbaz']\n",
      "['DW Steyn']\n",
      "['CAK Rajitha']\n",
      "['JP Behrendorff']\n",
      "['JJ Roy']\n",
      "['Yuvraj Singh']\n",
      "['MM Ali']\n",
      "['Saeed Ajmal']\n",
      "['JM Kemp']\n",
      "['JEC Franklin']\n",
      "['SS Iyer']\n",
      "['JD Unadkat']\n",
      "['KOK Williams']\n",
      "['Misbah-ul-Haq']\n"
     ]
    }
   ],
   "source": [
    "# Set to collect unique representations of the lists\n",
    "unique_lists = set()\n",
    "\n",
    "# Loop through the column and add unique list types to the set\n",
    "for item in combined_df['player_of_the_match']:\n",
    "    if isinstance(item, list):\n",
    "        # Convert list to a tuple (which is hashable and can be added to a set)\n",
    "        unique_lists.add(tuple(item))\n",
    "\n",
    "# Print each unique list found in the column\n",
    "for unique_list in unique_lists:\n",
    "    print(list(unique_list))  # Convert tuple back to list for nicer formatting\n"
   ]
  },
  {
   "cell_type": "code",
   "execution_count": 61,
   "id": "62adfe8a",
   "metadata": {},
   "outputs": [],
   "source": [
    "# Convert list of names to a single underscore-separated string\n",
    "combined_df['player_of_the_match'] = combined_df['player_of_the_match'].apply(\n",
    "    lambda x: '_'.join(x).replace(' ', '_') if isinstance(x, list) else x.replace(' ', '_')\n",
    ")\n"
   ]
  },
  {
   "cell_type": "code",
   "execution_count": 62,
   "id": "71b8247f",
   "metadata": {},
   "outputs": [
    {
     "name": "stdout",
     "output_type": "stream",
     "text": [
      "2802778     CD_McMillan\n",
      "5631931      MN_Samuels\n",
      "3076324       SN_Thakur\n",
      "102624       Babar_Azam\n",
      "7494099       JP_Duminy\n",
      "752731      JP_Faulkner\n",
      "7394795      BAW_Mendis\n",
      "3939668         C_Munro\n",
      "6497833    Shoaib_Malik\n",
      "7424427      WD_Parnell\n",
      "Name: player_of_the_match, dtype: object\n"
     ]
    }
   ],
   "source": [
    "# Sample some entries to verify the format\n",
    "print(combined_df['player_of_the_match'].sample(10))\n"
   ]
  },
  {
   "cell_type": "code",
   "execution_count": 63,
   "id": "3e2de76e",
   "metadata": {},
   "outputs": [],
   "source": [
    "# Assert no entries are lists\n",
    "assert not combined_df['player_of_the_match'].apply(isinstance, args=(list,)).any(), \"Some entries are still lists.\"\n",
    "\n",
    "# Optional: Check if all entries are strings now\n",
    "assert combined_df['player_of_the_match'].apply(isinstance, args=(str,)).all(), \"Not all entries are strings.\"\n"
   ]
  },
  {
   "cell_type": "code",
   "execution_count": 66,
   "id": "1b852733",
   "metadata": {},
   "outputs": [
    {
     "data": {
      "text/plain": [
       "7754562"
      ]
     },
     "execution_count": 66,
     "metadata": {},
     "output_type": "execute_result"
    }
   ],
   "source": [
    "combined_df.duplicated().sum()"
   ]
  },
  {
   "cell_type": "code",
   "execution_count": 68,
   "id": "70748721",
   "metadata": {
    "scrolled": true
   },
   "outputs": [
    {
     "data": {
      "text/html": [
       "<div>\n",
       "<style scoped>\n",
       "    .dataframe tbody tr th:only-of-type {\n",
       "        vertical-align: middle;\n",
       "    }\n",
       "\n",
       "    .dataframe tbody tr th {\n",
       "        vertical-align: top;\n",
       "    }\n",
       "\n",
       "    .dataframe thead th {\n",
       "        text-align: right;\n",
       "    }\n",
       "</style>\n",
       "<table border=\"1\" class=\"dataframe\">\n",
       "  <thead>\n",
       "    <tr style=\"text-align: right;\">\n",
       "      <th></th>\n",
       "      <th>match_id</th>\n",
       "      <th>Team 1</th>\n",
       "      <th>Team 2</th>\n",
       "      <th>batting_team</th>\n",
       "      <th>bowling_team</th>\n",
       "      <th>ball</th>\n",
       "      <th>batsman</th>\n",
       "      <th>bowler</th>\n",
       "      <th>runs</th>\n",
       "      <th>player_dismissed</th>\n",
       "      <th>...</th>\n",
       "      <th>wickets_left</th>\n",
       "      <th>crr</th>\n",
       "      <th>last_five</th>\n",
       "      <th>run_rate</th>\n",
       "      <th>wickets_rate</th>\n",
       "      <th>pressure_factor</th>\n",
       "      <th>toss_winner_wins</th>\n",
       "      <th>max_tempC</th>\n",
       "      <th>min_tempC</th>\n",
       "      <th>sun_hour</th>\n",
       "    </tr>\n",
       "  </thead>\n",
       "  <tbody>\n",
       "    <tr>\n",
       "      <th>0</th>\n",
       "      <td>3</td>\n",
       "      <td>India</td>\n",
       "      <td>West Indies</td>\n",
       "      <td>West Indies</td>\n",
       "      <td>India</td>\n",
       "      <td>0.1</td>\n",
       "      <td>JD Campbell</td>\n",
       "      <td>Washington Sundar</td>\n",
       "      <td>0</td>\n",
       "      <td>0</td>\n",
       "      <td>...</td>\n",
       "      <td>10</td>\n",
       "      <td>0.0</td>\n",
       "      <td>0.0</td>\n",
       "      <td>0.0</td>\n",
       "      <td>60.0</td>\n",
       "      <td>0.0</td>\n",
       "      <td>1</td>\n",
       "      <td>30.0</td>\n",
       "      <td>27.0</td>\n",
       "      <td>8.0</td>\n",
       "    </tr>\n",
       "    <tr>\n",
       "      <th>1</th>\n",
       "      <td>3</td>\n",
       "      <td>India</td>\n",
       "      <td>West Indies</td>\n",
       "      <td>West Indies</td>\n",
       "      <td>India</td>\n",
       "      <td>0.1</td>\n",
       "      <td>JD Campbell</td>\n",
       "      <td>Washington Sundar</td>\n",
       "      <td>0</td>\n",
       "      <td>0</td>\n",
       "      <td>...</td>\n",
       "      <td>10</td>\n",
       "      <td>0.0</td>\n",
       "      <td>0.0</td>\n",
       "      <td>0.0</td>\n",
       "      <td>60.0</td>\n",
       "      <td>0.0</td>\n",
       "      <td>1</td>\n",
       "      <td>30.0</td>\n",
       "      <td>27.0</td>\n",
       "      <td>8.0</td>\n",
       "    </tr>\n",
       "    <tr>\n",
       "      <th>2</th>\n",
       "      <td>3</td>\n",
       "      <td>India</td>\n",
       "      <td>West Indies</td>\n",
       "      <td>West Indies</td>\n",
       "      <td>India</td>\n",
       "      <td>0.1</td>\n",
       "      <td>JD Campbell</td>\n",
       "      <td>Washington Sundar</td>\n",
       "      <td>0</td>\n",
       "      <td>0</td>\n",
       "      <td>...</td>\n",
       "      <td>10</td>\n",
       "      <td>0.0</td>\n",
       "      <td>0.0</td>\n",
       "      <td>0.0</td>\n",
       "      <td>60.0</td>\n",
       "      <td>0.0</td>\n",
       "      <td>1</td>\n",
       "      <td>30.0</td>\n",
       "      <td>27.0</td>\n",
       "      <td>8.0</td>\n",
       "    </tr>\n",
       "    <tr>\n",
       "      <th>3</th>\n",
       "      <td>3</td>\n",
       "      <td>India</td>\n",
       "      <td>West Indies</td>\n",
       "      <td>West Indies</td>\n",
       "      <td>India</td>\n",
       "      <td>0.1</td>\n",
       "      <td>JD Campbell</td>\n",
       "      <td>Washington Sundar</td>\n",
       "      <td>0</td>\n",
       "      <td>0</td>\n",
       "      <td>...</td>\n",
       "      <td>10</td>\n",
       "      <td>0.0</td>\n",
       "      <td>0.0</td>\n",
       "      <td>0.0</td>\n",
       "      <td>60.0</td>\n",
       "      <td>0.0</td>\n",
       "      <td>1</td>\n",
       "      <td>30.0</td>\n",
       "      <td>27.0</td>\n",
       "      <td>8.0</td>\n",
       "    </tr>\n",
       "    <tr>\n",
       "      <th>4</th>\n",
       "      <td>3</td>\n",
       "      <td>India</td>\n",
       "      <td>West Indies</td>\n",
       "      <td>West Indies</td>\n",
       "      <td>India</td>\n",
       "      <td>0.1</td>\n",
       "      <td>JD Campbell</td>\n",
       "      <td>Washington Sundar</td>\n",
       "      <td>0</td>\n",
       "      <td>0</td>\n",
       "      <td>...</td>\n",
       "      <td>10</td>\n",
       "      <td>0.0</td>\n",
       "      <td>0.0</td>\n",
       "      <td>0.0</td>\n",
       "      <td>60.0</td>\n",
       "      <td>0.0</td>\n",
       "      <td>1</td>\n",
       "      <td>30.0</td>\n",
       "      <td>27.0</td>\n",
       "      <td>8.0</td>\n",
       "    </tr>\n",
       "  </tbody>\n",
       "</table>\n",
       "<p>5 rows × 32 columns</p>\n",
       "</div>"
      ],
      "text/plain": [
       "   match_id Team 1       Team 2 batting_team bowling_team  ball      batsman  \\\n",
       "0         3  India  West Indies  West Indies        India   0.1  JD Campbell   \n",
       "1         3  India  West Indies  West Indies        India   0.1  JD Campbell   \n",
       "2         3  India  West Indies  West Indies        India   0.1  JD Campbell   \n",
       "3         3  India  West Indies  West Indies        India   0.1  JD Campbell   \n",
       "4         3  India  West Indies  West Indies        India   0.1  JD Campbell   \n",
       "\n",
       "              bowler  runs  player_dismissed  ... wickets_left  crr last_five  \\\n",
       "0  Washington Sundar     0                 0  ...           10  0.0       0.0   \n",
       "1  Washington Sundar     0                 0  ...           10  0.0       0.0   \n",
       "2  Washington Sundar     0                 0  ...           10  0.0       0.0   \n",
       "3  Washington Sundar     0                 0  ...           10  0.0       0.0   \n",
       "4  Washington Sundar     0                 0  ...           10  0.0       0.0   \n",
       "\n",
       "  run_rate wickets_rate pressure_factor toss_winner_wins  max_tempC min_tempC  \\\n",
       "0      0.0         60.0             0.0                1       30.0      27.0   \n",
       "1      0.0         60.0             0.0                1       30.0      27.0   \n",
       "2      0.0         60.0             0.0                1       30.0      27.0   \n",
       "3      0.0         60.0             0.0                1       30.0      27.0   \n",
       "4      0.0         60.0             0.0                1       30.0      27.0   \n",
       "\n",
       "  sun_hour  \n",
       "0      8.0  \n",
       "1      8.0  \n",
       "2      8.0  \n",
       "3      8.0  \n",
       "4      8.0  \n",
       "\n",
       "[5 rows x 32 columns]"
      ]
     },
     "execution_count": 68,
     "metadata": {},
     "output_type": "execute_result"
    }
   ],
   "source": [
    "# Find duplicated rows\n",
    "duplicates = combined_df[combined_df.duplicated(keep=False)]  # 'keep=False' marks all duplicates as True\n",
    "\n",
    "# Display the duplicated rows to understand what data is being repeated\n",
    "duplicates.head()\n"
   ]
  },
  {
   "cell_type": "code",
   "execution_count": 69,
   "id": "693930b8",
   "metadata": {},
   "outputs": [
    {
     "name": "stdout",
     "output_type": "stream",
     "text": [
      "Original DataFrame size: (7818131, 32)\n",
      "Cleaned DataFrame size: (63569, 32)\n"
     ]
    }
   ],
   "source": [
    "# Removing duplicates, keeping the first occurrence\n",
    "cleaned_df = combined_df.drop_duplicates(keep='first')\n",
    "\n",
    "# Verifying the change\n",
    "print(f\"Original DataFrame size: {combined_df.shape}\")\n",
    "print(f\"Cleaned DataFrame size: {cleaned_df.shape}\")\n"
   ]
  },
  {
   "cell_type": "code",
   "execution_count": 70,
   "id": "c20bc1c7",
   "metadata": {},
   "outputs": [
    {
     "name": "stdout",
     "output_type": "stream",
     "text": [
      "Remaining duplicates after cleaning: 0\n"
     ]
    }
   ],
   "source": [
    "# Check if there are any duplicates left\n",
    "remaining_duplicates = cleaned_df.duplicated().sum()\n",
    "print(f\"Remaining duplicates after cleaning: {remaining_duplicates}\")\n"
   ]
  },
  {
   "cell_type": "code",
   "execution_count": 71,
   "id": "e7783244",
   "metadata": {},
   "outputs": [],
   "source": [
    "cleaned_df.to_csv('cleaned_df_with_temp.csv.gz', index=False, compression='gzip')"
   ]
  },
  {
   "cell_type": "code",
   "execution_count": 72,
   "id": "36fd463f",
   "metadata": {},
   "outputs": [
    {
     "data": {
      "text/html": [
       "<div>\n",
       "<style scoped>\n",
       "    .dataframe tbody tr th:only-of-type {\n",
       "        vertical-align: middle;\n",
       "    }\n",
       "\n",
       "    .dataframe tbody tr th {\n",
       "        vertical-align: top;\n",
       "    }\n",
       "\n",
       "    .dataframe thead th {\n",
       "        text-align: right;\n",
       "    }\n",
       "</style>\n",
       "<table border=\"1\" class=\"dataframe\">\n",
       "  <thead>\n",
       "    <tr style=\"text-align: right;\">\n",
       "      <th></th>\n",
       "      <th>match_id</th>\n",
       "      <th>Team 1</th>\n",
       "      <th>Team 2</th>\n",
       "      <th>batting_team</th>\n",
       "      <th>bowling_team</th>\n",
       "      <th>ball</th>\n",
       "      <th>batsman</th>\n",
       "      <th>bowler</th>\n",
       "      <th>runs</th>\n",
       "      <th>player_dismissed</th>\n",
       "      <th>...</th>\n",
       "      <th>wickets_left</th>\n",
       "      <th>crr</th>\n",
       "      <th>last_five</th>\n",
       "      <th>run_rate</th>\n",
       "      <th>wickets_rate</th>\n",
       "      <th>pressure_factor</th>\n",
       "      <th>toss_winner_wins</th>\n",
       "      <th>max_tempC</th>\n",
       "      <th>min_tempC</th>\n",
       "      <th>sun_hour</th>\n",
       "    </tr>\n",
       "  </thead>\n",
       "  <tbody>\n",
       "    <tr>\n",
       "      <th>0</th>\n",
       "      <td>3</td>\n",
       "      <td>India</td>\n",
       "      <td>West Indies</td>\n",
       "      <td>West Indies</td>\n",
       "      <td>India</td>\n",
       "      <td>0.1</td>\n",
       "      <td>JD Campbell</td>\n",
       "      <td>Washington Sundar</td>\n",
       "      <td>0</td>\n",
       "      <td>0</td>\n",
       "      <td>...</td>\n",
       "      <td>10</td>\n",
       "      <td>0.0</td>\n",
       "      <td>0.0</td>\n",
       "      <td>0.0</td>\n",
       "      <td>60.0</td>\n",
       "      <td>0.0</td>\n",
       "      <td>1</td>\n",
       "      <td>30.0</td>\n",
       "      <td>27.0</td>\n",
       "      <td>8.0</td>\n",
       "    </tr>\n",
       "    <tr>\n",
       "      <th>124</th>\n",
       "      <td>3</td>\n",
       "      <td>India</td>\n",
       "      <td>West Indies</td>\n",
       "      <td>West Indies</td>\n",
       "      <td>India</td>\n",
       "      <td>0.2</td>\n",
       "      <td>JD Campbell</td>\n",
       "      <td>Washington Sundar</td>\n",
       "      <td>0</td>\n",
       "      <td>1</td>\n",
       "      <td>...</td>\n",
       "      <td>9</td>\n",
       "      <td>0.0</td>\n",
       "      <td>0.0</td>\n",
       "      <td>0.0</td>\n",
       "      <td>27.0</td>\n",
       "      <td>0.0</td>\n",
       "      <td>1</td>\n",
       "      <td>30.0</td>\n",
       "      <td>27.0</td>\n",
       "      <td>8.0</td>\n",
       "    </tr>\n",
       "    <tr>\n",
       "      <th>248</th>\n",
       "      <td>3</td>\n",
       "      <td>India</td>\n",
       "      <td>West Indies</td>\n",
       "      <td>West Indies</td>\n",
       "      <td>India</td>\n",
       "      <td>0.3</td>\n",
       "      <td>N Pooran</td>\n",
       "      <td>Washington Sundar</td>\n",
       "      <td>0</td>\n",
       "      <td>1</td>\n",
       "      <td>...</td>\n",
       "      <td>9</td>\n",
       "      <td>0.0</td>\n",
       "      <td>0.0</td>\n",
       "      <td>0.0</td>\n",
       "      <td>18.0</td>\n",
       "      <td>0.0</td>\n",
       "      <td>1</td>\n",
       "      <td>30.0</td>\n",
       "      <td>27.0</td>\n",
       "      <td>8.0</td>\n",
       "    </tr>\n",
       "    <tr>\n",
       "      <th>372</th>\n",
       "      <td>3</td>\n",
       "      <td>India</td>\n",
       "      <td>West Indies</td>\n",
       "      <td>West Indies</td>\n",
       "      <td>India</td>\n",
       "      <td>0.4</td>\n",
       "      <td>N Pooran</td>\n",
       "      <td>Washington Sundar</td>\n",
       "      <td>1</td>\n",
       "      <td>1</td>\n",
       "      <td>...</td>\n",
       "      <td>9</td>\n",
       "      <td>1.5</td>\n",
       "      <td>0.0</td>\n",
       "      <td>1.5</td>\n",
       "      <td>13.5</td>\n",
       "      <td>0.0</td>\n",
       "      <td>1</td>\n",
       "      <td>30.0</td>\n",
       "      <td>27.0</td>\n",
       "      <td>8.0</td>\n",
       "    </tr>\n",
       "    <tr>\n",
       "      <th>496</th>\n",
       "      <td>3</td>\n",
       "      <td>India</td>\n",
       "      <td>West Indies</td>\n",
       "      <td>West Indies</td>\n",
       "      <td>India</td>\n",
       "      <td>0.5</td>\n",
       "      <td>E Lewis</td>\n",
       "      <td>Washington Sundar</td>\n",
       "      <td>0</td>\n",
       "      <td>1</td>\n",
       "      <td>...</td>\n",
       "      <td>9</td>\n",
       "      <td>1.2</td>\n",
       "      <td>0.0</td>\n",
       "      <td>1.2</td>\n",
       "      <td>10.8</td>\n",
       "      <td>0.0</td>\n",
       "      <td>1</td>\n",
       "      <td>30.0</td>\n",
       "      <td>27.0</td>\n",
       "      <td>8.0</td>\n",
       "    </tr>\n",
       "  </tbody>\n",
       "</table>\n",
       "<p>5 rows × 32 columns</p>\n",
       "</div>"
      ],
      "text/plain": [
       "     match_id Team 1       Team 2 batting_team bowling_team  ball  \\\n",
       "0           3  India  West Indies  West Indies        India   0.1   \n",
       "124         3  India  West Indies  West Indies        India   0.2   \n",
       "248         3  India  West Indies  West Indies        India   0.3   \n",
       "372         3  India  West Indies  West Indies        India   0.4   \n",
       "496         3  India  West Indies  West Indies        India   0.5   \n",
       "\n",
       "         batsman             bowler  runs  player_dismissed  ... wickets_left  \\\n",
       "0    JD Campbell  Washington Sundar     0                 0  ...           10   \n",
       "124  JD Campbell  Washington Sundar     0                 1  ...            9   \n",
       "248     N Pooran  Washington Sundar     0                 1  ...            9   \n",
       "372     N Pooran  Washington Sundar     1                 1  ...            9   \n",
       "496      E Lewis  Washington Sundar     0                 1  ...            9   \n",
       "\n",
       "     crr last_five run_rate wickets_rate pressure_factor toss_winner_wins  \\\n",
       "0    0.0       0.0      0.0         60.0             0.0                1   \n",
       "124  0.0       0.0      0.0         27.0             0.0                1   \n",
       "248  0.0       0.0      0.0         18.0             0.0                1   \n",
       "372  1.5       0.0      1.5         13.5             0.0                1   \n",
       "496  1.2       0.0      1.2         10.8             0.0                1   \n",
       "\n",
       "     max_tempC min_tempC sun_hour  \n",
       "0         30.0      27.0      8.0  \n",
       "124       30.0      27.0      8.0  \n",
       "248       30.0      27.0      8.0  \n",
       "372       30.0      27.0      8.0  \n",
       "496       30.0      27.0      8.0  \n",
       "\n",
       "[5 rows x 32 columns]"
      ]
     },
     "execution_count": 72,
     "metadata": {},
     "output_type": "execute_result"
    }
   ],
   "source": [
    "cleaned_df.head()"
   ]
  },
  {
   "cell_type": "code",
   "execution_count": null,
   "id": "379c0879",
   "metadata": {},
   "outputs": [],
   "source": [
    "cleaned_df.isnull().sum()"
   ]
  },
  {
   "cell_type": "code",
   "execution_count": null,
   "id": "d1d56484",
   "metadata": {},
   "outputs": [],
   "source": []
  }
 ],
 "metadata": {
  "kernelspec": {
   "display_name": "Python 3 (ipykernel)",
   "language": "python",
   "name": "python3"
  },
  "language_info": {
   "codemirror_mode": {
    "name": "ipython",
    "version": 3
   },
   "file_extension": ".py",
   "mimetype": "text/x-python",
   "name": "python",
   "nbconvert_exporter": "python",
   "pygments_lexer": "ipython3",
   "version": "3.11.4"
  },
  "varInspector": {
   "cols": {
    "lenName": 16,
    "lenType": 16,
    "lenVar": 40
   },
   "kernels_config": {
    "python": {
     "delete_cmd_postfix": "",
     "delete_cmd_prefix": "del ",
     "library": "var_list.py",
     "varRefreshCmd": "print(var_dic_list())"
    },
    "r": {
     "delete_cmd_postfix": ") ",
     "delete_cmd_prefix": "rm(",
     "library": "var_list.r",
     "varRefreshCmd": "cat(var_dic_list()) "
    }
   },
   "types_to_exclude": [
    "module",
    "function",
    "builtin_function_or_method",
    "instance",
    "_Feature"
   ],
   "window_display": false
  }
 },
 "nbformat": 4,
 "nbformat_minor": 5
}
