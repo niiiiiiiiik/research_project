{
 "cells": [
  {
   "cell_type": "code",
   "execution_count": 1,
   "id": "ebc82862",
   "metadata": {},
   "outputs": [],
   "source": [
    "import pandas as pd \n",
    "import numpy as np \n"
   ]
  },
  {
   "cell_type": "code",
   "execution_count": 2,
   "id": "90238ae5",
   "metadata": {},
   "outputs": [],
   "source": [
    "cleaned_df= pd.read_csv(\"cleaned_df_with_temp.csv\")"
   ]
  },
  {
   "cell_type": "code",
   "execution_count": 3,
   "id": "eccc7c6d",
   "metadata": {},
   "outputs": [
    {
     "data": {
      "text/plain": [
       "match_id               0\n",
       "Team 1                 0\n",
       "Team 2                 0\n",
       "batting_team           0\n",
       "bowling_team           0\n",
       "ball                   0\n",
       "batsman                0\n",
       "bowler                 0\n",
       "runs                   0\n",
       "player_dismissed       0\n",
       "city                   0\n",
       "venue                  0\n",
       "Date                   0\n",
       "toss_winner            0\n",
       "toss_decision          0\n",
       "match_winner           0\n",
       "player_of_the_match    0\n",
       "current_score          0\n",
       "over                   0\n",
       "ball_no                0\n",
       "balls_bowled           0\n",
       "balls_left             0\n",
       "wickets_left           0\n",
       "crr                    0\n",
       "last_five              0\n",
       "run_rate               0\n",
       "wickets_rate           0\n",
       "pressure_factor        0\n",
       "toss_winner_wins       0\n",
       "max_tempC              0\n",
       "min_tempC              0\n",
       "sun_hour               0\n",
       "dtype: int64"
      ]
     },
     "execution_count": 3,
     "metadata": {},
     "output_type": "execute_result"
    }
   ],
   "source": [
    "cleaned_df.isnull().sum()"
   ]
  },
  {
   "cell_type": "code",
   "execution_count": 4,
   "id": "2a60f9b0",
   "metadata": {},
   "outputs": [
    {
     "name": "stdout",
     "output_type": "stream",
     "text": [
      "Remaining duplicates after cleaning: 0\n"
     ]
    }
   ],
   "source": [
    "# Check if there are any duplicates left\n",
    "remaining_duplicates = cleaned_df.duplicated().sum()\n",
    "print(f\"Remaining duplicates after cleaning: {remaining_duplicates}\")\n"
   ]
  },
  {
   "cell_type": "code",
   "execution_count": 5,
   "id": "fb7050b1",
   "metadata": {},
   "outputs": [],
   "source": [
    "def train_and_evaluate(model, X_train, X_test, y_train, y_test, force_dense=False):\n",
    "    if force_dense:\n",
    "        pipeline = Pipeline([\n",
    "            ('preprocessor', preprocessor),\n",
    "            ('to_dense', FunctionTransformer(lambda x: x.toarray(), accept_sparse=True)),\n",
    "            ('model', model)\n",
    "        ])\n",
    "    else:\n",
    "        pipeline = Pipeline([\n",
    "            ('preprocessor', preprocessor),\n",
    "            ('model', model)\n",
    "        ])\n",
    "    \n",
    "    pipeline.fit(X_train, y_train)\n",
    "    predictions = pipeline.predict(X_test)\n",
    "    print(f\"Model: {model.__class__.__name__}\")\n",
    "    print(\"Overall Accuracy:\", accuracy_score(y_test, predictions))\n",
    "    print(classification_report(y_test, predictions))\n",
    "    print(\"-\" * 80)\n"
   ]
  },
  {
   "cell_type": "code",
   "execution_count": 6,
   "id": "0d5b9bf7",
   "metadata": {},
   "outputs": [
    {
     "name": "stdout",
     "output_type": "stream",
     "text": [
      "   principal component 1  principal component 2  match_id\n",
      "0              -7.147135               0.084766         3\n",
      "1              -5.652693              -0.970166         3\n",
      "2              -5.265025              -1.217754         3\n",
      "3              -4.519396              -1.156597         3\n",
      "4              -4.511683              -1.268582         3\n"
     ]
    }
   ],
   "source": [
    "import pandas as pd\n",
    "from sklearn.decomposition import PCA\n",
    "from sklearn.preprocessing import StandardScaler\n",
    "\n",
    "# Assuming 'cleaned_df' is your DataFrame and you've already defined your features\n",
    "features = ['current_score', 'wickets_left', 'crr', 'last_five', 'run_rate', 'wickets_rate', 'pressure_factor', 'max_tempC', 'min_tempC', 'sun_hour']\n",
    "\n",
    "# Separating out the features\n",
    "x = cleaned_df.loc[:, features].values\n",
    "\n",
    "# Standardizing the features\n",
    "x = StandardScaler().fit_transform(x)\n",
    "\n",
    "# Applying PCA\n",
    "pca = PCA(n_components=2)  # Reduce to 2 components for visualization or further analysis\n",
    "principalComponents = pca.fit_transform(x)\n",
    "\n",
    "# Create a DataFrame with the principal components\n",
    "principalDf = pd.DataFrame(data = principalComponents, columns = ['principal component 1', 'principal component 2'])\n",
    "\n",
    "# Optionally, you can add back the target variable or other identifiers\n",
    "principalDf['match_id'] = cleaned_df['match_id']\n",
    "\n",
    "print(principalDf.head())\n"
   ]
  },
  {
   "cell_type": "code",
   "execution_count": 7,
   "id": "253c4abe",
   "metadata": {},
   "outputs": [
    {
     "name": "stdout",
     "output_type": "stream",
     "text": [
      "Explained variance by component:  [0.33172095 0.18772627]\n"
     ]
    }
   ],
   "source": [
    "print(\"Explained variance by component: \", pca.explained_variance_ratio_)\n"
   ]
  },
  {
   "cell_type": "code",
   "execution_count": 8,
   "id": "5ecae45e",
   "metadata": {},
   "outputs": [
    {
     "data": {
      "image/png": "[encoded data removed]",
      "text/plain": [
       "<Figure size 800x600 with 2 Axes>"
      ]
     },
     "metadata": {},
     "output_type": "display_data"
    }
   ],
   "source": [
    "import matplotlib.pyplot as plt\n",
    "\n",
    "plt.figure(figsize=(8, 6))\n",
    "plt.scatter(principalDf['principal component 1'], principalDf['principal component 2'], c=cleaned_df['toss_winner_wins'])\n",
    "plt.xlabel('Principal Component 1')\n",
    "plt.ylabel('Principal Component 2')\n",
    "plt.title('PCA of Cricket Dataset')\n",
    "plt.colorbar(label='Toss Winner Wins (1=True, 0=False)')\n",
    "plt.show()\n"
   ]
  },
  {
   "cell_type": "code",
   "execution_count": 9,
   "id": "0f31c1df",
   "metadata": {},
   "outputs": [
    {
     "name": "stdout",
     "output_type": "stream",
     "text": [
      "PCA Component loadings:\n",
      "[[0.44097054 0.15712817 0.42488679 0.47283717 0.42491209 0.27813746\n",
      "  0.33637509 0.0573713  0.04699974 0.01387713]\n",
      " [0.17880766 0.31667523 0.14757405 0.10379311 0.1475303  0.17763537\n",
      "  0.10650271 0.62147241 0.60930097 0.11426086]]\n",
      "             current_score  wickets_left       crr  last_five  run_rate  \\\n",
      "Component 1       0.440971     -0.157128  0.424887   0.472837  0.424912   \n",
      "Component 2      -0.178808      0.316675  0.147574  -0.103793  0.147530   \n",
      "\n",
      "             wickets_rate  pressure_factor  max_tempC  min_tempC  sun_hour  \n",
      "Component 1     -0.278137         0.336375  -0.057371  -0.047000 -0.013877  \n",
      "Component 2      0.177635         0.106503  -0.621472  -0.609301 -0.114261  \n"
     ]
    }
   ],
   "source": [
    "# Load the original dataset again if necessary\n",
    "import pandas as pd\n",
    "from sklearn.decomposition import PCA\n",
    "from sklearn.preprocessing import StandardScaler\n",
    "\n",
    "features = ['current_score', 'wickets_left', 'crr', 'last_five', 'run_rate', 'wickets_rate', 'pressure_factor', 'max_tempC', 'min_tempC', 'sun_hour']\n",
    "x = cleaned_df[features].values\n",
    "x = StandardScaler().fit_transform(x)\n",
    "\n",
    "pca = PCA(n_components=2)\n",
    "principalComponents = pca.fit_transform(x)\n",
    "\n",
    "# Print the absolute values of the loading scores (contribution of each feature)\n",
    "print(\"PCA Component loadings:\")\n",
    "print(abs(pca.components_))\n",
    "\n",
    "# Create a DataFrame for better visualization\n",
    "components_df = pd.DataFrame(pca.components_, columns=features, index=['Component 1', 'Component 2'])\n",
    "print(components_df)\n"
   ]
  },
  {
   "cell_type": "code",
   "execution_count": 10,
   "id": "215c34b8",
   "metadata": {},
   "outputs": [
    {
     "name": "stdout",
     "output_type": "stream",
     "text": [
      "Logistic Regression Performance:\n",
      "Accuracy: 0.5288658172093755\n",
      "              precision    recall  f1-score   support\n",
      "\n",
      "           0       0.53      0.59      0.56      9670\n",
      "           1       0.53      0.46      0.49      9401\n",
      "\n",
      "    accuracy                           0.53     19071\n",
      "   macro avg       0.53      0.53      0.53     19071\n",
      "weighted avg       0.53      0.53      0.53     19071\n",
      "\n",
      "SVM Performance:\n",
      "Accuracy: 0.5437051019873106\n",
      "              precision    recall  f1-score   support\n",
      "\n",
      "           0       0.55      0.59      0.57      9670\n",
      "           1       0.54      0.50      0.52      9401\n",
      "\n",
      "    accuracy                           0.54     19071\n",
      "   macro avg       0.54      0.54      0.54     19071\n",
      "weighted avg       0.54      0.54      0.54     19071\n",
      "\n",
      "New Features Logistic Regression Performance:\n",
      "Accuracy: 0.5215248282732945\n",
      "              precision    recall  f1-score   support\n",
      "\n",
      "           0       0.53      0.52      0.53      9670\n",
      "           1       0.51      0.52      0.52      9401\n",
      "\n",
      "    accuracy                           0.52     19071\n",
      "   macro avg       0.52      0.52      0.52     19071\n",
      "weighted avg       0.52      0.52      0.52     19071\n",
      "\n"
     ]
    }
   ],
   "source": [
    "import pandas as pd\n",
    "from sklearn.model_selection import train_test_split\n",
    "from sklearn.linear_model import LogisticRegression\n",
    "from sklearn.svm import SVC\n",
    "from sklearn.metrics import accuracy_score, classification_report\n",
    "\n",
    "# Assuming principalComponents and cleaned_df['toss_winner_wins'] are available\n",
    "principalDf = pd.DataFrame(data=principalComponents, columns=['principal component 1', 'principal component 2'])\n",
    "y = cleaned_df['toss_winner_wins']\n",
    "\n",
    "# Split the dataset\n",
    "X_train, X_test, y_train, y_test = train_test_split(principalDf, y, test_size=0.3, random_state=42)\n",
    "\n",
    "# Logistic Regression Model\n",
    "logistic_model = LogisticRegression(random_state=42)\n",
    "logistic_model.fit(X_train, y_train)\n",
    "logistic_predictions = logistic_model.predict(X_test)\n",
    "\n",
    "# Support Vector Machine Model\n",
    "svm_model = SVC(random_state=42)\n",
    "svm_model.fit(X_train, y_train)\n",
    "svm_predictions = svm_model.predict(X_test)\n",
    "\n",
    "# Assessments\n",
    "print(\"Logistic Regression Performance:\")\n",
    "print(\"Accuracy:\", accuracy_score(y_test, logistic_predictions))\n",
    "print(classification_report(y_test, logistic_predictions))\n",
    "\n",
    "print(\"SVM Performance:\")\n",
    "print(\"Accuracy:\", accuracy_score(y_test, svm_predictions))\n",
    "print(classification_report(y_test, svm_predictions))\n",
    "\n",
    "# Feature Engineering\n",
    "# Adding interaction features based on PCA insights\n",
    "cleaned_df['interaction_score_temp'] = cleaned_df['current_score'] * cleaned_df['max_tempC']\n",
    "cleaned_df['performance_under_pressure'] = cleaned_df['last_five'] * cleaned_df['pressure_factor']\n",
    "\n",
    "# Use these new features in a model\n",
    "X_new_features = cleaned_df[['interaction_score_temp', 'performance_under_pressure']]\n",
    "X_train_new, X_test_new, y_train_new, y_test_new = train_test_split(X_new_features, y, test_size=0.3, random_state=42)\n",
    "\n",
    "# Re-train logistic model with new features\n",
    "logistic_model_new = LogisticRegression(random_state=42)\n",
    "logistic_model_new.fit(X_train_new, y_train_new)\n",
    "new_feature_predictions = logistic_model_new.predict(X_test_new)\n",
    "\n",
    "# New Model Assessment\n",
    "print(\"New Features Logistic Regression Performance:\")\n",
    "print(\"Accuracy:\", accuracy_score(y_test_new, new_feature_predictions))\n",
    "print(classification_report(y_test_new, new_feature_predictions))\n"
   ]
  },
  {
   "cell_type": "code",
   "execution_count": 11,
   "id": "eb2ce2d5",
   "metadata": {},
   "outputs": [
    {
     "name": "stdout",
     "output_type": "stream",
     "text": [
      "New Features Logistic Regression Performance:\n",
      "Accuracy: 0.5215248282732945\n",
      "              precision    recall  f1-score   support\n",
      "\n",
      "           0       0.53      0.52      0.53      9670\n",
      "           1       0.51      0.52      0.52      9401\n",
      "\n",
      "    accuracy                           0.52     19071\n",
      "   macro avg       0.52      0.52      0.52     19071\n",
      "weighted avg       0.52      0.52      0.52     19071\n",
      "\n"
     ]
    }
   ],
   "source": [
    "# Feature Engineering based on PCA insights\n",
    "cleaned_df['interaction_score_temp'] = cleaned_df['current_score'] * cleaned_df['max_tempC']\n",
    "cleaned_df['performance_under_pressure'] = cleaned_df['last_five'] * cleaned_df['pressure_factor']\n",
    "\n",
    "# Use these new features in a model\n",
    "X_new_features = cleaned_df[['interaction_score_temp', 'performance_under_pressure']]\n",
    "X_train_new, X_test_new, y_train_new, y_test_new = train_test_split(X_new_features, y, test_size=0.3, random_state=42)\n",
    "\n",
    "# Re-train logistic model with new features\n",
    "logistic_model_new = LogisticRegression(random_state=42)\n",
    "logistic_model_new.fit(X_train_new, y_train_new)\n",
    "new_feature_predictions = logistic_model_new.predict(X_test_new)\n",
    "\n",
    "# New Model Assessment\n",
    "print(\"New Features Logistic Regression Performance:\")\n",
    "print(\"Accuracy:\", accuracy_score(y_test_new, new_feature_predictions))\n",
    "print(classification_report(y_test_new, new_feature_predictions))"
   ]
  },
  {
   "cell_type": "code",
   "execution_count": 12,
   "id": "3f84a26e",
   "metadata": {
    "scrolled": false
   },
   "outputs": [
    {
     "name": "stdout",
     "output_type": "stream",
     "text": [
      "Model: SVC\n",
      "Overall Accuracy: 0.9880446751612396\n",
      "              precision    recall  f1-score   support\n",
      "\n",
      "           0       1.00      1.00      1.00       270\n",
      " Afghanistan       1.00      1.00      1.00       156\n",
      "   Australia       0.99      0.99      0.99      1574\n",
      "  Bangladesh       0.99      0.99      0.99       340\n",
      "     England       0.99      0.99      0.99      1475\n",
      "       India       1.00      1.00      1.00      1856\n",
      " New Zealand       0.96      0.99      0.97      1302\n",
      "    Pakistan       0.99      0.98      0.98      1820\n",
      "South Africa       0.99      0.98      0.99      1476\n",
      "   Sri Lanka       0.99      0.98      0.99      1289\n",
      " West Indies       0.99      0.99      0.99      1156\n",
      "\n",
      "    accuracy                           0.99     12714\n",
      "   macro avg       0.99      0.99      0.99     12714\n",
      "weighted avg       0.99      0.99      0.99     12714\n",
      "\n",
      "--------------------------------------------------------------------------------\n",
      "Model: DecisionTreeClassifier\n",
      "Overall Accuracy: 0.996224634261444\n",
      "              precision    recall  f1-score   support\n",
      "\n",
      "           0       0.99      1.00      1.00       270\n",
      " Afghanistan       1.00      1.00      1.00       156\n",
      "   Australia       0.99      1.00      1.00      1574\n",
      "  Bangladesh       0.99      0.99      0.99       340\n",
      "     England       1.00      1.00      1.00      1475\n",
      "       India       1.00      1.00      1.00      1856\n",
      " New Zealand       0.99      1.00      0.99      1302\n",
      "    Pakistan       1.00      0.99      0.99      1820\n",
      "South Africa       1.00      1.00      1.00      1476\n",
      "   Sri Lanka       0.99      1.00      1.00      1289\n",
      " West Indies       1.00      1.00      1.00      1156\n",
      "\n",
      "    accuracy                           1.00     12714\n",
      "   macro avg       1.00      1.00      1.00     12714\n",
      "weighted avg       1.00      1.00      1.00     12714\n",
      "\n",
      "--------------------------------------------------------------------------------\n",
      "Model: GradientBoostingClassifier\n",
      "Overall Accuracy: 0.9800220229668083\n",
      "              precision    recall  f1-score   support\n",
      "\n",
      "           0       1.00      0.99      0.99       270\n",
      " Afghanistan       1.00      1.00      1.00       156\n",
      "   Australia       0.99      0.99      0.99      1574\n",
      "  Bangladesh       0.98      0.99      0.98       340\n",
      "     England       0.99      0.95      0.97      1475\n",
      "       India       1.00      1.00      1.00      1856\n",
      " New Zealand       0.97      0.94      0.96      1302\n",
      "    Pakistan       0.98      1.00      0.99      1820\n",
      "South Africa       0.97      0.99      0.98      1476\n",
      "   Sri Lanka       0.95      0.96      0.96      1289\n",
      " West Indies       0.98      0.99      0.98      1156\n",
      "\n",
      "    accuracy                           0.98     12714\n",
      "   macro avg       0.98      0.98      0.98     12714\n",
      "weighted avg       0.98      0.98      0.98     12714\n",
      "\n",
      "--------------------------------------------------------------------------------\n",
      "Model: GaussianNB\n",
      "Overall Accuracy: 0.4483246814535158\n",
      "              precision    recall  f1-score   support\n",
      "\n",
      "           0       0.16      1.00      0.27       270\n",
      " Afghanistan       0.86      1.00      0.93       156\n",
      "   Australia       0.48      0.68      0.56      1574\n",
      "  Bangladesh       0.43      0.93      0.59       340\n",
      "     England       0.79      0.37      0.50      1475\n",
      "       India       1.00      0.17      0.29      1856\n",
      " New Zealand       0.34      0.69      0.46      1302\n",
      "    Pakistan       0.78      0.31      0.44      1820\n",
      "South Africa       0.79      0.20      0.32      1476\n",
      "   Sri Lanka       0.50      0.28      0.36      1289\n",
      " West Indies       0.38      0.80      0.52      1156\n",
      "\n",
      "    accuracy                           0.45     12714\n",
      "   macro avg       0.59      0.58      0.48     12714\n",
      "weighted avg       0.65      0.45      0.43     12714\n",
      "\n",
      "--------------------------------------------------------------------------------\n",
      "Model: LogisticRegression\n",
      "Overall Accuracy: 0.9466729589428976\n",
      "              precision    recall  f1-score   support\n",
      "\n",
      "           0       0.92      1.00      0.96       270\n",
      " Afghanistan       1.00      1.00      1.00       156\n",
      "   Australia       0.97      0.94      0.95      1574\n",
      "  Bangladesh       0.90      0.91      0.91       340\n",
      "     England       0.95      0.92      0.93      1475\n",
      "       India       0.99      0.99      0.99      1856\n",
      " New Zealand       0.96      0.97      0.97      1302\n",
      "    Pakistan       0.95      0.97      0.96      1820\n",
      "South Africa       0.95      0.95      0.95      1476\n",
      "   Sri Lanka       0.87      0.87      0.87      1289\n",
      " West Indies       0.92      0.94      0.93      1156\n",
      "\n",
      "    accuracy                           0.95     12714\n",
      "   macro avg       0.94      0.95      0.95     12714\n",
      "weighted avg       0.95      0.95      0.95     12714\n",
      "\n",
      "--------------------------------------------------------------------------------\n"
     ]
    },
    {
     "name": "stderr",
     "output_type": "stream",
     "text": [
      "/Users/nikhil/anaconda3/lib/python3.11/site-packages/sklearn/linear_model/_logistic.py:460: ConvergenceWarning: lbfgs failed to converge (status=1):\n",
      "STOP: TOTAL NO. of ITERATIONS REACHED LIMIT.\n",
      "\n",
      "Increase the number of iterations (max_iter) or scale the data as shown in:\n",
      "    https://scikit-learn.org/stable/modules/preprocessing.html\n",
      "Please also refer to the documentation for alternative solver options:\n",
      "    https://scikit-learn.org/stable/modules/linear_model.html#logistic-regression\n",
      "  n_iter_i = _check_optimize_result(\n"
     ]
    }
   ],
   "source": [
    "import pandas as pd\n",
    "from sklearn.model_selection import train_test_split\n",
    "from sklearn.preprocessing import StandardScaler, OneHotEncoder, FunctionTransformer\n",
    "from sklearn.compose import ColumnTransformer\n",
    "from sklearn.pipeline import Pipeline\n",
    "from sklearn.metrics import accuracy_score, classification_report\n",
    "from sklearn.svm import SVC\n",
    "from sklearn.tree import DecisionTreeClassifier\n",
    "from sklearn.ensemble import GradientBoostingClassifier\n",
    "from sklearn.naive_bayes import GaussianNB\n",
    "\n",
    "# Convert match_winner to string type to ensure consistency\n",
    "cleaned_df['match_winner'] = cleaned_df['match_winner'].astype(str)\n",
    "\n",
    "categorical_features = ['venue', 'batting_team', 'bowling_team', 'toss_decision', 'toss_winner']\n",
    "numerical_features = ['current_score','last_five', 'run_rate', 'max_tempC', 'min_tempC', 'sun_hour']\n",
    "\n",
    "# Column Transformer for preprocessing\n",
    "preprocessor = ColumnTransformer(\n",
    "    transformers=[\n",
    "        ('num', StandardScaler(), numerical_features),\n",
    "        ('cat', OneHotEncoder(), categorical_features)\n",
    "    ])\n",
    "\n",
    "def train_and_evaluate(model, X_train, X_test, y_train, y_test, force_dense=False):\n",
    "    # Check if the model requires dense data\n",
    "    if force_dense:\n",
    "        # Add a step to convert data to dense format if required by the model\n",
    "        pipeline = Pipeline([\n",
    "            ('preprocessor', preprocessor),\n",
    "            ('to_dense', FunctionTransformer(lambda x: x.toarray(), accept_sparse=True)),\n",
    "            ('model', model)\n",
    "        ])\n",
    "    else:\n",
    "        pipeline = Pipeline([\n",
    "            ('preprocessor', preprocessor),\n",
    "            ('model', model)\n",
    "        ])\n",
    "\n",
    "    pipeline.fit(X_train, y_train)\n",
    "    predictions = pipeline.predict(X_test)\n",
    "    print(f\"Model: {model.__class__.__name__}\")\n",
    "    print(\"Overall Accuracy:\", accuracy_score(y_test, predictions))\n",
    "    print(classification_report(y_test, predictions))\n",
    "    print(\"-\" * 80)\n",
    "\n",
    "X = cleaned_df.drop('match_winner', axis=1)\n",
    "y = cleaned_df['match_winner']\n",
    "X_train, X_test, y_train, y_test = train_test_split(X, y, test_size=0.2, random_state=42)\n",
    "\n",
    "# Models and whether they need dense data\n",
    "models = [\n",
    "    (SVC(kernel='rbf', random_state=42), False),\n",
    "    (DecisionTreeClassifier(random_state=42), False),\n",
    "    (GradientBoostingClassifier(n_estimators=100, random_state=42), False),\n",
    "    (GaussianNB(), True),  # This model requires dense data\n",
    "    (LogisticRegression(random_state=42), False)  # Adding Logistic Regression\n",
    "]\n",
    "\n",
    "# Train and evaluate each model\n",
    "for model, needs_dense in models:\n",
    "    train_and_evaluate(model, X_train, X_test, y_train, y_test, force_dense=needs_dense)\n"
   ]
  },
  {
   "cell_type": "code",
   "execution_count": 13,
   "id": "868448c3",
   "metadata": {},
   "outputs": [
    {
     "name": "stdout",
     "output_type": "stream",
     "text": [
      "Cross-validation scores: [0.5295737  0.54923706 0.54538304 0.49166273 0.51640053]\n",
      "Average cross-validation score: 0.53\n"
     ]
    }
   ],
   "source": [
    "import pandas as pd\n",
    "from sklearn.model_selection import train_test_split, cross_val_score\n",
    "from sklearn.preprocessing import StandardScaler, OneHotEncoder\n",
    "from sklearn.compose import ColumnTransformer\n",
    "from sklearn.pipeline import Pipeline\n",
    "from sklearn.tree import DecisionTreeClassifier\n",
    "\n",
    "\n",
    "X = cleaned_df.drop('match_winner', axis=1)\n",
    "y = cleaned_df['match_winner']\n",
    "\n",
    "# Define categorical and numerical features\n",
    "categorical_features = ['venue', 'batting_team', 'bowling_team', 'toss_decision', 'toss_winner']  \n",
    "numerical_features = ['current_score', 'last_five', 'run_rate', 'max_tempC', 'min_tempC', 'sun_hour']\n",
    "\n",
    "# Create the preprocessing pipeline for categorical data\n",
    "preprocessor = ColumnTransformer(\n",
    "    transformers=[\n",
    "        ('num', StandardScaler(), numerical_features),\n",
    "        ('cat', OneHotEncoder(handle_unknown='ignore'), categorical_features)\n",
    "    ])\n",
    "\n",
    "# Create the model pipeline\n",
    "pipeline = Pipeline([\n",
    "    ('preprocessor', preprocessor),\n",
    "    ('classifier', DecisionTreeClassifier(random_state=42))\n",
    "])\n",
    "\n",
    "# Perform 5-fold cross-validation\n",
    "scores = cross_val_score(pipeline, X, y, cv=5, scoring='accuracy')\n",
    "\n",
    "# Output the results\n",
    "print(\"Cross-validation scores:\", scores)\n",
    "print(\"Average cross-validation score: {:.2f}\".format(scores.mean()))\n"
   ]
  },
  {
   "cell_type": "code",
   "execution_count": 14,
   "id": "e64d9504",
   "metadata": {},
   "outputs": [
    {
     "name": "stdout",
     "output_type": "stream",
     "text": [
      "<class 'pandas.core.frame.DataFrame'>\n",
      "RangeIndex: 63569 entries, 0 to 63568\n",
      "Data columns (total 34 columns):\n",
      " #   Column                      Non-Null Count  Dtype  \n",
      "---  ------                      --------------  -----  \n",
      " 0   match_id                    63569 non-null  int64  \n",
      " 1   Team 1                      63569 non-null  object \n",
      " 2   Team 2                      63569 non-null  object \n",
      " 3   batting_team                63569 non-null  object \n",
      " 4   bowling_team                63569 non-null  object \n",
      " 5   ball                        63569 non-null  float64\n",
      " 6   batsman                     63569 non-null  object \n",
      " 7   bowler                      63569 non-null  object \n",
      " 8   runs                        63569 non-null  int64  \n",
      " 9   player_dismissed            63569 non-null  int64  \n",
      " 10  city                        63569 non-null  object \n",
      " 11  venue                       63569 non-null  object \n",
      " 12  Date                        63569 non-null  object \n",
      " 13  toss_winner                 63569 non-null  object \n",
      " 14  toss_decision               63569 non-null  object \n",
      " 15  match_winner                63569 non-null  object \n",
      " 16  player_of_the_match         63569 non-null  object \n",
      " 17  current_score               63569 non-null  int64  \n",
      " 18  over                        63569 non-null  int64  \n",
      " 19  ball_no                     63569 non-null  int64  \n",
      " 20  balls_bowled                63569 non-null  int64  \n",
      " 21  balls_left                  63569 non-null  int64  \n",
      " 22  wickets_left                63569 non-null  int64  \n",
      " 23  crr                         63569 non-null  float64\n",
      " 24  last_five                   63569 non-null  float64\n",
      " 25  run_rate                    63569 non-null  float64\n",
      " 26  wickets_rate                63569 non-null  float64\n",
      " 27  pressure_factor             63569 non-null  float64\n",
      " 28  toss_winner_wins            63569 non-null  int64  \n",
      " 29  max_tempC                   63569 non-null  float64\n",
      " 30  min_tempC                   63569 non-null  float64\n",
      " 31  sun_hour                    63569 non-null  float64\n",
      " 32  interaction_score_temp      63569 non-null  float64\n",
      " 33  performance_under_pressure  63569 non-null  float64\n",
      "dtypes: float64(11), int64(10), object(13)\n",
      "memory usage: 16.5+ MB\n"
     ]
    }
   ],
   "source": [
    "cleaned_df.info()"
   ]
  },
  {
   "cell_type": "code",
   "execution_count": 15,
   "id": "a4af44fc",
   "metadata": {},
   "outputs": [
    {
     "name": "stdout",
     "output_type": "stream",
     "text": [
      "Shape after variance threshold: (63569, 21)\n"
     ]
    }
   ],
   "source": [
    "from sklearn.feature_selection import VarianceThreshold\n",
    "\n",
    "# Define the threshold as an example\n",
    "threshold = 0.01  # Adjust this threshold based on domain knowledge\n",
    "selector = VarianceThreshold(threshold)\n",
    "X_reduced_var = selector.fit_transform(cleaned_df.select_dtypes(include=[np.number]))\n",
    "print(\"Shape after variance threshold:\", X_reduced_var.shape)\n"
   ]
  },
  {
   "cell_type": "code",
   "execution_count": 16,
   "id": "fb7679d0",
   "metadata": {},
   "outputs": [
    {
     "name": "stdout",
     "output_type": "stream",
     "text": [
      "Shape after univariate feature selection: (63569, 5)\n"
     ]
    }
   ],
   "source": [
    "from sklearn.feature_selection import SelectKBest, f_classif\n",
    "\n",
    "# Select top k features based on ANOVA F-value\n",
    "k = 5  # Number of features to select\n",
    "selector = SelectKBest(f_classif, k=k)\n",
    "X_new = selector.fit_transform(cleaned_df.select_dtypes(include=[np.number]), cleaned_df['match_winner'])\n",
    "print(\"Shape after univariate feature selection:\", X_new.shape)\n"
   ]
  },
  {
   "cell_type": "code",
   "execution_count": 17,
   "id": "eb4c95df",
   "metadata": {},
   "outputs": [
    {
     "name": "stdout",
     "output_type": "stream",
     "text": [
      "Selected features via RFE: ['crr' 'run_rate' 'max_tempC' 'min_tempC' 'sun_hour']\n"
     ]
    }
   ],
   "source": [
    "from sklearn.feature_selection import RFE\n",
    "from sklearn.ensemble import RandomForestClassifier\n",
    "from sklearn.preprocessing import OneHotEncoder\n",
    "from sklearn.compose import ColumnTransformer\n",
    "import pandas as pd\n",
    "\n",
    "# Prepare your DataFrame\n",
    "X = cleaned_df.drop(['match_id', 'match_winner'], axis=1)\n",
    "y = cleaned_df['match_winner']\n",
    "\n",
    "# Define which columns are categorical\n",
    "categorical_cols = X.select_dtypes(include=['object']).columns\n",
    "\n",
    "# Create a transformer for categorical features\n",
    "preprocessor = ColumnTransformer(\n",
    "    transformers=[\n",
    "        ('cat', OneHotEncoder(), categorical_cols)\n",
    "    ], remainder='passthrough')\n",
    "\n",
    "# Fit and transform the data\n",
    "X_preprocessed = preprocessor.fit_transform(X)\n",
    "\n",
    "# Initialize the base model and RFE\n",
    "model = RandomForestClassifier()  # Adjust your model choice\n",
    "rfe = RFE(model, n_features_to_select=5)\n",
    "\n",
    "# Fit RFE\n",
    "rfe.fit(X_preprocessed, y)\n",
    "\n",
    "# Get the features selected by RFE\n",
    "# Since the transformation changes column names, we retrieve them from the encoder\n",
    "all_features = np.concatenate(\n",
    "    [preprocessor.named_transformers_['cat'].get_feature_names_out(categorical_cols), X.select_dtypes(exclude=['object']).columns]\n",
    ")\n",
    "selected_features = all_features[rfe.support_]\n",
    "\n",
    "print(\"Selected features via RFE:\", selected_features)\n"
   ]
  },
  {
   "cell_type": "code",
   "execution_count": 18,
   "id": "3329a110",
   "metadata": {},
   "outputs": [
    {
     "name": "stdout",
     "output_type": "stream",
     "text": [
      "Index(['match_id', 'team_1', 'team_2', 'batting_team', 'bowling_team', 'ball',\n",
      "       'batsman', 'bowler', 'runs', 'player_dismissed', 'city', 'venue',\n",
      "       'Date', 'toss_winner', 'toss_decision', 'match_winner',\n",
      "       'player_of_the_match', 'current_score', 'over', 'ball_no',\n",
      "       'balls_bowled', 'balls_left', 'wickets_left', 'crr', 'last_five',\n",
      "       'run_rate', 'wickets_rate', 'pressure_factor', 'toss_winner_wins',\n",
      "       'max_tempC', 'min_tempC', 'sun_hour', 'interaction_score_temp',\n",
      "       'performance_under_pressure'],\n",
      "      dtype='object')\n"
     ]
    }
   ],
   "source": [
    "\n",
    "cleaned_df.rename(columns={'Team 1': 'team_1', 'Team 2': 'team_2'}, inplace=True)\n",
    "\n",
    "# Check the new column names to confirm they have been renamed\n",
    "print(cleaned_df.columns)"
   ]
  },
  {
   "cell_type": "code",
   "execution_count": 19,
   "id": "23c3cba4",
   "metadata": {},
   "outputs": [
    {
     "name": "stdout",
     "output_type": "stream",
     "text": [
      "Model: SVC\n",
      "Overall Accuracy: 0.9664936290703162\n",
      "              precision    recall  f1-score   support\n",
      "\n",
      "           0       0.90      1.00      0.95       270\n",
      " Afghanistan       1.00      1.00      1.00       156\n",
      "   Australia       0.98      0.97      0.97      1574\n",
      "  Bangladesh       0.92      0.91      0.92       340\n",
      "     England       1.00      0.95      0.97      1475\n",
      "       India       0.99      0.98      0.99      1856\n",
      " New Zealand       0.92      1.00      0.96      1302\n",
      "    Pakistan       0.97      0.97      0.97      1820\n",
      "South Africa       0.98      0.97      0.97      1476\n",
      "   Sri Lanka       0.94      0.94      0.94      1289\n",
      " West Indies       0.96      0.96      0.96      1156\n",
      "\n",
      "    accuracy                           0.97     12714\n",
      "   macro avg       0.96      0.97      0.96     12714\n",
      "weighted avg       0.97      0.97      0.97     12714\n",
      "\n",
      "--------------------------------------------------------------------------------\n",
      "Model: DecisionTreeClassifier\n",
      "Overall Accuracy: 0.9743589743589743\n",
      "              precision    recall  f1-score   support\n",
      "\n",
      "           0       0.90      1.00      0.95       270\n",
      " Afghanistan       1.00      1.00      1.00       156\n",
      "   Australia       0.98      0.97      0.97      1574\n",
      "  Bangladesh       1.00      0.91      0.96       340\n",
      "     England       0.98      0.96      0.97      1475\n",
      "       India       1.00      0.98      0.99      1856\n",
      " New Zealand       0.94      1.00      0.97      1302\n",
      "    Pakistan       0.97      0.98      0.98      1820\n",
      "South Africa       0.98      0.98      0.98      1476\n",
      "   Sri Lanka       0.95      0.97      0.96      1289\n",
      " West Indies       0.98      0.95      0.96      1156\n",
      "\n",
      "    accuracy                           0.97     12714\n",
      "   macro avg       0.97      0.97      0.97     12714\n",
      "weighted avg       0.97      0.97      0.97     12714\n",
      "\n",
      "--------------------------------------------------------------------------------\n",
      "Model: GradientBoostingClassifier\n",
      "Overall Accuracy: 0.974044360547428\n",
      "              precision    recall  f1-score   support\n",
      "\n",
      "           0       0.90      1.00      0.95       270\n",
      " Afghanistan       1.00      1.00      1.00       156\n",
      "   Australia       0.98      0.97      0.97      1574\n",
      "  Bangladesh       0.92      1.00      0.96       340\n",
      "     England       0.97      0.97      0.97      1475\n",
      "       India       0.99      1.00      0.99      1856\n",
      " New Zealand       0.98      0.96      0.97      1302\n",
      "    Pakistan       0.96      1.00      0.98      1820\n",
      "South Africa       0.98      0.97      0.98      1476\n",
      "   Sri Lanka       0.98      0.94      0.96      1289\n",
      " West Indies       0.98      0.96      0.97      1156\n",
      "\n",
      "    accuracy                           0.97     12714\n",
      "   macro avg       0.97      0.98      0.97     12714\n",
      "weighted avg       0.97      0.97      0.97     12714\n",
      "\n",
      "--------------------------------------------------------------------------------\n",
      "Model: GaussianNB\n",
      "Overall Accuracy: 0.4995280792826805\n",
      "              precision    recall  f1-score   support\n",
      "\n",
      "           0       0.20      1.00      0.33       270\n",
      " Afghanistan       0.86      1.00      0.93       156\n",
      "   Australia       0.50      0.69      0.58      1574\n",
      "  Bangladesh       0.44      0.93      0.60       340\n",
      "     England       0.67      0.53      0.59      1475\n",
      "       India       1.00      0.22      0.36      1856\n",
      " New Zealand       0.34      0.76      0.47      1302\n",
      "    Pakistan       0.79      0.38      0.52      1820\n",
      "South Africa       0.79      0.20      0.31      1476\n",
      "   Sri Lanka       0.68      0.36      0.47      1289\n",
      " West Indies       0.47      0.77      0.58      1156\n",
      "\n",
      "    accuracy                           0.50     12714\n",
      "   macro avg       0.61      0.62      0.52     12714\n",
      "weighted avg       0.66      0.50      0.49     12714\n",
      "\n",
      "--------------------------------------------------------------------------------\n"
     ]
    }
   ],
   "source": [
    "import pandas as pd\n",
    "from sklearn.model_selection import train_test_split\n",
    "from sklearn.preprocessing import StandardScaler, OneHotEncoder, FunctionTransformer\n",
    "from sklearn.compose import ColumnTransformer\n",
    "from sklearn.pipeline import Pipeline\n",
    "from sklearn.metrics import accuracy_score, classification_report\n",
    "from sklearn.svm import SVC\n",
    "from sklearn.tree import DecisionTreeClassifier\n",
    "from sklearn.ensemble import GradientBoostingClassifier\n",
    "from sklearn.naive_bayes import GaussianNB\n",
    "\n",
    "# Convert match_winner to string type to ensure consistency\n",
    "cleaned_df['match_winner'] = cleaned_df['match_winner'].astype(str)\n",
    "\n",
    "categorical_features = ['venue', 'team_1','team_2','batting_team', 'bowling_team', 'toss_decision', 'toss_winner']\n",
    "numerical_features = ['max_tempC', 'min_tempC','sun_hour']\n",
    "\n",
    "# Column Transformer for preprocessing\n",
    "preprocessor = ColumnTransformer(\n",
    "    transformers=[\n",
    "        ('num', StandardScaler(), numerical_features),\n",
    "        ('cat', OneHotEncoder(), categorical_features)\n",
    "    ])\n",
    "\n",
    "\n",
    "\n",
    "X = cleaned_df.drop(['match_id', 'match_winner'], axis=1)\n",
    "y = cleaned_df['match_winner']\n",
    "X_train, X_test, y_train, y_test = train_test_split(X, y, test_size=0.2, random_state=42)\n",
    "\n",
    "# Models and whether they need dense data\n",
    "models = [\n",
    "    (SVC(kernel='rbf', random_state=42), False),\n",
    "    (DecisionTreeClassifier(random_state=42), False),\n",
    "    (GradientBoostingClassifier(n_estimators=100, random_state=42), False),\n",
    "    (GaussianNB(), True)\n",
    "]\n",
    "\n",
    "# Train and evaluate each model\n",
    "for model, needs_dense in models:\n",
    "    train_and_evaluate(model, X_train, X_test, y_train, y_test, force_dense=needs_dense)\n"
   ]
  },
  {
   "cell_type": "code",
   "execution_count": 20,
   "id": "48eb4f36",
   "metadata": {},
   "outputs": [
    {
     "name": "stdout",
     "output_type": "stream",
     "text": [
      "Cross-validation scores: [0.97256907 0.97306066 0.97374889 0.97404385 0.97374889]\n",
      "Average cross-validation score: 0.97\n"
     ]
    }
   ],
   "source": [
    "from sklearn.pipeline import Pipeline\n",
    "from sklearn.preprocessing import StandardScaler, OneHotEncoder\n",
    "from sklearn.compose import ColumnTransformer\n",
    "from sklearn.ensemble import GradientBoostingClassifier\n",
    "from sklearn.model_selection import train_test_split, cross_val_score\n",
    "\n",
    "# Define the categorical and numerical features\n",
    "categorical_features = ['venue', 'team_1', 'team_2', 'batting_team', 'bowling_team', 'toss_decision', 'toss_winner']\n",
    "numerical_features = ['max_tempC', 'min_tempC', 'sun_hour']\n",
    "\n",
    "# Set up the preprocessing steps\n",
    "preprocessor = ColumnTransformer(\n",
    "    transformers=[\n",
    "        ('num', StandardScaler(), numerical_features),\n",
    "        ('cat', OneHotEncoder(handle_unknown='ignore'), categorical_features)\n",
    "    ])\n",
    "\n",
    "\n",
    "pipeline = Pipeline([\n",
    "    ('preprocessor', preprocessor),\n",
    "    ('classifier', GradientBoostingClassifier(n_estimators=100, random_state=42))\n",
    "])\n",
    "\n",
    "# Fit the pipeline on your training data\n",
    "pipeline.fit(X_train, y_train)\n",
    "\n",
    "\n",
    "# Assuming 'cleaned_df' is your DataFrame and you've prepared X and y appropriately\n",
    "X = cleaned_df.drop(['match_id', 'match_winner'], axis=1)\n",
    "y = cleaned_df['match_winner']\n",
    "\n",
    "# Split the data (ensure you're using the entire dataset if not done already)\n",
    "X_train, X_test, y_train, y_test = train_test_split(X, y, test_size=0.2, random_state=42)\n",
    "\n",
    "# Now use the full pipeline with cross-validation\n",
    "scores = cross_val_score(pipeline, X_train, y_train, cv=5)  # 5-fold cross-validation\n",
    "print(\"Cross-validation scores:\", scores)\n",
    "print(\"Average cross-validation score: {:.2f}\".format(scores.mean()))\n"
   ]
  },
  {
   "cell_type": "code",
   "execution_count": 21,
   "id": "a2eb30ae",
   "metadata": {},
   "outputs": [
    {
     "name": "stdout",
     "output_type": "stream",
     "text": [
      "Accuracy on test set: 0.974044360547428\n",
      "Classification report on test set:\n",
      "               precision    recall  f1-score   support\n",
      "\n",
      "           0       0.90      1.00      0.95       270\n",
      " Afghanistan       1.00      1.00      1.00       156\n",
      "   Australia       0.98      0.97      0.97      1574\n",
      "  Bangladesh       0.92      1.00      0.96       340\n",
      "     England       0.97      0.97      0.97      1475\n",
      "       India       0.99      1.00      0.99      1856\n",
      " New Zealand       0.98      0.96      0.97      1302\n",
      "    Pakistan       0.96      1.00      0.98      1820\n",
      "South Africa       0.98      0.97      0.98      1476\n",
      "   Sri Lanka       0.98      0.94      0.96      1289\n",
      " West Indies       0.98      0.96      0.97      1156\n",
      "\n",
      "    accuracy                           0.97     12714\n",
      "   macro avg       0.97      0.98      0.97     12714\n",
      "weighted avg       0.97      0.97      0.97     12714\n",
      "\n"
     ]
    }
   ],
   "source": [
    "# Fit the pipeline on the entire training data\n",
    "pipeline.fit(X_train, y_train)\n",
    "\n",
    "# Evaluate on the test set\n",
    "y_pred = pipeline.predict(X_test)\n",
    "print(\"Accuracy on test set:\", accuracy_score(y_test, y_pred))\n",
    "print(\"Classification report on test set:\\n\", classification_report(y_test, y_pred))\n"
   ]
  },
  {
   "cell_type": "code",
   "execution_count": 22,
   "id": "65d8cf38",
   "metadata": {},
   "outputs": [
    {
     "data": {
      "image/png": "[encoded data removed]",
      "text/plain": [
       "<Figure size 1000x700 with 2 Axes>"
      ]
     },
     "metadata": {},
     "output_type": "display_data"
    }
   ],
   "source": [
    "from sklearn.metrics import confusion_matrix\n",
    "import seaborn as sns\n",
    "import matplotlib.pyplot as plt\n",
    "\n",
    "# Confusion matrix\n",
    "cm = confusion_matrix(y_test, y_pred)\n",
    "plt.figure(figsize=(10, 7))\n",
    "sns.heatmap(cm, annot=True, fmt='d')\n",
    "plt.title('Confusion Matrix')\n",
    "plt.ylabel('Actual Label')\n",
    "plt.xlabel('Predicted Label')\n",
    "plt.show()\n"
   ]
  },
  {
   "cell_type": "code",
   "execution_count": 23,
   "id": "f1bb1db0",
   "metadata": {},
   "outputs": [
    {
     "name": "stdout",
     "output_type": "stream",
     "text": [
      "Top 10 important features:\n",
      " [('cat__bowling_team_India', 0.06393384046853129), ('cat__batting_team_India', 0.05478683447469974), ('cat__team_1_England', 0.05093563299495757), ('cat__toss_winner_Pakistan', 0.04843647463156447), ('num__min_tempC', 0.04228722152523233), ('cat__batting_team_New Zealand', 0.04219646502853201), ('num__max_tempC', 0.041251413503098), ('cat__team_2_Sri Lanka', 0.04049945285648046), ('cat__batting_team_South Africa', 0.0374562831300519), ('cat__team_1_Australia', 0.037454802780153944)]\n"
     ]
    }
   ],
   "source": [
    "feature_importances = pipeline.named_steps['classifier'].feature_importances_\n",
    "# Assuming preprocessor has transformed feature names accessible\n",
    "feature_names = pipeline.named_steps['preprocessor'].get_feature_names_out()\n",
    "\n",
    "# Map feature importances to names\n",
    "feature_imp_dict = dict(zip(feature_names, feature_importances))\n",
    "sorted_features = sorted(feature_imp_dict.items(), key=lambda x: x[1], reverse=True)\n",
    "\n",
    "# Display top 10 important features\n",
    "print(\"Top 10 important features:\\n\", sorted_features[:10])\n"
   ]
  },
  {
   "cell_type": "code",
   "execution_count": 24,
   "id": "01230ae6",
   "metadata": {},
   "outputs": [
    {
     "name": "stdout",
     "output_type": "stream",
     "text": [
      "Cross-validation F1-scores: [0.97249922 0.97296179 0.97367723 0.97395363 0.97369493]\n",
      "Average F1-score: 0.97\n"
     ]
    }
   ],
   "source": [
    "from sklearn.metrics import make_scorer, f1_score\n",
    "\n",
    "# Using F1-score as the scoring metric\n",
    "f1_scores = cross_val_score(pipeline, X_train, y_train, cv=5, scoring=make_scorer(f1_score, average='weighted'))\n",
    "print(\"Cross-validation F1-scores:\", f1_scores)\n",
    "print(\"Average F1-score: {:.2f}\".format(f1_scores.mean()))\n"
   ]
  },
  {
   "cell_type": "code",
   "execution_count": 25,
   "id": "2d2e9c71",
   "metadata": {},
   "outputs": [],
   "source": [
    "unseen_data=pd.read_csv(\"cleaned_df_with_temp_not_used.csv\")"
   ]
  },
  {
   "cell_type": "code",
   "execution_count": 26,
   "id": "5bfec294",
   "metadata": {},
   "outputs": [
    {
     "name": "stdout",
     "output_type": "stream",
     "text": [
      "Index(['match_id', 'team_1', 'team_2', 'batting_team', 'bowling_team', 'ball',\n",
      "       'batsman', 'bowler', 'runs', 'player_dismissed', 'city', 'venue',\n",
      "       'Date', 'toss_winner', 'toss_decision', 'match_winner',\n",
      "       'player_of_the_match', 'current_score', 'over', 'ball_no',\n",
      "       'balls_bowled', 'balls_left', 'wickets_left', 'crr', 'last_five',\n",
      "       'run_rate', 'wickets_rate', 'pressure_factor', 'max_tempC', 'min_tempC',\n",
      "       'sun_hour'],\n",
      "      dtype='object')\n"
     ]
    }
   ],
   "source": [
    "\n",
    "unseen_data.rename(columns={'Team 1': 'team_1', 'Team 2': 'team_2'}, inplace=True)\n",
    "\n",
    "# Check the new column names to confirm they have been renamed\n",
    "print(unseen_data.columns)"
   ]
  },
  {
   "cell_type": "code",
   "execution_count": 27,
   "id": "8f89cde2",
   "metadata": {},
   "outputs": [
    {
     "name": "stdout",
     "output_type": "stream",
     "text": [
      "Accuracy on unseen data: 0.67\n",
      "\n",
      "Classification Report on Unseen Data:\n",
      "              precision    recall  f1-score   support\n",
      "\n",
      "           0       0.00      0.00      0.00       127\n",
      " Afghanistan       1.00      0.50      0.67       490\n",
      "   Australia       0.85      0.85      0.85       830\n",
      "  Bangladesh       0.00      0.00      0.00       247\n",
      "     England       0.50      0.67      0.57       374\n",
      "       India       0.89      1.00      0.94       995\n",
      " New Zealand       0.51      0.33      0.40       766\n",
      "    Pakistan       0.36      1.00      0.53       359\n",
      "South Africa       0.64      0.78      0.70       572\n",
      "   Sri Lanka       0.57      1.00      0.72       488\n",
      " West Indies       1.00      0.34      0.50       746\n",
      "\n",
      "    accuracy                           0.67      5994\n",
      "   macro avg       0.57      0.59      0.54      5994\n",
      "weighted avg       0.70      0.67      0.64      5994\n",
      "\n"
     ]
    },
    {
     "name": "stderr",
     "output_type": "stream",
     "text": [
      "/Users/nikhil/anaconda3/lib/python3.11/site-packages/sklearn/metrics/_classification.py:1469: UndefinedMetricWarning: Precision and F-score are ill-defined and being set to 0.0 in labels with no predicted samples. Use `zero_division` parameter to control this behavior.\n",
      "  _warn_prf(average, modifier, msg_start, len(result))\n",
      "/Users/nikhil/anaconda3/lib/python3.11/site-packages/sklearn/metrics/_classification.py:1469: UndefinedMetricWarning: Precision and F-score are ill-defined and being set to 0.0 in labels with no predicted samples. Use `zero_division` parameter to control this behavior.\n",
      "  _warn_prf(average, modifier, msg_start, len(result))\n",
      "/Users/nikhil/anaconda3/lib/python3.11/site-packages/sklearn/metrics/_classification.py:1469: UndefinedMetricWarning: Precision and F-score are ill-defined and being set to 0.0 in labels with no predicted samples. Use `zero_division` parameter to control this behavior.\n",
      "  _warn_prf(average, modifier, msg_start, len(result))\n"
     ]
    },
    {
     "data": {
      "image/png": "[encoded data removed]",
      "text/plain": [
       "<Figure size 1000x700 with 2 Axes>"
      ]
     },
     "metadata": {},
     "output_type": "display_data"
    }
   ],
   "source": [
    "import pandas as pd\n",
    "from sklearn.metrics import accuracy_score, classification_report, confusion_matrix\n",
    "import seaborn as sns\n",
    "import matplotlib.pyplot as plt\n",
    "\n",
    "\n",
    "\n",
    "# Extracting features from the unseen data\n",
    "X_unseen = unseen_data.drop(['match_id', 'match_winner'], axis=1)  \n",
    "y_unseen = unseen_data['match_winner']  \n",
    "\n",
    "# Predict using the trained pipeline\n",
    "y_pred_unseen = pipeline.predict(X_unseen)\n",
    "\n",
    "# Evaluate the predictions\n",
    "accuracy = accuracy_score(y_unseen, y_pred_unseen)\n",
    "print(f\"Accuracy on unseen data: {accuracy:.2f}\")\n",
    "print(\"\\nClassification Report on Unseen Data:\")\n",
    "print(classification_report(y_unseen, y_pred_unseen))\n",
    "\n",
    "# Confusion Matrix\n",
    "cm = confusion_matrix(y_unseen, y_pred_unseen)\n",
    "plt.figure(figsize=(10, 7))\n",
    "sns.heatmap(cm, annot=True, fmt='d', cmap='Blues')\n",
    "plt.title('Confusion Matrix for Unseen Data')\n",
    "plt.ylabel('Actual Labels')\n",
    "plt.xlabel('Predicted Labels')\n",
    "plt.show()\n"
   ]
  }
 ],
 "metadata": {
  "kernelspec": {
   "display_name": "Python 3 (ipykernel)",
   "language": "python",
   "name": "python3"
  },
  "language_info": {
   "codemirror_mode": {
    "name": "ipython",
    "version": 3
   },
   "file_extension": ".py",
   "mimetype": "text/x-python",
   "name": "python",
   "nbconvert_exporter": "python",
   "pygments_lexer": "ipython3",
   "version": "3.11.4"
  },
  "varInspector": {
   "cols": {
    "lenName": 16,
    "lenType": 16,
    "lenVar": 40
   },
   "kernels_config": {
    "python": {
     "delete_cmd_postfix": "",
     "delete_cmd_prefix": "del ",
     "library": "var_list.py",
     "varRefreshCmd": "print(var_dic_list())"
    },
    "r": {
     "delete_cmd_postfix": ") ",
     "delete_cmd_prefix": "rm(",
     "library": "var_list.r",
     "varRefreshCmd": "cat(var_dic_list()) "
    }
   },
   "types_to_exclude": [
    "module",
    "function",
    "builtin_function_or_method",
    "instance",
    "_Feature"
   ],
   "window_display": false
  }
 },
 "nbformat": 4,
 "nbformat_minor": 5
}
